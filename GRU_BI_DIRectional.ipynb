{
  "metadata": {
    "kernelspec": {
      "display_name": "Python 3",
      "name": "python3"
    },
    "language_info": {
      "name": "python",
      "version": "3.10.10",
      "mimetype": "text/x-python",
      "codemirror_mode": {
        "name": "ipython",
        "version": 3
      },
      "pygments_lexer": "ipython3",
      "nbconvert_exporter": "python",
      "file_extension": ".py"
    },
    "colab": {
      "provenance": [],
      "gpuType": "T4"
    },
    "accelerator": "GPU"
  },
  "nbformat_minor": 0,
  "nbformat": 4,
  "cells": [
    {
      "cell_type": "code",
      "source": [
        "#@title ***Importing required librarys***\n",
        "\n",
        "import pandas as pd\n",
        "import numpy as np\n",
        "import re\n",
        "import nltk\n",
        "from nltk.corpus import stopwords\n",
        "from nltk.tokenize import word_tokenize\n",
        "from keras.preprocessing.text import Tokenizer\n",
        "from tensorflow.keras.preprocessing.sequence import pad_sequences\n",
        "from keras.models import Sequential\n",
        "from keras.layers import Embedding, Conv1D, MaxPooling1D, Flatten, Dense,Bidirectional\n",
        "from sklearn.model_selection import train_test_split\n",
        "from sklearn.preprocessing import LabelEncoder\n",
        "from sklearn.metrics import accuracy_score, recall_score, precision_score, f1_score, mean_squared_error, mean_absolute_error"
      ],
      "metadata": {
        "id": "FirrLHy1YEqI",
        "execution": {
          "iopub.status.busy": "2023-05-15T14:03:43.100212Z",
          "iopub.execute_input": "2023-05-15T14:03:43.100622Z",
          "iopub.status.idle": "2023-05-15T14:03:43.107050Z",
          "shell.execute_reply.started": "2023-05-15T14:03:43.100586Z",
          "shell.execute_reply": "2023-05-15T14:03:43.105919Z"
        },
        "trusted": true
      },
      "execution_count": null,
      "outputs": []
    },
    {
      "cell_type": "code",
      "source": [
        "from google.colab import drive\n",
        "drive.mount('/content/drive')"
      ],
      "metadata": {
        "id": "MzTxWay3QnLf",
        "colab": {
          "base_uri": "https://localhost:8080/"
        },
        "outputId": "2a7de73a-0a6c-46ac-dbe9-3fe3f7dd2a07"
      },
      "execution_count": null,
      "outputs": [
        {
          "output_type": "stream",
          "name": "stdout",
          "text": [
            "Drive already mounted at /content/drive; to attempt to forcibly remount, call drive.mount(\"/content/drive\", force_remount=True).\n"
          ]
        }
      ]
    },
    {
      "cell_type": "code",
      "source": [
        "#@title ***Loading the dataset***\n",
        "\n",
        "data = pd.read_csv(\"/content/drive/MyDrive/project703/file.csv\")\n",
        "data = data.drop([data.columns[0]], axis=1)\n",
        "data.values[:5].tolist()"
      ],
      "metadata": {
        "id": "l5SNv5SKZCEO",
        "execution": {
          "iopub.status.busy": "2023-05-15T14:03:43.113936Z",
          "iopub.execute_input": "2023-05-15T14:03:43.115167Z",
          "iopub.status.idle": "2023-05-15T14:03:43.819673Z",
          "shell.execute_reply.started": "2023-05-15T14:03:43.115114Z",
          "shell.execute_reply": "2023-05-15T14:03:43.818587Z"
        },
        "trusted": true,
        "outputId": "eab54e95-ed8f-4677-865c-77495410ce04",
        "colab": {
          "base_uri": "https://localhost:8080/"
        }
      },
      "execution_count": null,
      "outputs": [
        {
          "output_type": "execute_result",
          "data": {
            "text/plain": [
              "[['ChatGPT: Optimizing Language Models for Dialogue https://t.co/K9rKRygYyn @OpenAI',\n",
              "  'neutral'],\n",
              " ['Try talking with ChatGPT, our new AI system which is optimized for dialogue. Your feedback will help us improve it. https://t.co/sHDm57g3Kr',\n",
              "  'good'],\n",
              " ['ChatGPT: Optimizing Language Models for Dialogue https://t.co/GLEbMoKN6w #AI #MachineLearning #DataScience #ArtificialIntelligence\\\\n\\\\nTrending AI/ML Article Identified &amp; Digested via Granola; a Machine-Driven RSS Bot by Ramsey Elbasheer https://t.co/RprmAXUp34',\n",
              "  'neutral'],\n",
              " ['THRILLED to share that ChatGPT, our new model optimized for dialog, is now public, free, and accessible to everyone. https://t.co/dyvtHecYbd https://t.co/DdhzhqhCBX https://t.co/l8qTLure71',\n",
              "  'good'],\n",
              " ['As of 2 minutes ago, @OpenAI released their new ChatGPT. \\\\n\\\\nAnd you can use it right now 👇 https://t.co/VyPGPNw988 https://t.co/cSn5h6h1M1',\n",
              "  'bad']]"
            ]
          },
          "metadata": {},
          "execution_count": 3
        }
      ]
    },
    {
      "cell_type": "markdown",
      "source": [
        "# Drop duplicated values"
      ],
      "metadata": {
        "id": "PVJET9C5QLFX"
      }
    },
    {
      "cell_type": "code",
      "source": [
        "print(\"Duplicated values: \" , data.duplicated().sum())\n",
        "\n",
        "data.drop_duplicates(inplace=True)\n",
        "data = data.dropna(axis=0)\n",
        "print(data.info())"
      ],
      "metadata": {
        "execution": {
          "iopub.status.busy": "2023-05-15T14:03:43.821762Z",
          "iopub.execute_input": "2023-05-15T14:03:43.822721Z",
          "iopub.status.idle": "2023-05-15T14:03:44.476471Z",
          "shell.execute_reply.started": "2023-05-15T14:03:43.822682Z",
          "shell.execute_reply": "2023-05-15T14:03:44.475337Z"
        },
        "trusted": true,
        "id": "ZsvvLLArQLFd",
        "outputId": "a709f9bc-83eb-4d58-a72c-02de0e108b89",
        "colab": {
          "base_uri": "https://localhost:8080/"
        }
      },
      "execution_count": null,
      "outputs": [
        {
          "output_type": "stream",
          "name": "stdout",
          "text": [
            "Duplicated values:  1671\n",
            "<class 'pandas.core.frame.DataFrame'>\n",
            "Int64Index: 217623 entries, 0 to 219293\n",
            "Data columns (total 2 columns):\n",
            " #   Column  Non-Null Count   Dtype \n",
            "---  ------  --------------   ----- \n",
            " 0   tweets  217623 non-null  object\n",
            " 1   labels  217623 non-null  object\n",
            "dtypes: object(2)\n",
            "memory usage: 5.0+ MB\n",
            "None\n"
          ]
        }
      ]
    },
    {
      "cell_type": "markdown",
      "source": [
        "# balance data"
      ],
      "metadata": {
        "id": "dzDQxWUeQLFf"
      }
    },
    {
      "cell_type": "code",
      "source": [
        "data[\"labels\"].value_counts()"
      ],
      "metadata": {
        "execution": {
          "iopub.status.busy": "2023-05-15T14:03:44.478434Z",
          "iopub.execute_input": "2023-05-15T14:03:44.479261Z",
          "iopub.status.idle": "2023-05-15T14:03:44.514305Z",
          "shell.execute_reply.started": "2023-05-15T14:03:44.479217Z",
          "shell.execute_reply": "2023-05-15T14:03:44.513166Z"
        },
        "trusted": true,
        "id": "fKgIPLr4QLFh",
        "outputId": "874abe16-4da2-427d-9d7b-a883a984b058",
        "colab": {
          "base_uri": "https://localhost:8080/"
        }
      },
      "execution_count": null,
      "outputs": [
        {
          "output_type": "execute_result",
          "data": {
            "text/plain": [
              "bad        106695\n",
              "good        55754\n",
              "neutral     55174\n",
              "Name: labels, dtype: int64"
            ]
          },
          "metadata": {},
          "execution_count": 5
        }
      ]
    },
    {
      "cell_type": "code",
      "source": [
        "class_0 = data[data[\"labels\"] == \"neutral\"]\n",
        "class_1 = data[data[\"labels\"] == \"good\"]\n",
        "class_neg = data[data[\"labels\"] == \"bad\"]\n",
        "class_neg  = class_neg.iloc[:70000]\n",
        "data = pd.concat([class_neg , class_0 , class_1])\n",
        "\n",
        "data.head()"
      ],
      "metadata": {
        "execution": {
          "iopub.status.busy": "2023-05-15T14:03:44.517716Z",
          "iopub.execute_input": "2023-05-15T14:03:44.518104Z",
          "iopub.status.idle": "2023-05-15T14:03:44.658617Z",
          "shell.execute_reply.started": "2023-05-15T14:03:44.518068Z",
          "shell.execute_reply": "2023-05-15T14:03:44.656390Z"
        },
        "trusted": true,
        "id": "xRmBX_fHQLFj",
        "outputId": "860ed4ed-4ca7-401c-dbd9-71f43012856c",
        "colab": {
          "base_uri": "https://localhost:8080/",
          "height": 206
        }
      },
      "execution_count": null,
      "outputs": [
        {
          "output_type": "execute_result",
          "data": {
            "text/plain": [
              "                                               tweets labels\n",
              "4   As of 2 minutes ago, @OpenAI released their ne...    bad\n",
              "6   As of 2 minutes ago, @OpenAI released their ne...    bad\n",
              "10  GOD DAMN IT @OpenAI STOP ANNOUNCING THINGS I A...    bad\n",
              "17  #ai Models are set to become the search engine...    bad\n",
              "39  Google is done.\\n\\nCompare the quality of thes...    bad"
            ],
            "text/html": [
              "\n",
              "  <div id=\"df-09dd636c-1584-4004-8af5-dfe14035a39f\">\n",
              "    <div class=\"colab-df-container\">\n",
              "      <div>\n",
              "<style scoped>\n",
              "    .dataframe tbody tr th:only-of-type {\n",
              "        vertical-align: middle;\n",
              "    }\n",
              "\n",
              "    .dataframe tbody tr th {\n",
              "        vertical-align: top;\n",
              "    }\n",
              "\n",
              "    .dataframe thead th {\n",
              "        text-align: right;\n",
              "    }\n",
              "</style>\n",
              "<table border=\"1\" class=\"dataframe\">\n",
              "  <thead>\n",
              "    <tr style=\"text-align: right;\">\n",
              "      <th></th>\n",
              "      <th>tweets</th>\n",
              "      <th>labels</th>\n",
              "    </tr>\n",
              "  </thead>\n",
              "  <tbody>\n",
              "    <tr>\n",
              "      <th>4</th>\n",
              "      <td>As of 2 minutes ago, @OpenAI released their ne...</td>\n",
              "      <td>bad</td>\n",
              "    </tr>\n",
              "    <tr>\n",
              "      <th>6</th>\n",
              "      <td>As of 2 minutes ago, @OpenAI released their ne...</td>\n",
              "      <td>bad</td>\n",
              "    </tr>\n",
              "    <tr>\n",
              "      <th>10</th>\n",
              "      <td>GOD DAMN IT @OpenAI STOP ANNOUNCING THINGS I A...</td>\n",
              "      <td>bad</td>\n",
              "    </tr>\n",
              "    <tr>\n",
              "      <th>17</th>\n",
              "      <td>#ai Models are set to become the search engine...</td>\n",
              "      <td>bad</td>\n",
              "    </tr>\n",
              "    <tr>\n",
              "      <th>39</th>\n",
              "      <td>Google is done.\\n\\nCompare the quality of thes...</td>\n",
              "      <td>bad</td>\n",
              "    </tr>\n",
              "  </tbody>\n",
              "</table>\n",
              "</div>\n",
              "      <button class=\"colab-df-convert\" onclick=\"convertToInteractive('df-09dd636c-1584-4004-8af5-dfe14035a39f')\"\n",
              "              title=\"Convert this dataframe to an interactive table.\"\n",
              "              style=\"display:none;\">\n",
              "        \n",
              "  <svg xmlns=\"http://www.w3.org/2000/svg\" height=\"24px\"viewBox=\"0 0 24 24\"\n",
              "       width=\"24px\">\n",
              "    <path d=\"M0 0h24v24H0V0z\" fill=\"none\"/>\n",
              "    <path d=\"M18.56 5.44l.94 2.06.94-2.06 2.06-.94-2.06-.94-.94-2.06-.94 2.06-2.06.94zm-11 1L8.5 8.5l.94-2.06 2.06-.94-2.06-.94L8.5 2.5l-.94 2.06-2.06.94zm10 10l.94 2.06.94-2.06 2.06-.94-2.06-.94-.94-2.06-.94 2.06-2.06.94z\"/><path d=\"M17.41 7.96l-1.37-1.37c-.4-.4-.92-.59-1.43-.59-.52 0-1.04.2-1.43.59L10.3 9.45l-7.72 7.72c-.78.78-.78 2.05 0 2.83L4 21.41c.39.39.9.59 1.41.59.51 0 1.02-.2 1.41-.59l7.78-7.78 2.81-2.81c.8-.78.8-2.07 0-2.86zM5.41 20L4 18.59l7.72-7.72 1.47 1.35L5.41 20z\"/>\n",
              "  </svg>\n",
              "      </button>\n",
              "      \n",
              "  <style>\n",
              "    .colab-df-container {\n",
              "      display:flex;\n",
              "      flex-wrap:wrap;\n",
              "      gap: 12px;\n",
              "    }\n",
              "\n",
              "    .colab-df-convert {\n",
              "      background-color: #E8F0FE;\n",
              "      border: none;\n",
              "      border-radius: 50%;\n",
              "      cursor: pointer;\n",
              "      display: none;\n",
              "      fill: #1967D2;\n",
              "      height: 32px;\n",
              "      padding: 0 0 0 0;\n",
              "      width: 32px;\n",
              "    }\n",
              "\n",
              "    .colab-df-convert:hover {\n",
              "      background-color: #E2EBFA;\n",
              "      box-shadow: 0px 1px 2px rgba(60, 64, 67, 0.3), 0px 1px 3px 1px rgba(60, 64, 67, 0.15);\n",
              "      fill: #174EA6;\n",
              "    }\n",
              "\n",
              "    [theme=dark] .colab-df-convert {\n",
              "      background-color: #3B4455;\n",
              "      fill: #D2E3FC;\n",
              "    }\n",
              "\n",
              "    [theme=dark] .colab-df-convert:hover {\n",
              "      background-color: #434B5C;\n",
              "      box-shadow: 0px 1px 3px 1px rgba(0, 0, 0, 0.15);\n",
              "      filter: drop-shadow(0px 1px 2px rgba(0, 0, 0, 0.3));\n",
              "      fill: #FFFFFF;\n",
              "    }\n",
              "  </style>\n",
              "\n",
              "      <script>\n",
              "        const buttonEl =\n",
              "          document.querySelector('#df-09dd636c-1584-4004-8af5-dfe14035a39f button.colab-df-convert');\n",
              "        buttonEl.style.display =\n",
              "          google.colab.kernel.accessAllowed ? 'block' : 'none';\n",
              "\n",
              "        async function convertToInteractive(key) {\n",
              "          const element = document.querySelector('#df-09dd636c-1584-4004-8af5-dfe14035a39f');\n",
              "          const dataTable =\n",
              "            await google.colab.kernel.invokeFunction('convertToInteractive',\n",
              "                                                     [key], {});\n",
              "          if (!dataTable) return;\n",
              "\n",
              "          const docLinkHtml = 'Like what you see? Visit the ' +\n",
              "            '<a target=\"_blank\" href=https://colab.research.google.com/notebooks/data_table.ipynb>data table notebook</a>'\n",
              "            + ' to learn more about interactive tables.';\n",
              "          element.innerHTML = '';\n",
              "          dataTable['output_type'] = 'display_data';\n",
              "          await google.colab.output.renderOutput(dataTable, element);\n",
              "          const docLink = document.createElement('div');\n",
              "          docLink.innerHTML = docLinkHtml;\n",
              "          element.appendChild(docLink);\n",
              "        }\n",
              "      </script>\n",
              "    </div>\n",
              "  </div>\n",
              "  "
            ]
          },
          "metadata": {},
          "execution_count": 6
        }
      ]
    },
    {
      "cell_type": "code",
      "source": [
        "data[\"labels\"].value_counts()"
      ],
      "metadata": {
        "execution": {
          "iopub.status.busy": "2023-05-15T14:03:44.660214Z",
          "iopub.execute_input": "2023-05-15T14:03:44.661270Z",
          "iopub.status.idle": "2023-05-15T14:03:44.691806Z",
          "shell.execute_reply.started": "2023-05-15T14:03:44.661229Z",
          "shell.execute_reply": "2023-05-15T14:03:44.690683Z"
        },
        "trusted": true,
        "id": "I8noentQQLFl",
        "outputId": "6a06d994-a5a1-46a3-840f-1bd0f400c0f4",
        "colab": {
          "base_uri": "https://localhost:8080/"
        }
      },
      "execution_count": null,
      "outputs": [
        {
          "output_type": "execute_result",
          "data": {
            "text/plain": [
              "bad        70000\n",
              "good       55754\n",
              "neutral    55174\n",
              "Name: labels, dtype: int64"
            ]
          },
          "metadata": {},
          "execution_count": 7
        }
      ]
    },
    {
      "cell_type": "code",
      "source": [
        "labels = data['labels'].value_counts()\n",
        "numbers = labels.index\n",
        "quantity = labels.values"
      ],
      "metadata": {
        "id": "Npekgk2UuTxv"
      },
      "execution_count": null,
      "outputs": []
    },
    {
      "cell_type": "code",
      "source": [
        "import plotly.express as px \n",
        "figure = px.pie(data, values = quantity,  names =  numbers, hole = 0.5)\n",
        "figure.show()"
      ],
      "metadata": {
        "colab": {
          "base_uri": "https://localhost:8080/",
          "height": 542
        },
        "id": "x7RSZzzxuY0v",
        "outputId": "50e52b2a-2beb-42a9-9cb0-19c8e45f3fe5"
      },
      "execution_count": null,
      "outputs": [
        {
          "output_type": "display_data",
          "data": {
            "text/html": [
              "<html>\n",
              "<head><meta charset=\"utf-8\" /></head>\n",
              "<body>\n",
              "    <div>            <script src=\"https://cdnjs.cloudflare.com/ajax/libs/mathjax/2.7.5/MathJax.js?config=TeX-AMS-MML_SVG\"></script><script type=\"text/javascript\">if (window.MathJax && window.MathJax.Hub && window.MathJax.Hub.Config) {window.MathJax.Hub.Config({SVG: {font: \"STIX-Web\"}});}</script>                <script type=\"text/javascript\">window.PlotlyConfig = {MathJaxConfig: 'local'};</script>\n",
              "        <script src=\"https://cdn.plot.ly/plotly-2.18.2.min.js\"></script>                <div id=\"60a3f12a-e66b-4727-952e-d788ee3cf488\" class=\"plotly-graph-div\" style=\"height:525px; width:100%;\"></div>            <script type=\"text/javascript\">                                    window.PLOTLYENV=window.PLOTLYENV || {};                                    if (document.getElementById(\"60a3f12a-e66b-4727-952e-d788ee3cf488\")) {                    Plotly.newPlot(                        \"60a3f12a-e66b-4727-952e-d788ee3cf488\",                        [{\"domain\":{\"x\":[0.0,1.0],\"y\":[0.0,1.0]},\"hole\":0.5,\"hovertemplate\":\"label=%{label}<br>value=%{value}<extra></extra>\",\"labels\":[\"bad\",\"good\",\"neutral\"],\"legendgroup\":\"\",\"name\":\"\",\"showlegend\":true,\"values\":[70000,55754,55174],\"type\":\"pie\"}],                        {\"template\":{\"data\":{\"histogram2dcontour\":[{\"type\":\"histogram2dcontour\",\"colorbar\":{\"outlinewidth\":0,\"ticks\":\"\"},\"colorscale\":[[0.0,\"#0d0887\"],[0.1111111111111111,\"#46039f\"],[0.2222222222222222,\"#7201a8\"],[0.3333333333333333,\"#9c179e\"],[0.4444444444444444,\"#bd3786\"],[0.5555555555555556,\"#d8576b\"],[0.6666666666666666,\"#ed7953\"],[0.7777777777777778,\"#fb9f3a\"],[0.8888888888888888,\"#fdca26\"],[1.0,\"#f0f921\"]]}],\"choropleth\":[{\"type\":\"choropleth\",\"colorbar\":{\"outlinewidth\":0,\"ticks\":\"\"}}],\"histogram2d\":[{\"type\":\"histogram2d\",\"colorbar\":{\"outlinewidth\":0,\"ticks\":\"\"},\"colorscale\":[[0.0,\"#0d0887\"],[0.1111111111111111,\"#46039f\"],[0.2222222222222222,\"#7201a8\"],[0.3333333333333333,\"#9c179e\"],[0.4444444444444444,\"#bd3786\"],[0.5555555555555556,\"#d8576b\"],[0.6666666666666666,\"#ed7953\"],[0.7777777777777778,\"#fb9f3a\"],[0.8888888888888888,\"#fdca26\"],[1.0,\"#f0f921\"]]}],\"heatmap\":[{\"type\":\"heatmap\",\"colorbar\":{\"outlinewidth\":0,\"ticks\":\"\"},\"colorscale\":[[0.0,\"#0d0887\"],[0.1111111111111111,\"#46039f\"],[0.2222222222222222,\"#7201a8\"],[0.3333333333333333,\"#9c179e\"],[0.4444444444444444,\"#bd3786\"],[0.5555555555555556,\"#d8576b\"],[0.6666666666666666,\"#ed7953\"],[0.7777777777777778,\"#fb9f3a\"],[0.8888888888888888,\"#fdca26\"],[1.0,\"#f0f921\"]]}],\"heatmapgl\":[{\"type\":\"heatmapgl\",\"colorbar\":{\"outlinewidth\":0,\"ticks\":\"\"},\"colorscale\":[[0.0,\"#0d0887\"],[0.1111111111111111,\"#46039f\"],[0.2222222222222222,\"#7201a8\"],[0.3333333333333333,\"#9c179e\"],[0.4444444444444444,\"#bd3786\"],[0.5555555555555556,\"#d8576b\"],[0.6666666666666666,\"#ed7953\"],[0.7777777777777778,\"#fb9f3a\"],[0.8888888888888888,\"#fdca26\"],[1.0,\"#f0f921\"]]}],\"contourcarpet\":[{\"type\":\"contourcarpet\",\"colorbar\":{\"outlinewidth\":0,\"ticks\":\"\"}}],\"contour\":[{\"type\":\"contour\",\"colorbar\":{\"outlinewidth\":0,\"ticks\":\"\"},\"colorscale\":[[0.0,\"#0d0887\"],[0.1111111111111111,\"#46039f\"],[0.2222222222222222,\"#7201a8\"],[0.3333333333333333,\"#9c179e\"],[0.4444444444444444,\"#bd3786\"],[0.5555555555555556,\"#d8576b\"],[0.6666666666666666,\"#ed7953\"],[0.7777777777777778,\"#fb9f3a\"],[0.8888888888888888,\"#fdca26\"],[1.0,\"#f0f921\"]]}],\"surface\":[{\"type\":\"surface\",\"colorbar\":{\"outlinewidth\":0,\"ticks\":\"\"},\"colorscale\":[[0.0,\"#0d0887\"],[0.1111111111111111,\"#46039f\"],[0.2222222222222222,\"#7201a8\"],[0.3333333333333333,\"#9c179e\"],[0.4444444444444444,\"#bd3786\"],[0.5555555555555556,\"#d8576b\"],[0.6666666666666666,\"#ed7953\"],[0.7777777777777778,\"#fb9f3a\"],[0.8888888888888888,\"#fdca26\"],[1.0,\"#f0f921\"]]}],\"mesh3d\":[{\"type\":\"mesh3d\",\"colorbar\":{\"outlinewidth\":0,\"ticks\":\"\"}}],\"scatter\":[{\"fillpattern\":{\"fillmode\":\"overlay\",\"size\":10,\"solidity\":0.2},\"type\":\"scatter\"}],\"parcoords\":[{\"type\":\"parcoords\",\"line\":{\"colorbar\":{\"outlinewidth\":0,\"ticks\":\"\"}}}],\"scatterpolargl\":[{\"type\":\"scatterpolargl\",\"marker\":{\"colorbar\":{\"outlinewidth\":0,\"ticks\":\"\"}}}],\"bar\":[{\"error_x\":{\"color\":\"#2a3f5f\"},\"error_y\":{\"color\":\"#2a3f5f\"},\"marker\":{\"line\":{\"color\":\"#E5ECF6\",\"width\":0.5},\"pattern\":{\"fillmode\":\"overlay\",\"size\":10,\"solidity\":0.2}},\"type\":\"bar\"}],\"scattergeo\":[{\"type\":\"scattergeo\",\"marker\":{\"colorbar\":{\"outlinewidth\":0,\"ticks\":\"\"}}}],\"scatterpolar\":[{\"type\":\"scatterpolar\",\"marker\":{\"colorbar\":{\"outlinewidth\":0,\"ticks\":\"\"}}}],\"histogram\":[{\"marker\":{\"pattern\":{\"fillmode\":\"overlay\",\"size\":10,\"solidity\":0.2}},\"type\":\"histogram\"}],\"scattergl\":[{\"type\":\"scattergl\",\"marker\":{\"colorbar\":{\"outlinewidth\":0,\"ticks\":\"\"}}}],\"scatter3d\":[{\"type\":\"scatter3d\",\"line\":{\"colorbar\":{\"outlinewidth\":0,\"ticks\":\"\"}},\"marker\":{\"colorbar\":{\"outlinewidth\":0,\"ticks\":\"\"}}}],\"scattermapbox\":[{\"type\":\"scattermapbox\",\"marker\":{\"colorbar\":{\"outlinewidth\":0,\"ticks\":\"\"}}}],\"scatterternary\":[{\"type\":\"scatterternary\",\"marker\":{\"colorbar\":{\"outlinewidth\":0,\"ticks\":\"\"}}}],\"scattercarpet\":[{\"type\":\"scattercarpet\",\"marker\":{\"colorbar\":{\"outlinewidth\":0,\"ticks\":\"\"}}}],\"carpet\":[{\"aaxis\":{\"endlinecolor\":\"#2a3f5f\",\"gridcolor\":\"white\",\"linecolor\":\"white\",\"minorgridcolor\":\"white\",\"startlinecolor\":\"#2a3f5f\"},\"baxis\":{\"endlinecolor\":\"#2a3f5f\",\"gridcolor\":\"white\",\"linecolor\":\"white\",\"minorgridcolor\":\"white\",\"startlinecolor\":\"#2a3f5f\"},\"type\":\"carpet\"}],\"table\":[{\"cells\":{\"fill\":{\"color\":\"#EBF0F8\"},\"line\":{\"color\":\"white\"}},\"header\":{\"fill\":{\"color\":\"#C8D4E3\"},\"line\":{\"color\":\"white\"}},\"type\":\"table\"}],\"barpolar\":[{\"marker\":{\"line\":{\"color\":\"#E5ECF6\",\"width\":0.5},\"pattern\":{\"fillmode\":\"overlay\",\"size\":10,\"solidity\":0.2}},\"type\":\"barpolar\"}],\"pie\":[{\"automargin\":true,\"type\":\"pie\"}]},\"layout\":{\"autotypenumbers\":\"strict\",\"colorway\":[\"#636efa\",\"#EF553B\",\"#00cc96\",\"#ab63fa\",\"#FFA15A\",\"#19d3f3\",\"#FF6692\",\"#B6E880\",\"#FF97FF\",\"#FECB52\"],\"font\":{\"color\":\"#2a3f5f\"},\"hovermode\":\"closest\",\"hoverlabel\":{\"align\":\"left\"},\"paper_bgcolor\":\"white\",\"plot_bgcolor\":\"#E5ECF6\",\"polar\":{\"bgcolor\":\"#E5ECF6\",\"angularaxis\":{\"gridcolor\":\"white\",\"linecolor\":\"white\",\"ticks\":\"\"},\"radialaxis\":{\"gridcolor\":\"white\",\"linecolor\":\"white\",\"ticks\":\"\"}},\"ternary\":{\"bgcolor\":\"#E5ECF6\",\"aaxis\":{\"gridcolor\":\"white\",\"linecolor\":\"white\",\"ticks\":\"\"},\"baxis\":{\"gridcolor\":\"white\",\"linecolor\":\"white\",\"ticks\":\"\"},\"caxis\":{\"gridcolor\":\"white\",\"linecolor\":\"white\",\"ticks\":\"\"}},\"coloraxis\":{\"colorbar\":{\"outlinewidth\":0,\"ticks\":\"\"}},\"colorscale\":{\"sequential\":[[0.0,\"#0d0887\"],[0.1111111111111111,\"#46039f\"],[0.2222222222222222,\"#7201a8\"],[0.3333333333333333,\"#9c179e\"],[0.4444444444444444,\"#bd3786\"],[0.5555555555555556,\"#d8576b\"],[0.6666666666666666,\"#ed7953\"],[0.7777777777777778,\"#fb9f3a\"],[0.8888888888888888,\"#fdca26\"],[1.0,\"#f0f921\"]],\"sequentialminus\":[[0.0,\"#0d0887\"],[0.1111111111111111,\"#46039f\"],[0.2222222222222222,\"#7201a8\"],[0.3333333333333333,\"#9c179e\"],[0.4444444444444444,\"#bd3786\"],[0.5555555555555556,\"#d8576b\"],[0.6666666666666666,\"#ed7953\"],[0.7777777777777778,\"#fb9f3a\"],[0.8888888888888888,\"#fdca26\"],[1.0,\"#f0f921\"]],\"diverging\":[[0,\"#8e0152\"],[0.1,\"#c51b7d\"],[0.2,\"#de77ae\"],[0.3,\"#f1b6da\"],[0.4,\"#fde0ef\"],[0.5,\"#f7f7f7\"],[0.6,\"#e6f5d0\"],[0.7,\"#b8e186\"],[0.8,\"#7fbc41\"],[0.9,\"#4d9221\"],[1,\"#276419\"]]},\"xaxis\":{\"gridcolor\":\"white\",\"linecolor\":\"white\",\"ticks\":\"\",\"title\":{\"standoff\":15},\"zerolinecolor\":\"white\",\"automargin\":true,\"zerolinewidth\":2},\"yaxis\":{\"gridcolor\":\"white\",\"linecolor\":\"white\",\"ticks\":\"\",\"title\":{\"standoff\":15},\"zerolinecolor\":\"white\",\"automargin\":true,\"zerolinewidth\":2},\"scene\":{\"xaxis\":{\"backgroundcolor\":\"#E5ECF6\",\"gridcolor\":\"white\",\"linecolor\":\"white\",\"showbackground\":true,\"ticks\":\"\",\"zerolinecolor\":\"white\",\"gridwidth\":2},\"yaxis\":{\"backgroundcolor\":\"#E5ECF6\",\"gridcolor\":\"white\",\"linecolor\":\"white\",\"showbackground\":true,\"ticks\":\"\",\"zerolinecolor\":\"white\",\"gridwidth\":2},\"zaxis\":{\"backgroundcolor\":\"#E5ECF6\",\"gridcolor\":\"white\",\"linecolor\":\"white\",\"showbackground\":true,\"ticks\":\"\",\"zerolinecolor\":\"white\",\"gridwidth\":2}},\"shapedefaults\":{\"line\":{\"color\":\"#2a3f5f\"}},\"annotationdefaults\":{\"arrowcolor\":\"#2a3f5f\",\"arrowhead\":0,\"arrowwidth\":1},\"geo\":{\"bgcolor\":\"white\",\"landcolor\":\"#E5ECF6\",\"subunitcolor\":\"white\",\"showland\":true,\"showlakes\":true,\"lakecolor\":\"white\"},\"title\":{\"x\":0.05},\"mapbox\":{\"style\":\"light\"}}},\"legend\":{\"tracegroupgap\":0},\"margin\":{\"t\":60}},                        {\"responsive\": true}                    ).then(function(){\n",
              "                            \n",
              "var gd = document.getElementById('60a3f12a-e66b-4727-952e-d788ee3cf488');\n",
              "var x = new MutationObserver(function (mutations, observer) {{\n",
              "        var display = window.getComputedStyle(gd).display;\n",
              "        if (!display || display === 'none') {{\n",
              "            console.log([gd, 'removed!']);\n",
              "            Plotly.purge(gd);\n",
              "            observer.disconnect();\n",
              "        }}\n",
              "}});\n",
              "\n",
              "// Listen for the removal of the full notebook cells\n",
              "var notebookContainer = gd.closest('#notebook-container');\n",
              "if (notebookContainer) {{\n",
              "    x.observe(notebookContainer, {childList: true});\n",
              "}}\n",
              "\n",
              "// Listen for the clearing of the current output cell\n",
              "var outputEl = gd.closest('.output');\n",
              "if (outputEl) {{\n",
              "    x.observe(outputEl, {childList: true});\n",
              "}}\n",
              "\n",
              "                        })                };                            </script>        </div>\n",
              "</body>\n",
              "</html>"
            ]
          },
          "metadata": {}
        }
      ]
    },
    {
      "cell_type": "markdown",
      "source": [
        "# cleaning dataset"
      ],
      "metadata": {
        "id": "JEmR8BwqQLFo"
      }
    },
    {
      "cell_type": "code",
      "source": [
        "#@title ***Cleaning the dataset***\n",
        "#!unzip /usr/share/nltk_data/corpora/wordnet.zip -d /usr/share/nltk_data/corpora/\n",
        "import nltk\n",
        "from nltk.corpus import wordnet as wn\n",
        "from nltk.stem import WordNetLemmatizer,PorterStemmer\n",
        "\n",
        "nltk.download('wordnet')\n",
        "nltk.download('punkt')\n",
        "nltk.download('stopwords')\n",
        "\n",
        "stop_words = set(stopwords.words('english'))\n",
        "st = PorterStemmer()\n",
        "lem = WordNetLemmatizer()\n",
        "\n",
        "def is_alpha(word):\n",
        "    for part in word.split('-'):\n",
        "        if not part.isalpha():\n",
        "            return False\n",
        "    \n",
        "    return True\n",
        "\n",
        "def clean_dataset(text):\n",
        "    text = re.sub(r'http\\S+', '', text) # removing links\n",
        "    text = re.sub(r'\\\\n', ' ', text) # removing \\\\n\n",
        "    text = re.sub(r\"\\s*#\\S+\", \"\", text) # removing hash tags\n",
        "    text = re.sub(r\"\\s*@\\S+\", \"\", text) # removing @\n",
        "    text = text.lower()\n",
        "    words = [word for word in word_tokenize(text) if is_alpha(word)]\n",
        "    #words = [st.stem(word) for word in words]\n",
        "    words = [lem.lemmatize(word) for word in words]\n",
        "    \n",
        "    # text = \" \".join([word for word in text.split(\" \") if is_alpha(word)])\n",
        "    # text = re.sub(r'[^a-zA-Z\\s]', '', text, re.I|re.A) \n",
        "    words = [w for w in words if not w in stop_words]\n",
        "    text = \" \".join(words)\n",
        "    \n",
        "    return text.strip()\n",
        "\n",
        "data.insert(len(data.columns)-1, \"cleaned_tweets\", data['tweets'].apply(clean_dataset))\n",
        "data.head()"
      ],
      "metadata": {
        "id": "KqHAmwJFZPuo",
        "execution": {
          "iopub.status.busy": "2023-05-15T14:03:44.693847Z",
          "iopub.execute_input": "2023-05-15T14:03:44.694295Z",
          "iopub.status.idle": "2023-05-15T14:05:12.399644Z",
          "shell.execute_reply.started": "2023-05-15T14:03:44.694252Z",
          "shell.execute_reply": "2023-05-15T14:05:12.398504Z"
        },
        "trusted": true,
        "outputId": "4a1e13db-e689-4e70-bb26-724a409fcb19",
        "colab": {
          "base_uri": "https://localhost:8080/",
          "height": 293
        }
      },
      "execution_count": null,
      "outputs": [
        {
          "output_type": "stream",
          "name": "stderr",
          "text": [
            "[nltk_data] Downloading package wordnet to /root/nltk_data...\n",
            "[nltk_data] Downloading package punkt to /root/nltk_data...\n",
            "[nltk_data]   Unzipping tokenizers/punkt.zip.\n",
            "[nltk_data] Downloading package stopwords to /root/nltk_data...\n",
            "[nltk_data]   Unzipping corpora/stopwords.zip.\n"
          ]
        },
        {
          "output_type": "execute_result",
          "data": {
            "text/plain": [
              "                                               tweets  \\\n",
              "4   As of 2 minutes ago, @OpenAI released their ne...   \n",
              "6   As of 2 minutes ago, @OpenAI released their ne...   \n",
              "10  GOD DAMN IT @OpenAI STOP ANNOUNCING THINGS I A...   \n",
              "17  #ai Models are set to become the search engine...   \n",
              "39  Google is done.\\n\\nCompare the quality of thes...   \n",
              "\n",
              "                                       cleaned_tweets labels  \n",
              "4           minute ago released new chatgpt use right    bad  \n",
              "6           minute ago released new chatgpt use right    bad  \n",
              "10                god damn stop announcing thing busy    bad  \n",
              "17  model set become search engine future atm stil...    bad  \n",
              "39       google done compare quality response chatgpt    bad  "
            ],
            "text/html": [
              "\n",
              "  <div id=\"df-b422e4d6-3a9c-4f5f-898c-8e619c75c9e8\">\n",
              "    <div class=\"colab-df-container\">\n",
              "      <div>\n",
              "<style scoped>\n",
              "    .dataframe tbody tr th:only-of-type {\n",
              "        vertical-align: middle;\n",
              "    }\n",
              "\n",
              "    .dataframe tbody tr th {\n",
              "        vertical-align: top;\n",
              "    }\n",
              "\n",
              "    .dataframe thead th {\n",
              "        text-align: right;\n",
              "    }\n",
              "</style>\n",
              "<table border=\"1\" class=\"dataframe\">\n",
              "  <thead>\n",
              "    <tr style=\"text-align: right;\">\n",
              "      <th></th>\n",
              "      <th>tweets</th>\n",
              "      <th>cleaned_tweets</th>\n",
              "      <th>labels</th>\n",
              "    </tr>\n",
              "  </thead>\n",
              "  <tbody>\n",
              "    <tr>\n",
              "      <th>4</th>\n",
              "      <td>As of 2 minutes ago, @OpenAI released their ne...</td>\n",
              "      <td>minute ago released new chatgpt use right</td>\n",
              "      <td>bad</td>\n",
              "    </tr>\n",
              "    <tr>\n",
              "      <th>6</th>\n",
              "      <td>As of 2 minutes ago, @OpenAI released their ne...</td>\n",
              "      <td>minute ago released new chatgpt use right</td>\n",
              "      <td>bad</td>\n",
              "    </tr>\n",
              "    <tr>\n",
              "      <th>10</th>\n",
              "      <td>GOD DAMN IT @OpenAI STOP ANNOUNCING THINGS I A...</td>\n",
              "      <td>god damn stop announcing thing busy</td>\n",
              "      <td>bad</td>\n",
              "    </tr>\n",
              "    <tr>\n",
              "      <th>17</th>\n",
              "      <td>#ai Models are set to become the search engine...</td>\n",
              "      <td>model set become search engine future atm stil...</td>\n",
              "      <td>bad</td>\n",
              "    </tr>\n",
              "    <tr>\n",
              "      <th>39</th>\n",
              "      <td>Google is done.\\n\\nCompare the quality of thes...</td>\n",
              "      <td>google done compare quality response chatgpt</td>\n",
              "      <td>bad</td>\n",
              "    </tr>\n",
              "  </tbody>\n",
              "</table>\n",
              "</div>\n",
              "      <button class=\"colab-df-convert\" onclick=\"convertToInteractive('df-b422e4d6-3a9c-4f5f-898c-8e619c75c9e8')\"\n",
              "              title=\"Convert this dataframe to an interactive table.\"\n",
              "              style=\"display:none;\">\n",
              "        \n",
              "  <svg xmlns=\"http://www.w3.org/2000/svg\" height=\"24px\"viewBox=\"0 0 24 24\"\n",
              "       width=\"24px\">\n",
              "    <path d=\"M0 0h24v24H0V0z\" fill=\"none\"/>\n",
              "    <path d=\"M18.56 5.44l.94 2.06.94-2.06 2.06-.94-2.06-.94-.94-2.06-.94 2.06-2.06.94zm-11 1L8.5 8.5l.94-2.06 2.06-.94-2.06-.94L8.5 2.5l-.94 2.06-2.06.94zm10 10l.94 2.06.94-2.06 2.06-.94-2.06-.94-.94-2.06-.94 2.06-2.06.94z\"/><path d=\"M17.41 7.96l-1.37-1.37c-.4-.4-.92-.59-1.43-.59-.52 0-1.04.2-1.43.59L10.3 9.45l-7.72 7.72c-.78.78-.78 2.05 0 2.83L4 21.41c.39.39.9.59 1.41.59.51 0 1.02-.2 1.41-.59l7.78-7.78 2.81-2.81c.8-.78.8-2.07 0-2.86zM5.41 20L4 18.59l7.72-7.72 1.47 1.35L5.41 20z\"/>\n",
              "  </svg>\n",
              "      </button>\n",
              "      \n",
              "  <style>\n",
              "    .colab-df-container {\n",
              "      display:flex;\n",
              "      flex-wrap:wrap;\n",
              "      gap: 12px;\n",
              "    }\n",
              "\n",
              "    .colab-df-convert {\n",
              "      background-color: #E8F0FE;\n",
              "      border: none;\n",
              "      border-radius: 50%;\n",
              "      cursor: pointer;\n",
              "      display: none;\n",
              "      fill: #1967D2;\n",
              "      height: 32px;\n",
              "      padding: 0 0 0 0;\n",
              "      width: 32px;\n",
              "    }\n",
              "\n",
              "    .colab-df-convert:hover {\n",
              "      background-color: #E2EBFA;\n",
              "      box-shadow: 0px 1px 2px rgba(60, 64, 67, 0.3), 0px 1px 3px 1px rgba(60, 64, 67, 0.15);\n",
              "      fill: #174EA6;\n",
              "    }\n",
              "\n",
              "    [theme=dark] .colab-df-convert {\n",
              "      background-color: #3B4455;\n",
              "      fill: #D2E3FC;\n",
              "    }\n",
              "\n",
              "    [theme=dark] .colab-df-convert:hover {\n",
              "      background-color: #434B5C;\n",
              "      box-shadow: 0px 1px 3px 1px rgba(0, 0, 0, 0.15);\n",
              "      filter: drop-shadow(0px 1px 2px rgba(0, 0, 0, 0.3));\n",
              "      fill: #FFFFFF;\n",
              "    }\n",
              "  </style>\n",
              "\n",
              "      <script>\n",
              "        const buttonEl =\n",
              "          document.querySelector('#df-b422e4d6-3a9c-4f5f-898c-8e619c75c9e8 button.colab-df-convert');\n",
              "        buttonEl.style.display =\n",
              "          google.colab.kernel.accessAllowed ? 'block' : 'none';\n",
              "\n",
              "        async function convertToInteractive(key) {\n",
              "          const element = document.querySelector('#df-b422e4d6-3a9c-4f5f-898c-8e619c75c9e8');\n",
              "          const dataTable =\n",
              "            await google.colab.kernel.invokeFunction('convertToInteractive',\n",
              "                                                     [key], {});\n",
              "          if (!dataTable) return;\n",
              "\n",
              "          const docLinkHtml = 'Like what you see? Visit the ' +\n",
              "            '<a target=\"_blank\" href=https://colab.research.google.com/notebooks/data_table.ipynb>data table notebook</a>'\n",
              "            + ' to learn more about interactive tables.';\n",
              "          element.innerHTML = '';\n",
              "          dataTable['output_type'] = 'display_data';\n",
              "          await google.colab.output.renderOutput(dataTable, element);\n",
              "          const docLink = document.createElement('div');\n",
              "          docLink.innerHTML = docLinkHtml;\n",
              "          element.appendChild(docLink);\n",
              "        }\n",
              "      </script>\n",
              "    </div>\n",
              "  </div>\n",
              "  "
            ]
          },
          "metadata": {},
          "execution_count": 10
        }
      ]
    },
    {
      "cell_type": "markdown",
      "source": [
        "# converting dataset in numerical form"
      ],
      "metadata": {
        "id": "NNV2SsngQLFs"
      }
    },
    {
      "cell_type": "code",
      "source": [
        "from numpy.core import numeric\n",
        "#@title ***Converting text to numerical form***\n",
        "\n",
        "import math\n",
        "import collections\n",
        "\n",
        "def convert_text_to_numerical(text):\n",
        "    num_words = 7000\n",
        "    tokenizer = Tokenizer(num_words=num_words)\n",
        "    tokenizer.fit_on_texts(text)\n",
        "    sequences = tokenizer.texts_to_sequences(text)\n",
        " \n",
        "    #maxlen = max(45, math.ceil(np.average([len(seq) for seq in sequences])))\n",
        "    maxlen = 140\n",
        "    \n",
        " \n",
        "    pad_seqs = pad_sequences(sequences, maxlen=maxlen)\n",
        "    pad_seqs_todrop = []\n",
        "    for i, p in enumerate(pad_seqs):\n",
        "        if sum(p) == sum(sorted(p, reverse=True)[0:2]):\n",
        "            pad_seqs_todrop.append(i)\n",
        "\n",
        "    return pad_seqs, pad_seqs_todrop, tokenizer, num_words, maxlen\n",
        "\n",
        "data = data.reset_index()\n",
        "numeric_tweets, rows_todrop, tokenizer, num_words, maxlen = convert_text_to_numerical(data['cleaned_tweets'])\n",
        "data.insert(len(data.columns)-1, \"numeric_tweets\", numeric_tweets.tolist())\n",
        "data.head()"
      ],
      "metadata": {
        "id": "aVW7nMg-xauN",
        "execution": {
          "iopub.status.busy": "2023-05-15T14:05:12.401180Z",
          "iopub.execute_input": "2023-05-15T14:05:12.402249Z",
          "iopub.status.idle": "2023-05-15T14:05:34.693423Z",
          "shell.execute_reply.started": "2023-05-15T14:05:12.402212Z",
          "shell.execute_reply": "2023-05-15T14:05:34.692434Z"
        },
        "trusted": true,
        "outputId": "6ae33bcc-26da-4f64-fa55-9a6cb85ad7da",
        "colab": {
          "base_uri": "https://localhost:8080/",
          "height": 206
        }
      },
      "execution_count": null,
      "outputs": [
        {
          "output_type": "execute_result",
          "data": {
            "text/plain": [
              "   index                                             tweets  \\\n",
              "0      4  As of 2 minutes ago, @OpenAI released their ne...   \n",
              "1      6  As of 2 minutes ago, @OpenAI released their ne...   \n",
              "2     10  GOD DAMN IT @OpenAI STOP ANNOUNCING THINGS I A...   \n",
              "3     17  #ai Models are set to become the search engine...   \n",
              "4     39  Google is done.\\n\\nCompare the quality of thes...   \n",
              "\n",
              "                                      cleaned_tweets  \\\n",
              "0          minute ago released new chatgpt use right   \n",
              "1          minute ago released new chatgpt use right   \n",
              "2                god damn stop announcing thing busy   \n",
              "3  model set become search engine future atm stil...   \n",
              "4       google done compare quality response chatgpt   \n",
              "\n",
              "                                      numeric_tweets labels  \n",
              "0  [0, 0, 0, 0, 0, 0, 0, 0, 0, 0, 0, 0, 0, 0, 0, ...    bad  \n",
              "1  [0, 0, 0, 0, 0, 0, 0, 0, 0, 0, 0, 0, 0, 0, 0, ...    bad  \n",
              "2  [0, 0, 0, 0, 0, 0, 0, 0, 0, 0, 0, 0, 0, 0, 0, ...    bad  \n",
              "3  [0, 0, 0, 0, 0, 0, 0, 0, 0, 0, 0, 0, 0, 0, 0, ...    bad  \n",
              "4  [0, 0, 0, 0, 0, 0, 0, 0, 0, 0, 0, 0, 0, 0, 0, ...    bad  "
            ],
            "text/html": [
              "\n",
              "  <div id=\"df-84d8399d-a6f0-4fc8-ad9e-df663da463bd\">\n",
              "    <div class=\"colab-df-container\">\n",
              "      <div>\n",
              "<style scoped>\n",
              "    .dataframe tbody tr th:only-of-type {\n",
              "        vertical-align: middle;\n",
              "    }\n",
              "\n",
              "    .dataframe tbody tr th {\n",
              "        vertical-align: top;\n",
              "    }\n",
              "\n",
              "    .dataframe thead th {\n",
              "        text-align: right;\n",
              "    }\n",
              "</style>\n",
              "<table border=\"1\" class=\"dataframe\">\n",
              "  <thead>\n",
              "    <tr style=\"text-align: right;\">\n",
              "      <th></th>\n",
              "      <th>index</th>\n",
              "      <th>tweets</th>\n",
              "      <th>cleaned_tweets</th>\n",
              "      <th>numeric_tweets</th>\n",
              "      <th>labels</th>\n",
              "    </tr>\n",
              "  </thead>\n",
              "  <tbody>\n",
              "    <tr>\n",
              "      <th>0</th>\n",
              "      <td>4</td>\n",
              "      <td>As of 2 minutes ago, @OpenAI released their ne...</td>\n",
              "      <td>minute ago released new chatgpt use right</td>\n",
              "      <td>[0, 0, 0, 0, 0, 0, 0, 0, 0, 0, 0, 0, 0, 0, 0, ...</td>\n",
              "      <td>bad</td>\n",
              "    </tr>\n",
              "    <tr>\n",
              "      <th>1</th>\n",
              "      <td>6</td>\n",
              "      <td>As of 2 minutes ago, @OpenAI released their ne...</td>\n",
              "      <td>minute ago released new chatgpt use right</td>\n",
              "      <td>[0, 0, 0, 0, 0, 0, 0, 0, 0, 0, 0, 0, 0, 0, 0, ...</td>\n",
              "      <td>bad</td>\n",
              "    </tr>\n",
              "    <tr>\n",
              "      <th>2</th>\n",
              "      <td>10</td>\n",
              "      <td>GOD DAMN IT @OpenAI STOP ANNOUNCING THINGS I A...</td>\n",
              "      <td>god damn stop announcing thing busy</td>\n",
              "      <td>[0, 0, 0, 0, 0, 0, 0, 0, 0, 0, 0, 0, 0, 0, 0, ...</td>\n",
              "      <td>bad</td>\n",
              "    </tr>\n",
              "    <tr>\n",
              "      <th>3</th>\n",
              "      <td>17</td>\n",
              "      <td>#ai Models are set to become the search engine...</td>\n",
              "      <td>model set become search engine future atm stil...</td>\n",
              "      <td>[0, 0, 0, 0, 0, 0, 0, 0, 0, 0, 0, 0, 0, 0, 0, ...</td>\n",
              "      <td>bad</td>\n",
              "    </tr>\n",
              "    <tr>\n",
              "      <th>4</th>\n",
              "      <td>39</td>\n",
              "      <td>Google is done.\\n\\nCompare the quality of thes...</td>\n",
              "      <td>google done compare quality response chatgpt</td>\n",
              "      <td>[0, 0, 0, 0, 0, 0, 0, 0, 0, 0, 0, 0, 0, 0, 0, ...</td>\n",
              "      <td>bad</td>\n",
              "    </tr>\n",
              "  </tbody>\n",
              "</table>\n",
              "</div>\n",
              "      <button class=\"colab-df-convert\" onclick=\"convertToInteractive('df-84d8399d-a6f0-4fc8-ad9e-df663da463bd')\"\n",
              "              title=\"Convert this dataframe to an interactive table.\"\n",
              "              style=\"display:none;\">\n",
              "        \n",
              "  <svg xmlns=\"http://www.w3.org/2000/svg\" height=\"24px\"viewBox=\"0 0 24 24\"\n",
              "       width=\"24px\">\n",
              "    <path d=\"M0 0h24v24H0V0z\" fill=\"none\"/>\n",
              "    <path d=\"M18.56 5.44l.94 2.06.94-2.06 2.06-.94-2.06-.94-.94-2.06-.94 2.06-2.06.94zm-11 1L8.5 8.5l.94-2.06 2.06-.94-2.06-.94L8.5 2.5l-.94 2.06-2.06.94zm10 10l.94 2.06.94-2.06 2.06-.94-2.06-.94-.94-2.06-.94 2.06-2.06.94z\"/><path d=\"M17.41 7.96l-1.37-1.37c-.4-.4-.92-.59-1.43-.59-.52 0-1.04.2-1.43.59L10.3 9.45l-7.72 7.72c-.78.78-.78 2.05 0 2.83L4 21.41c.39.39.9.59 1.41.59.51 0 1.02-.2 1.41-.59l7.78-7.78 2.81-2.81c.8-.78.8-2.07 0-2.86zM5.41 20L4 18.59l7.72-7.72 1.47 1.35L5.41 20z\"/>\n",
              "  </svg>\n",
              "      </button>\n",
              "      \n",
              "  <style>\n",
              "    .colab-df-container {\n",
              "      display:flex;\n",
              "      flex-wrap:wrap;\n",
              "      gap: 12px;\n",
              "    }\n",
              "\n",
              "    .colab-df-convert {\n",
              "      background-color: #E8F0FE;\n",
              "      border: none;\n",
              "      border-radius: 50%;\n",
              "      cursor: pointer;\n",
              "      display: none;\n",
              "      fill: #1967D2;\n",
              "      height: 32px;\n",
              "      padding: 0 0 0 0;\n",
              "      width: 32px;\n",
              "    }\n",
              "\n",
              "    .colab-df-convert:hover {\n",
              "      background-color: #E2EBFA;\n",
              "      box-shadow: 0px 1px 2px rgba(60, 64, 67, 0.3), 0px 1px 3px 1px rgba(60, 64, 67, 0.15);\n",
              "      fill: #174EA6;\n",
              "    }\n",
              "\n",
              "    [theme=dark] .colab-df-convert {\n",
              "      background-color: #3B4455;\n",
              "      fill: #D2E3FC;\n",
              "    }\n",
              "\n",
              "    [theme=dark] .colab-df-convert:hover {\n",
              "      background-color: #434B5C;\n",
              "      box-shadow: 0px 1px 3px 1px rgba(0, 0, 0, 0.15);\n",
              "      filter: drop-shadow(0px 1px 2px rgba(0, 0, 0, 0.3));\n",
              "      fill: #FFFFFF;\n",
              "    }\n",
              "  </style>\n",
              "\n",
              "      <script>\n",
              "        const buttonEl =\n",
              "          document.querySelector('#df-84d8399d-a6f0-4fc8-ad9e-df663da463bd button.colab-df-convert');\n",
              "        buttonEl.style.display =\n",
              "          google.colab.kernel.accessAllowed ? 'block' : 'none';\n",
              "\n",
              "        async function convertToInteractive(key) {\n",
              "          const element = document.querySelector('#df-84d8399d-a6f0-4fc8-ad9e-df663da463bd');\n",
              "          const dataTable =\n",
              "            await google.colab.kernel.invokeFunction('convertToInteractive',\n",
              "                                                     [key], {});\n",
              "          if (!dataTable) return;\n",
              "\n",
              "          const docLinkHtml = 'Like what you see? Visit the ' +\n",
              "            '<a target=\"_blank\" href=https://colab.research.google.com/notebooks/data_table.ipynb>data table notebook</a>'\n",
              "            + ' to learn more about interactive tables.';\n",
              "          element.innerHTML = '';\n",
              "          dataTable['output_type'] = 'display_data';\n",
              "          await google.colab.output.renderOutput(dataTable, element);\n",
              "          const docLink = document.createElement('div');\n",
              "          docLink.innerHTML = docLinkHtml;\n",
              "          element.appendChild(docLink);\n",
              "        }\n",
              "      </script>\n",
              "    </div>\n",
              "  </div>\n",
              "  "
            ]
          },
          "metadata": {},
          "execution_count": 11
        }
      ]
    },
    {
      "cell_type": "code",
      "source": [
        "#@title ***Encoding output labels***\n",
        "\n",
        "label_encoder = LabelEncoder()\n",
        "data.insert(len(data.columns), \"encoded_labels\", label_encoder.fit_transform(data['labels']))\n",
        "print(label_encoder.classes_)\n",
        "data.head()"
      ],
      "metadata": {
        "id": "WAmrcbhSxgH6",
        "outputId": "3312993c-ca12-41c3-eb66-c88cb01755d2",
        "execution": {
          "iopub.status.busy": "2023-05-15T14:05:34.695170Z",
          "iopub.execute_input": "2023-05-15T14:05:34.695602Z",
          "iopub.status.idle": "2023-05-15T14:05:34.762751Z",
          "shell.execute_reply.started": "2023-05-15T14:05:34.695564Z",
          "shell.execute_reply": "2023-05-15T14:05:34.761799Z"
        },
        "trusted": true,
        "colab": {
          "base_uri": "https://localhost:8080/",
          "height": 224
        }
      },
      "execution_count": null,
      "outputs": [
        {
          "output_type": "stream",
          "name": "stdout",
          "text": [
            "['bad' 'good' 'neutral']\n"
          ]
        },
        {
          "output_type": "execute_result",
          "data": {
            "text/plain": [
              "   index                                             tweets  \\\n",
              "0      4  As of 2 minutes ago, @OpenAI released their ne...   \n",
              "1      6  As of 2 minutes ago, @OpenAI released their ne...   \n",
              "2     10  GOD DAMN IT @OpenAI STOP ANNOUNCING THINGS I A...   \n",
              "3     17  #ai Models are set to become the search engine...   \n",
              "4     39  Google is done.\\n\\nCompare the quality of thes...   \n",
              "\n",
              "                                      cleaned_tweets  \\\n",
              "0          minute ago released new chatgpt use right   \n",
              "1          minute ago released new chatgpt use right   \n",
              "2                god damn stop announcing thing busy   \n",
              "3  model set become search engine future atm stil...   \n",
              "4       google done compare quality response chatgpt   \n",
              "\n",
              "                                      numeric_tweets labels  encoded_labels  \n",
              "0  [0, 0, 0, 0, 0, 0, 0, 0, 0, 0, 0, 0, 0, 0, 0, ...    bad               0  \n",
              "1  [0, 0, 0, 0, 0, 0, 0, 0, 0, 0, 0, 0, 0, 0, 0, ...    bad               0  \n",
              "2  [0, 0, 0, 0, 0, 0, 0, 0, 0, 0, 0, 0, 0, 0, 0, ...    bad               0  \n",
              "3  [0, 0, 0, 0, 0, 0, 0, 0, 0, 0, 0, 0, 0, 0, 0, ...    bad               0  \n",
              "4  [0, 0, 0, 0, 0, 0, 0, 0, 0, 0, 0, 0, 0, 0, 0, ...    bad               0  "
            ],
            "text/html": [
              "\n",
              "  <div id=\"df-411c8c5b-96a9-470e-9d05-4230320fd23a\">\n",
              "    <div class=\"colab-df-container\">\n",
              "      <div>\n",
              "<style scoped>\n",
              "    .dataframe tbody tr th:only-of-type {\n",
              "        vertical-align: middle;\n",
              "    }\n",
              "\n",
              "    .dataframe tbody tr th {\n",
              "        vertical-align: top;\n",
              "    }\n",
              "\n",
              "    .dataframe thead th {\n",
              "        text-align: right;\n",
              "    }\n",
              "</style>\n",
              "<table border=\"1\" class=\"dataframe\">\n",
              "  <thead>\n",
              "    <tr style=\"text-align: right;\">\n",
              "      <th></th>\n",
              "      <th>index</th>\n",
              "      <th>tweets</th>\n",
              "      <th>cleaned_tweets</th>\n",
              "      <th>numeric_tweets</th>\n",
              "      <th>labels</th>\n",
              "      <th>encoded_labels</th>\n",
              "    </tr>\n",
              "  </thead>\n",
              "  <tbody>\n",
              "    <tr>\n",
              "      <th>0</th>\n",
              "      <td>4</td>\n",
              "      <td>As of 2 minutes ago, @OpenAI released their ne...</td>\n",
              "      <td>minute ago released new chatgpt use right</td>\n",
              "      <td>[0, 0, 0, 0, 0, 0, 0, 0, 0, 0, 0, 0, 0, 0, 0, ...</td>\n",
              "      <td>bad</td>\n",
              "      <td>0</td>\n",
              "    </tr>\n",
              "    <tr>\n",
              "      <th>1</th>\n",
              "      <td>6</td>\n",
              "      <td>As of 2 minutes ago, @OpenAI released their ne...</td>\n",
              "      <td>minute ago released new chatgpt use right</td>\n",
              "      <td>[0, 0, 0, 0, 0, 0, 0, 0, 0, 0, 0, 0, 0, 0, 0, ...</td>\n",
              "      <td>bad</td>\n",
              "      <td>0</td>\n",
              "    </tr>\n",
              "    <tr>\n",
              "      <th>2</th>\n",
              "      <td>10</td>\n",
              "      <td>GOD DAMN IT @OpenAI STOP ANNOUNCING THINGS I A...</td>\n",
              "      <td>god damn stop announcing thing busy</td>\n",
              "      <td>[0, 0, 0, 0, 0, 0, 0, 0, 0, 0, 0, 0, 0, 0, 0, ...</td>\n",
              "      <td>bad</td>\n",
              "      <td>0</td>\n",
              "    </tr>\n",
              "    <tr>\n",
              "      <th>3</th>\n",
              "      <td>17</td>\n",
              "      <td>#ai Models are set to become the search engine...</td>\n",
              "      <td>model set become search engine future atm stil...</td>\n",
              "      <td>[0, 0, 0, 0, 0, 0, 0, 0, 0, 0, 0, 0, 0, 0, 0, ...</td>\n",
              "      <td>bad</td>\n",
              "      <td>0</td>\n",
              "    </tr>\n",
              "    <tr>\n",
              "      <th>4</th>\n",
              "      <td>39</td>\n",
              "      <td>Google is done.\\n\\nCompare the quality of thes...</td>\n",
              "      <td>google done compare quality response chatgpt</td>\n",
              "      <td>[0, 0, 0, 0, 0, 0, 0, 0, 0, 0, 0, 0, 0, 0, 0, ...</td>\n",
              "      <td>bad</td>\n",
              "      <td>0</td>\n",
              "    </tr>\n",
              "  </tbody>\n",
              "</table>\n",
              "</div>\n",
              "      <button class=\"colab-df-convert\" onclick=\"convertToInteractive('df-411c8c5b-96a9-470e-9d05-4230320fd23a')\"\n",
              "              title=\"Convert this dataframe to an interactive table.\"\n",
              "              style=\"display:none;\">\n",
              "        \n",
              "  <svg xmlns=\"http://www.w3.org/2000/svg\" height=\"24px\"viewBox=\"0 0 24 24\"\n",
              "       width=\"24px\">\n",
              "    <path d=\"M0 0h24v24H0V0z\" fill=\"none\"/>\n",
              "    <path d=\"M18.56 5.44l.94 2.06.94-2.06 2.06-.94-2.06-.94-.94-2.06-.94 2.06-2.06.94zm-11 1L8.5 8.5l.94-2.06 2.06-.94-2.06-.94L8.5 2.5l-.94 2.06-2.06.94zm10 10l.94 2.06.94-2.06 2.06-.94-2.06-.94-.94-2.06-.94 2.06-2.06.94z\"/><path d=\"M17.41 7.96l-1.37-1.37c-.4-.4-.92-.59-1.43-.59-.52 0-1.04.2-1.43.59L10.3 9.45l-7.72 7.72c-.78.78-.78 2.05 0 2.83L4 21.41c.39.39.9.59 1.41.59.51 0 1.02-.2 1.41-.59l7.78-7.78 2.81-2.81c.8-.78.8-2.07 0-2.86zM5.41 20L4 18.59l7.72-7.72 1.47 1.35L5.41 20z\"/>\n",
              "  </svg>\n",
              "      </button>\n",
              "      \n",
              "  <style>\n",
              "    .colab-df-container {\n",
              "      display:flex;\n",
              "      flex-wrap:wrap;\n",
              "      gap: 12px;\n",
              "    }\n",
              "\n",
              "    .colab-df-convert {\n",
              "      background-color: #E8F0FE;\n",
              "      border: none;\n",
              "      border-radius: 50%;\n",
              "      cursor: pointer;\n",
              "      display: none;\n",
              "      fill: #1967D2;\n",
              "      height: 32px;\n",
              "      padding: 0 0 0 0;\n",
              "      width: 32px;\n",
              "    }\n",
              "\n",
              "    .colab-df-convert:hover {\n",
              "      background-color: #E2EBFA;\n",
              "      box-shadow: 0px 1px 2px rgba(60, 64, 67, 0.3), 0px 1px 3px 1px rgba(60, 64, 67, 0.15);\n",
              "      fill: #174EA6;\n",
              "    }\n",
              "\n",
              "    [theme=dark] .colab-df-convert {\n",
              "      background-color: #3B4455;\n",
              "      fill: #D2E3FC;\n",
              "    }\n",
              "\n",
              "    [theme=dark] .colab-df-convert:hover {\n",
              "      background-color: #434B5C;\n",
              "      box-shadow: 0px 1px 3px 1px rgba(0, 0, 0, 0.15);\n",
              "      filter: drop-shadow(0px 1px 2px rgba(0, 0, 0, 0.3));\n",
              "      fill: #FFFFFF;\n",
              "    }\n",
              "  </style>\n",
              "\n",
              "      <script>\n",
              "        const buttonEl =\n",
              "          document.querySelector('#df-411c8c5b-96a9-470e-9d05-4230320fd23a button.colab-df-convert');\n",
              "        buttonEl.style.display =\n",
              "          google.colab.kernel.accessAllowed ? 'block' : 'none';\n",
              "\n",
              "        async function convertToInteractive(key) {\n",
              "          const element = document.querySelector('#df-411c8c5b-96a9-470e-9d05-4230320fd23a');\n",
              "          const dataTable =\n",
              "            await google.colab.kernel.invokeFunction('convertToInteractive',\n",
              "                                                     [key], {});\n",
              "          if (!dataTable) return;\n",
              "\n",
              "          const docLinkHtml = 'Like what you see? Visit the ' +\n",
              "            '<a target=\"_blank\" href=https://colab.research.google.com/notebooks/data_table.ipynb>data table notebook</a>'\n",
              "            + ' to learn more about interactive tables.';\n",
              "          element.innerHTML = '';\n",
              "          dataTable['output_type'] = 'display_data';\n",
              "          await google.colab.output.renderOutput(dataTable, element);\n",
              "          const docLink = document.createElement('div');\n",
              "          docLink.innerHTML = docLinkHtml;\n",
              "          element.appendChild(docLink);\n",
              "        }\n",
              "      </script>\n",
              "    </div>\n",
              "  </div>\n",
              "  "
            ]
          },
          "metadata": {},
          "execution_count": 12
        }
      ]
    },
    {
      "cell_type": "code",
      "source": [
        "final_data = data.drop(rows_todrop, inplace=False)\n",
        "print(len(data), len(final_data))\n",
        "final_data.head()"
      ],
      "metadata": {
        "execution": {
          "iopub.status.busy": "2023-05-15T14:05:34.764463Z",
          "iopub.execute_input": "2023-05-15T14:05:34.765197Z",
          "iopub.status.idle": "2023-05-15T14:05:34.813426Z",
          "shell.execute_reply.started": "2023-05-15T14:05:34.765158Z",
          "shell.execute_reply": "2023-05-15T14:05:34.812503Z"
        },
        "trusted": true,
        "id": "ZiR8Tb0aQLFw",
        "outputId": "a78fa8e3-7c84-4ab1-c6b1-966822f543f3",
        "colab": {
          "base_uri": "https://localhost:8080/",
          "height": 224
        }
      },
      "execution_count": null,
      "outputs": [
        {
          "output_type": "stream",
          "name": "stdout",
          "text": [
            "180928 167734\n"
          ]
        },
        {
          "output_type": "execute_result",
          "data": {
            "text/plain": [
              "   index                                             tweets  \\\n",
              "0      4  As of 2 minutes ago, @OpenAI released their ne...   \n",
              "1      6  As of 2 minutes ago, @OpenAI released their ne...   \n",
              "2     10  GOD DAMN IT @OpenAI STOP ANNOUNCING THINGS I A...   \n",
              "3     17  #ai Models are set to become the search engine...   \n",
              "4     39  Google is done.\\n\\nCompare the quality of thes...   \n",
              "\n",
              "                                      cleaned_tweets  \\\n",
              "0          minute ago released new chatgpt use right   \n",
              "1          minute ago released new chatgpt use right   \n",
              "2                god damn stop announcing thing busy   \n",
              "3  model set become search engine future atm stil...   \n",
              "4       google done compare quality response chatgpt   \n",
              "\n",
              "                                      numeric_tweets labels  encoded_labels  \n",
              "0  [0, 0, 0, 0, 0, 0, 0, 0, 0, 0, 0, 0, 0, 0, 0, ...    bad               0  \n",
              "1  [0, 0, 0, 0, 0, 0, 0, 0, 0, 0, 0, 0, 0, 0, 0, ...    bad               0  \n",
              "2  [0, 0, 0, 0, 0, 0, 0, 0, 0, 0, 0, 0, 0, 0, 0, ...    bad               0  \n",
              "3  [0, 0, 0, 0, 0, 0, 0, 0, 0, 0, 0, 0, 0, 0, 0, ...    bad               0  \n",
              "4  [0, 0, 0, 0, 0, 0, 0, 0, 0, 0, 0, 0, 0, 0, 0, ...    bad               0  "
            ],
            "text/html": [
              "\n",
              "  <div id=\"df-7b947c8b-4767-45ae-9796-0fe7466d9e76\">\n",
              "    <div class=\"colab-df-container\">\n",
              "      <div>\n",
              "<style scoped>\n",
              "    .dataframe tbody tr th:only-of-type {\n",
              "        vertical-align: middle;\n",
              "    }\n",
              "\n",
              "    .dataframe tbody tr th {\n",
              "        vertical-align: top;\n",
              "    }\n",
              "\n",
              "    .dataframe thead th {\n",
              "        text-align: right;\n",
              "    }\n",
              "</style>\n",
              "<table border=\"1\" class=\"dataframe\">\n",
              "  <thead>\n",
              "    <tr style=\"text-align: right;\">\n",
              "      <th></th>\n",
              "      <th>index</th>\n",
              "      <th>tweets</th>\n",
              "      <th>cleaned_tweets</th>\n",
              "      <th>numeric_tweets</th>\n",
              "      <th>labels</th>\n",
              "      <th>encoded_labels</th>\n",
              "    </tr>\n",
              "  </thead>\n",
              "  <tbody>\n",
              "    <tr>\n",
              "      <th>0</th>\n",
              "      <td>4</td>\n",
              "      <td>As of 2 minutes ago, @OpenAI released their ne...</td>\n",
              "      <td>minute ago released new chatgpt use right</td>\n",
              "      <td>[0, 0, 0, 0, 0, 0, 0, 0, 0, 0, 0, 0, 0, 0, 0, ...</td>\n",
              "      <td>bad</td>\n",
              "      <td>0</td>\n",
              "    </tr>\n",
              "    <tr>\n",
              "      <th>1</th>\n",
              "      <td>6</td>\n",
              "      <td>As of 2 minutes ago, @OpenAI released their ne...</td>\n",
              "      <td>minute ago released new chatgpt use right</td>\n",
              "      <td>[0, 0, 0, 0, 0, 0, 0, 0, 0, 0, 0, 0, 0, 0, 0, ...</td>\n",
              "      <td>bad</td>\n",
              "      <td>0</td>\n",
              "    </tr>\n",
              "    <tr>\n",
              "      <th>2</th>\n",
              "      <td>10</td>\n",
              "      <td>GOD DAMN IT @OpenAI STOP ANNOUNCING THINGS I A...</td>\n",
              "      <td>god damn stop announcing thing busy</td>\n",
              "      <td>[0, 0, 0, 0, 0, 0, 0, 0, 0, 0, 0, 0, 0, 0, 0, ...</td>\n",
              "      <td>bad</td>\n",
              "      <td>0</td>\n",
              "    </tr>\n",
              "    <tr>\n",
              "      <th>3</th>\n",
              "      <td>17</td>\n",
              "      <td>#ai Models are set to become the search engine...</td>\n",
              "      <td>model set become search engine future atm stil...</td>\n",
              "      <td>[0, 0, 0, 0, 0, 0, 0, 0, 0, 0, 0, 0, 0, 0, 0, ...</td>\n",
              "      <td>bad</td>\n",
              "      <td>0</td>\n",
              "    </tr>\n",
              "    <tr>\n",
              "      <th>4</th>\n",
              "      <td>39</td>\n",
              "      <td>Google is done.\\n\\nCompare the quality of thes...</td>\n",
              "      <td>google done compare quality response chatgpt</td>\n",
              "      <td>[0, 0, 0, 0, 0, 0, 0, 0, 0, 0, 0, 0, 0, 0, 0, ...</td>\n",
              "      <td>bad</td>\n",
              "      <td>0</td>\n",
              "    </tr>\n",
              "  </tbody>\n",
              "</table>\n",
              "</div>\n",
              "      <button class=\"colab-df-convert\" onclick=\"convertToInteractive('df-7b947c8b-4767-45ae-9796-0fe7466d9e76')\"\n",
              "              title=\"Convert this dataframe to an interactive table.\"\n",
              "              style=\"display:none;\">\n",
              "        \n",
              "  <svg xmlns=\"http://www.w3.org/2000/svg\" height=\"24px\"viewBox=\"0 0 24 24\"\n",
              "       width=\"24px\">\n",
              "    <path d=\"M0 0h24v24H0V0z\" fill=\"none\"/>\n",
              "    <path d=\"M18.56 5.44l.94 2.06.94-2.06 2.06-.94-2.06-.94-.94-2.06-.94 2.06-2.06.94zm-11 1L8.5 8.5l.94-2.06 2.06-.94-2.06-.94L8.5 2.5l-.94 2.06-2.06.94zm10 10l.94 2.06.94-2.06 2.06-.94-2.06-.94-.94-2.06-.94 2.06-2.06.94z\"/><path d=\"M17.41 7.96l-1.37-1.37c-.4-.4-.92-.59-1.43-.59-.52 0-1.04.2-1.43.59L10.3 9.45l-7.72 7.72c-.78.78-.78 2.05 0 2.83L4 21.41c.39.39.9.59 1.41.59.51 0 1.02-.2 1.41-.59l7.78-7.78 2.81-2.81c.8-.78.8-2.07 0-2.86zM5.41 20L4 18.59l7.72-7.72 1.47 1.35L5.41 20z\"/>\n",
              "  </svg>\n",
              "      </button>\n",
              "      \n",
              "  <style>\n",
              "    .colab-df-container {\n",
              "      display:flex;\n",
              "      flex-wrap:wrap;\n",
              "      gap: 12px;\n",
              "    }\n",
              "\n",
              "    .colab-df-convert {\n",
              "      background-color: #E8F0FE;\n",
              "      border: none;\n",
              "      border-radius: 50%;\n",
              "      cursor: pointer;\n",
              "      display: none;\n",
              "      fill: #1967D2;\n",
              "      height: 32px;\n",
              "      padding: 0 0 0 0;\n",
              "      width: 32px;\n",
              "    }\n",
              "\n",
              "    .colab-df-convert:hover {\n",
              "      background-color: #E2EBFA;\n",
              "      box-shadow: 0px 1px 2px rgba(60, 64, 67, 0.3), 0px 1px 3px 1px rgba(60, 64, 67, 0.15);\n",
              "      fill: #174EA6;\n",
              "    }\n",
              "\n",
              "    [theme=dark] .colab-df-convert {\n",
              "      background-color: #3B4455;\n",
              "      fill: #D2E3FC;\n",
              "    }\n",
              "\n",
              "    [theme=dark] .colab-df-convert:hover {\n",
              "      background-color: #434B5C;\n",
              "      box-shadow: 0px 1px 3px 1px rgba(0, 0, 0, 0.15);\n",
              "      filter: drop-shadow(0px 1px 2px rgba(0, 0, 0, 0.3));\n",
              "      fill: #FFFFFF;\n",
              "    }\n",
              "  </style>\n",
              "\n",
              "      <script>\n",
              "        const buttonEl =\n",
              "          document.querySelector('#df-7b947c8b-4767-45ae-9796-0fe7466d9e76 button.colab-df-convert');\n",
              "        buttonEl.style.display =\n",
              "          google.colab.kernel.accessAllowed ? 'block' : 'none';\n",
              "\n",
              "        async function convertToInteractive(key) {\n",
              "          const element = document.querySelector('#df-7b947c8b-4767-45ae-9796-0fe7466d9e76');\n",
              "          const dataTable =\n",
              "            await google.colab.kernel.invokeFunction('convertToInteractive',\n",
              "                                                     [key], {});\n",
              "          if (!dataTable) return;\n",
              "\n",
              "          const docLinkHtml = 'Like what you see? Visit the ' +\n",
              "            '<a target=\"_blank\" href=https://colab.research.google.com/notebooks/data_table.ipynb>data table notebook</a>'\n",
              "            + ' to learn more about interactive tables.';\n",
              "          element.innerHTML = '';\n",
              "          dataTable['output_type'] = 'display_data';\n",
              "          await google.colab.output.renderOutput(dataTable, element);\n",
              "          const docLink = document.createElement('div');\n",
              "          docLink.innerHTML = docLinkHtml;\n",
              "          element.appendChild(docLink);\n",
              "        }\n",
              "      </script>\n",
              "    </div>\n",
              "  </div>\n",
              "  "
            ]
          },
          "metadata": {},
          "execution_count": 13
        }
      ]
    },
    {
      "cell_type": "markdown",
      "source": [
        "# Splitting Data: taining 80% and 20% for testing"
      ],
      "metadata": {
        "id": "4CfH4RrXQLFx"
      }
    },
    {
      "cell_type": "code",
      "source": [
        "#@title ***Splitting the dataset into training and testing sets***\n",
        "inputs = final_data[['tweets', 'cleaned_tweets', 'numeric_tweets']]\n",
        "outputs = final_data[['labels', 'encoded_labels']]\n",
        "\n",
        "in_train, in_test, out_train, out_test = train_test_split(inputs, outputs, test_size=0.2, shuffle=True, random_state=42)\n",
        "\n",
        "X_train = in_train['numeric_tweets']\n",
        "X_test = in_test['numeric_tweets'] \n",
        "y_train = out_train['encoded_labels']\n",
        "y_test = out_test['encoded_labels']"
      ],
      "metadata": {
        "id": "23NFqkc4xlRr",
        "execution": {
          "iopub.status.busy": "2023-05-15T14:05:34.818718Z",
          "iopub.execute_input": "2023-05-15T14:05:34.819585Z",
          "iopub.status.idle": "2023-05-15T14:05:34.914333Z",
          "shell.execute_reply.started": "2023-05-15T14:05:34.819546Z",
          "shell.execute_reply": "2023-05-15T14:05:34.913364Z"
        },
        "trusted": true
      },
      "execution_count": null,
      "outputs": []
    },
    {
      "cell_type": "markdown",
      "source": [
        "# Saving training and testing data into csv files"
      ],
      "metadata": {
        "id": "lXZI42Y5QLFz"
      }
    },
    {
      "cell_type": "code",
      "source": [
        "#training_df = pd.concat([in_train, out_train], axis=1)\n",
        "#training_df.to_csv('training_data.csv', encoding='utf-8', index=False)\n",
        "#testing_df = pd.concat([in_test, out_test], axis=1)\n",
        "#testing_df.to_csv('testing_data.csv', encoding='utf-8', index=False)"
      ],
      "metadata": {
        "execution": {
          "iopub.status.busy": "2023-05-15T14:05:34.915691Z",
          "iopub.execute_input": "2023-05-15T14:05:34.916524Z",
          "iopub.status.idle": "2023-05-15T14:05:34.921245Z",
          "shell.execute_reply.started": "2023-05-15T14:05:34.916472Z",
          "shell.execute_reply": "2023-05-15T14:05:34.920100Z"
        },
        "trusted": true,
        "id": "c5kefQQTQLFz"
      },
      "execution_count": null,
      "outputs": []
    },
    {
      "cell_type": "code",
      "source": [
        "X_train = np.asarray(X_train.tolist())\n",
        "X_train = X_train.astype(np.int32)\n",
        "X_test = np.asarray(X_test.tolist()).astype(np.int32)\n",
        "y_train = np.asarray(y_train.tolist()).astype(np.int32)\n",
        "y_test = np.asarray(y_test.tolist()).astype(np.int32)\n",
        "type(X_train)"
      ],
      "metadata": {
        "execution": {
          "iopub.status.busy": "2023-05-15T14:05:34.922986Z",
          "iopub.execute_input": "2023-05-15T14:05:34.923362Z",
          "iopub.status.idle": "2023-05-15T14:05:38.141335Z",
          "shell.execute_reply.started": "2023-05-15T14:05:34.923328Z",
          "shell.execute_reply": "2023-05-15T14:05:38.140424Z"
        },
        "trusted": true,
        "id": "3S4dK7uNQLF0",
        "outputId": "3ff78741-951d-41f2-e6fa-b303dd7e3e7d",
        "colab": {
          "base_uri": "https://localhost:8080/"
        }
      },
      "execution_count": null,
      "outputs": [
        {
          "output_type": "execute_result",
          "data": {
            "text/plain": [
              "numpy.ndarray"
            ]
          },
          "metadata": {},
          "execution_count": 16
        }
      ]
    },
    {
      "cell_type": "code",
      "source": [
        "X_train"
      ],
      "metadata": {
        "execution": {
          "iopub.status.busy": "2023-05-15T14:05:38.142589Z",
          "iopub.execute_input": "2023-05-15T14:05:38.143533Z",
          "iopub.status.idle": "2023-05-15T14:05:38.150540Z",
          "shell.execute_reply.started": "2023-05-15T14:05:38.143478Z",
          "shell.execute_reply": "2023-05-15T14:05:38.149296Z"
        },
        "trusted": true,
        "id": "EzceUmZyQLF2",
        "outputId": "0da72da0-b43f-4191-d805-a9454d361059",
        "colab": {
          "base_uri": "https://localhost:8080/"
        }
      },
      "execution_count": null,
      "outputs": [
        {
          "output_type": "execute_result",
          "data": {
            "text/plain": [
              "array([[   0,    0,    0, ...,  618,  106,  407],\n",
              "       [   0,    0,    0, ...,   46,    2, 2489],\n",
              "       [   0,    0,    0, ...,  949, 5749,   31],\n",
              "       ...,\n",
              "       [   0,    0,    0, ...,  104,  314,  178],\n",
              "       [   0,    0,    0, ..., 1108, 1815,   20],\n",
              "       [   0,    0,    0, ...,  195,  479,   46]], dtype=int32)"
            ]
          },
          "metadata": {},
          "execution_count": 17
        }
      ]
    },
    {
      "cell_type": "markdown",
      "source": [
        "# Prediction of User Input Function"
      ],
      "metadata": {
        "id": "nG8oS184QLF3"
      }
    },
    {
      "cell_type": "code",
      "source": [
        "def predict_user_input(tweets , model):\n",
        "    data = pd.DataFrame({ 'Tweets': tweets })\n",
        "    cleaned_data = data['Tweets'].apply(clean_dataset)\n",
        "    sequences = tokenizer.texts_to_sequences(cleaned_data)\n",
        "    pad_seqs = pad_sequences(sequences, maxlen=maxlen)\n",
        "    predicted_labels = model.predict(pad_seqs)\n",
        "    data['labels'] = [ label_encoder.classes_[label_num] for label_num in np.argmax(predicted_labels, axis=1)]\n",
        "    #print(data)\n",
        "    return predicted_labels, data \n"
      ],
      "metadata": {
        "id": "fQ74zMy9lEwV",
        "execution": {
          "iopub.status.busy": "2023-05-15T14:07:06.240589Z",
          "iopub.execute_input": "2023-05-15T14:07:06.241091Z",
          "iopub.status.idle": "2023-05-15T14:07:06.522292Z",
          "shell.execute_reply.started": "2023-05-15T14:07:06.241050Z",
          "shell.execute_reply": "2023-05-15T14:07:06.521215Z"
        },
        "trusted": true
      },
      "execution_count": null,
      "outputs": []
    },
    {
      "cell_type": "markdown",
      "source": [
        "# GRU"
      ],
      "metadata": {
        "id": "G6KNhnM7QLGB"
      }
    },
    {
      "cell_type": "code",
      "source": [
        "import matplotlib.pyplot as plt"
      ],
      "metadata": {
        "id": "TtgrUOxtr8GV"
      },
      "execution_count": null,
      "outputs": []
    },
    {
      "cell_type": "code",
      "source": [
        "import matplotlib.pyplot as plt\n",
        "import matplotlib.pyplot as plt\n",
        "from keras.preprocessing.text import Tokenizer\n",
        "from keras.utils import pad_sequences\n",
        "\n",
        "# Tokenize the input text\n",
        "tokenizer = Tokenizer(num_words=7000)\n",
        "tokenizer.fit_on_texts(data[\"tweets\"])\n",
        "\n",
        "\n",
        "# Pad the sequences to a fixed length\n",
        "max_len = 140"
      ],
      "metadata": {
        "execution": {
          "iopub.status.busy": "2023-05-15T14:09:49.521858Z",
          "iopub.execute_input": "2023-05-15T14:09:49.522161Z",
          "iopub.status.idle": "2023-05-15T14:09:56.691522Z",
          "shell.execute_reply.started": "2023-05-15T14:09:49.522117Z",
          "shell.execute_reply": "2023-05-15T14:09:56.690562Z"
        },
        "trusted": true,
        "id": "W8T7N7VMQLGC"
      },
      "execution_count": null,
      "outputs": []
    },
    {
      "cell_type": "markdown",
      "source": [
        "# word embeding"
      ],
      "metadata": {
        "id": "NZTgeGBVQLGD"
      }
    },
    {
      "cell_type": "code",
      "source": [
        "import numpy as np\n",
        "from keras.utils import to_categorical\n",
        "\n",
        "# Load pre-trained word embeddings\n",
        "embedding_dim = 100\n",
        "embeddings_index = {}\n",
        "with open('/content/drive/MyDrive/project703/glove.6B.100d.txt', encoding='utf8') as f:\n",
        "    for line in f:\n",
        "        values = line.split()\n",
        "        word = values[0]\n",
        "        coefs = np.asarray(values[1:], dtype='float32')\n",
        "        embeddings_index[word] = coefs\n",
        "\n",
        "# Create an embedding matrix for the tokenizer\n",
        "word_index = tokenizer.word_index\n",
        "#num_words = min(len(word_index), 7000)\n",
        "num_words =  7000\n",
        "embedding_matrix = np.zeros((num_words, embedding_dim))\n",
        "for word, i in word_index.items():\n",
        "    if i >= num_words:\n",
        "        continue\n",
        "    embedding_vector = embeddings_index.get(word)\n",
        "    if embedding_vector is not None:\n",
        "        embedding_matrix[i] = embedding_vector\n",
        "\n",
        "# Convert the output labels to one-hot encoded vectors\n",
        "y_train_en = to_categorical(y_train)\n",
        "y_test_en = to_categorical(y_test)"
      ],
      "metadata": {
        "execution": {
          "iopub.status.busy": "2023-05-15T16:14:28.210337Z",
          "iopub.execute_input": "2023-05-15T16:14:28.210740Z",
          "iopub.status.idle": "2023-05-15T16:14:39.792613Z",
          "shell.execute_reply.started": "2023-05-15T16:14:28.210706Z",
          "shell.execute_reply": "2023-05-15T16:14:39.791578Z"
        },
        "trusted": true,
        "id": "rbbUpM4BQLGD"
      },
      "execution_count": null,
      "outputs": []
    },
    {
      "cell_type": "markdown",
      "source": [
        "# training model"
      ],
      "metadata": {
        "id": "m3R_IrfkQLGE"
      }
    },
    {
      "cell_type": "code",
      "source": [
        "from keras.models import Sequential\n",
        "from keras.layers import Embedding, Dense,GRU\n",
        "from keras.callbacks import EarlyStopping\n",
        "\n",
        "# Create the model\n",
        "model2 = Sequential()\n",
        "model2.add(Embedding(num_words, embedding_dim, input_length=max_len, weights=[embedding_matrix], trainable=True))\n",
        "model2.add(Bidirectional(GRU(128, dropout=0.2, recurrent_dropout=0.2)))\n",
        "model2.add(Dense(3, activation='softmax'))\n",
        "#model2.add(Dense(3, activation='relu'))\n",
        "\n",
        "\n",
        "\n",
        "# Compile the model\n",
        "model2.compile(loss='categorical_crossentropy', optimizer= 'adam', metrics=['accuracy'])\n",
        "\n",
        "# Train the model\n",
        "#model2.fit(X_train, y_train_onehot, validation_data=(X_test, y_test_onehot), epochs=10, batch_size=1024)\n",
        "history2 = model2.fit(X_train, y_train_en, epochs=10, batch_size=1024, validation_split=0.1, callbacks=[EarlyStopping(monitor='val_loss', patience=3, min_delta=0.001)])"
      ],
      "metadata": {
        "execution": {
          "iopub.status.busy": "2023-05-15T16:51:52.012192Z",
          "iopub.execute_input": "2023-05-15T16:51:52.012795Z",
          "iopub.status.idle": "2023-05-15T17:07:18.162153Z",
          "shell.execute_reply.started": "2023-05-15T16:51:52.012741Z",
          "shell.execute_reply": "2023-05-15T17:07:18.161220Z"
        },
        "trusted": true,
        "id": "Ch6Yy3_VQLGF",
        "outputId": "5af40c48-e2f3-40ae-c3c8-5620700f7300",
        "colab": {
          "base_uri": "https://localhost:8080/"
        }
      },
      "execution_count": null,
      "outputs": [
        {
          "output_type": "stream",
          "name": "stderr",
          "text": [
            "WARNING:tensorflow:Layer gru will not use cuDNN kernels since it doesn't meet the criteria. It will use a generic GPU kernel as fallback when running on GPU.\n",
            "WARNING:tensorflow:Layer gru will not use cuDNN kernels since it doesn't meet the criteria. It will use a generic GPU kernel as fallback when running on GPU.\n",
            "WARNING:tensorflow:Layer gru will not use cuDNN kernels since it doesn't meet the criteria. It will use a generic GPU kernel as fallback when running on GPU.\n"
          ]
        },
        {
          "output_type": "stream",
          "name": "stdout",
          "text": [
            "Epoch 1/10\n",
            "118/118 [==============================] - 161s 1s/step - loss: 0.9538 - accuracy: 0.5201 - val_loss: 0.6950 - val_accuracy: 0.6954\n",
            "Epoch 2/10\n",
            "118/118 [==============================] - 142s 1s/step - loss: 0.6105 - accuracy: 0.7503 - val_loss: 0.4893 - val_accuracy: 0.8152\n",
            "Epoch 3/10\n",
            "118/118 [==============================] - 134s 1s/step - loss: 0.4840 - accuracy: 0.8147 - val_loss: 0.4244 - val_accuracy: 0.8397\n",
            "Epoch 4/10\n",
            "118/118 [==============================] - 140s 1s/step - loss: 0.4095 - accuracy: 0.8499 - val_loss: 0.3668 - val_accuracy: 0.8737\n",
            "Epoch 5/10\n",
            "118/118 [==============================] - 130s 1s/step - loss: 0.3614 - accuracy: 0.8738 - val_loss: 0.3452 - val_accuracy: 0.8861\n",
            "Epoch 6/10\n",
            "118/118 [==============================] - 135s 1s/step - loss: 0.3381 - accuracy: 0.8852 - val_loss: 0.3317 - val_accuracy: 0.8920\n",
            "Epoch 7/10\n",
            "118/118 [==============================] - 131s 1s/step - loss: 0.3193 - accuracy: 0.8936 - val_loss: 0.3310 - val_accuracy: 0.8933\n",
            "Epoch 8/10\n",
            "118/118 [==============================] - 136s 1s/step - loss: 0.3076 - accuracy: 0.8982 - val_loss: 0.3193 - val_accuracy: 0.8978\n",
            "Epoch 9/10\n",
            "118/118 [==============================] - 131s 1s/step - loss: 0.2983 - accuracy: 0.9021 - val_loss: 0.3175 - val_accuracy: 0.8990\n",
            "Epoch 10/10\n",
            "118/118 [==============================] - 141s 1s/step - loss: 0.2888 - accuracy: 0.9055 - val_loss: 0.3186 - val_accuracy: 0.8989\n"
          ]
        }
      ]
    },
    {
      "cell_type": "markdown",
      "source": [
        "# testing"
      ],
      "metadata": {
        "id": "oyfMQd_MQLGG"
      }
    },
    {
      "cell_type": "code",
      "source": [
        "predicted_labels = model2.predict(X_test, verbose=1)"
      ],
      "metadata": {
        "colab": {
          "base_uri": "https://localhost:8080/"
        },
        "id": "SYTzSZDBsIfW",
        "outputId": "bc8f6f7e-4479-49fc-bcda-90406baa25f7"
      },
      "execution_count": null,
      "outputs": [
        {
          "output_type": "stream",
          "name": "stdout",
          "text": [
            "1049/1049 [==============================] - 82s 78ms/step\n"
          ]
        }
      ]
    },
    {
      "cell_type": "code",
      "source": [
        "def get_measurements(true_y, pred_y, average='macro'):\n",
        "    accuracy = accuracy_score(true_y, pred_y)\n",
        "    recall = recall_score(true_y, pred_y, average=average)\n",
        "    precision = precision_score(true_y, pred_y, average=average)\n",
        "    fscore = f1_score(true_y, pred_y, average=average)\n",
        "    mse = mean_squared_error(true_y, pred_y)  # Calculate MSE\n",
        "    #auc_roc = roc_auc_score(true_y, pred_y, multi_class='ovr' )  # Calculate AUC-ROC\n",
        "    mae = mean_absolute_error(true_y, pred_y)  # Calculate MAE\n",
        "\n",
        "    measurements = {\n",
        "        \"accuracy\": accuracy,\n",
        "        \"recall\": recall,\n",
        "        \"precision\": precision,\n",
        "        \"fscore\": fscore,\n",
        "        \"mse\": mse,\n",
        "        \n",
        "        \"mae\": mae\n",
        "    }\n",
        "\n",
        "    return measurements\n",
        "\n",
        "    \n",
        "\n",
        "values= get_measurements(y_test, np.argmax(predicted_labels, axis=1))\n",
        "print(values)\n"
      ],
      "metadata": {
        "execution": {
          "iopub.status.busy": "2023-05-15T17:07:33.683766Z",
          "iopub.execute_input": "2023-05-15T17:07:33.684146Z",
          "iopub.status.idle": "2023-05-15T17:08:19.799549Z",
          "shell.execute_reply.started": "2023-05-15T17:07:33.684115Z",
          "shell.execute_reply": "2023-05-15T17:08:19.798504Z"
        },
        "trusted": true,
        "id": "CiN4gHJTQLGG",
        "outputId": "1d14dd5e-a63f-43c9-f9f2-adacc60c052f",
        "colab": {
          "base_uri": "https://localhost:8080/"
        }
      },
      "execution_count": null,
      "outputs": [
        {
          "output_type": "stream",
          "name": "stdout",
          "text": [
            "{'accuracy': 0.8986198467821266, 'recall': 0.8973666837476107, 'precision': 0.8974344405546307, 'fscore': 0.8973901976347229, 'mse': 0.23140668316093838, 'mae': 0.14472232986556174}\n"
          ]
        }
      ]
    },
    {
      "cell_type": "code",
      "source": [
        "metrics = ['Accuracy', 'Recall', 'Precision', 'F1-Score','MSE','MAE']\n",
        "scores = [values[\"accuracy\"],values[\"recall\"], values[\"precision\"], values[\"fscore\"],values[\"mse\"],values[\"mae\"]]\n",
        "colors = ['b', 'g', 'r', 'c']\n",
        "plt.bar(metrics, scores, color=colors)\n",
        "\n",
        "# Add labels and title\n",
        "plt.xlabel('Evaluation Metrics')\n",
        "plt.ylabel('Score')\n",
        "plt.title('Model Performance - Bidirectional GRU')\n",
        "\n",
        "# Set the y-axis limit to be between 0 and 1\n",
        "plt.ylim([0, 1])\n",
        "\n",
        "# Add text labels to each bar\n",
        "for i in range(len(metrics)):\n",
        "    plt.text(x=i, y=scores[i]+0.05, s=np.round(scores[i], 2), ha='center')\n",
        "\n",
        "# Display the chart\n",
        "plt.show()\n"
      ],
      "metadata": {
        "colab": {
          "base_uri": "https://localhost:8080/",
          "height": 472
        },
        "id": "_kQq4RrYsPm0",
        "outputId": "7322d01e-56a1-47ff-e255-2a38b47b9a52"
      },
      "execution_count": null,
      "outputs": [
        {
          "output_type": "display_data",
          "data": {
            "text/plain": [
              "<Figure size 640x480 with 1 Axes>"
            ],
            "image/png": "[encoded data removed]"
          },
          "metadata": {}
        }
      ]
    },
    {
      "cell_type": "code",
      "source": [
        "\n",
        "\n",
        "print(predict_user_input([\n",
        "    'chatgpt is very crazy !', \n",
        "    'chatgpt is kind a dangerous', \n",
        "    'woooow, chatgt is really impressive !!!',\n",
        "    \"chatgpt is an AI tool\",\n",
        "    \"good results\"] , model2))\n",
        "\n",
        "print(\"\")\n",
        "\n",
        "print(predict_user_input([\n",
        "    \"The worst result, I did not expect that unwanted results. it is a useless tool\",\n",
        "    \"my name is ahmed i want to became a data scientist\",\n",
        "    'woooow, chatgpt is really impressive i can not imagine how chatgpt generate solution like humans  ',\n",
        "    \"chatgpt is an AI helpful tool to help solve complex problems and take less time than traditional way i like it\",\n",
        "    \"good results when i use this tool i like it and it helped me and better than google\"\n",
        "] , model2) )\n",
        "\n",
        "print(\"finished\")"
      ],
      "metadata": {
        "execution": {
          "iopub.status.busy": "2023-05-15T17:09:03.536655Z",
          "iopub.execute_input": "2023-05-15T17:09:03.537011Z",
          "iopub.status.idle": "2023-05-15T17:09:03.746601Z",
          "shell.execute_reply.started": "2023-05-15T17:09:03.536982Z",
          "shell.execute_reply": "2023-05-15T17:09:03.745551Z"
        },
        "trusted": true,
        "id": "HMGwL33gQLGH",
        "outputId": "a81dfb90-2e2e-4ac1-cc3c-10bc9be354c1",
        "colab": {
          "base_uri": "https://localhost:8080/"
        }
      },
      "execution_count": null,
      "outputs": [
        {
          "output_type": "stream",
          "name": "stdout",
          "text": [
            "1/1 [==============================] - 0s 80ms/step\n",
            "(array([[0.00882654, 0.90210193, 0.0890715 ],\n",
            "       [0.98216325, 0.00436554, 0.0134712 ],\n",
            "       [0.9820815 , 0.00325453, 0.01466398],\n",
            "       [0.01231523, 0.00204925, 0.9856355 ],\n",
            "       [0.9710553 , 0.00477062, 0.02417404]], dtype=float32),                                     Tweets   labels\n",
            "0                  chatgpt is very crazy !     good\n",
            "1              chatgpt is kind a dangerous      bad\n",
            "2  woooow, chatgt is really impressive !!!      bad\n",
            "3                    chatgpt is an AI tool  neutral\n",
            "4                             good results      bad)\n",
            "\n",
            "1/1 [==============================] - 0s 89ms/step\n",
            "(array([[9.23038721e-01, 1.07106725e-02, 6.62505776e-02],\n",
            "       [9.73606467e-01, 6.25568035e-04, 2.57678889e-02],\n",
            "       [9.74873126e-01, 3.16022639e-03, 2.19666902e-02],\n",
            "       [6.67852873e-04, 9.91712570e-01, 7.61957699e-03],\n",
            "       [9.61845517e-01, 3.26378457e-03, 3.48906033e-02]], dtype=float32),                                               Tweets labels\n",
            "0  The worst result, I did not expect that unwant...    bad\n",
            "1  my name is ahmed i want to became a data scien...    bad\n",
            "2  woooow, chatgpt is really impressive i can not...    bad\n",
            "3  chatgpt is an AI helpful tool to help solve co...   good\n",
            "4  good results when i use this tool i like it an...    bad)\n",
            "finished\n"
          ]
        }
      ]
    },
    {
      "cell_type": "code",
      "source": [
        "def plot_graphs(history, string):\n",
        "    plt.plot(history.history[string])\n",
        "    plt.plot(history.history['val_'+string])\n",
        "    plt.xlabel(\"Epochs\")\n",
        "    plt.ylabel(string)\n",
        "    plt.legend([string, 'val_'+string])\n",
        "    plt.show()\n"
      ],
      "metadata": {
        "execution": {
          "iopub.status.busy": "2023-05-15T17:09:34.166184Z",
          "iopub.execute_input": "2023-05-15T17:09:34.166594Z",
          "iopub.status.idle": "2023-05-15T17:09:34.172980Z",
          "shell.execute_reply.started": "2023-05-15T17:09:34.166559Z",
          "shell.execute_reply": "2023-05-15T17:09:34.172005Z"
        },
        "trusted": true,
        "id": "VvPmmFWOQLGI"
      },
      "execution_count": null,
      "outputs": []
    },
    {
      "cell_type": "code",
      "source": [
        "#x = [1 , 2 , 3 , 4]\n",
        "x= np.array([1, 2 , 3 ,  4])\n",
        "y = [52 , 86 , 75 , 88]\n",
        "y= np.array([52 , 86 , 75 , 88])\n",
        "#plt.plot(x)\n",
        "plt.plot(x,y)\n",
        "\n",
        "plt.xlabel(\"Trial\")\n",
        "plt.ylabel(\"Accuracy\")\n",
        "plt.show()"
      ],
      "metadata": {
        "execution": {
          "iopub.status.busy": "2023-05-15T16:01:13.061616Z",
          "iopub.execute_input": "2023-05-15T16:01:13.061971Z",
          "iopub.status.idle": "2023-05-15T16:01:13.269150Z",
          "shell.execute_reply.started": "2023-05-15T16:01:13.061943Z",
          "shell.execute_reply": "2023-05-15T16:01:13.268257Z"
        },
        "trusted": true,
        "id": "dXC6K2MnQLGS",
        "colab": {
          "base_uri": "https://localhost:8080/",
          "height": 449
        },
        "outputId": "97ff5b0b-9c9b-4a02-b67a-9ffc70d749e7"
      },
      "execution_count": null,
      "outputs": [
        {
          "output_type": "display_data",
          "data": {
            "text/plain": [
              "<Figure size 640x480 with 1 Axes>"
            ],
            "image/png": "[encoded data removed]"
          },
          "metadata": {}
        }
      ]
    },
    {
      "cell_type": "code",
      "source": [
        "x = [1 , 2 , 3 , 4]\n",
        "y = [40 ,  86  , 89, 89]\n",
        "#plt.plot(x)\n",
        "plt.plot(x,y)\n",
        "\n",
        "plt.xlabel(\"Trial\")\n",
        "plt.ylabel(\"Accuracy\")\n",
        "plt.show()"
      ],
      "metadata": {
        "execution": {
          "iopub.status.busy": "2023-05-15T17:11:59.091159Z",
          "iopub.execute_input": "2023-05-15T17:11:59.091594Z",
          "iopub.status.idle": "2023-05-15T17:11:59.303286Z",
          "shell.execute_reply.started": "2023-05-15T17:11:59.091559Z",
          "shell.execute_reply": "2023-05-15T17:11:59.302391Z"
        },
        "trusted": true,
        "id": "Utzi__L5QLGT",
        "colab": {
          "base_uri": "https://localhost:8080/",
          "height": 449
        },
        "outputId": "00425815-0dfe-4865-c94c-ccd998f7aa2a"
      },
      "execution_count": null,
      "outputs": [
        {
          "output_type": "display_data",
          "data": {
            "text/plain": [
              "<Figure size 640x480 with 1 Axes>"
            ],
            "image/png": "[encoded data removed]"
          },
          "metadata": {}
        }
      ]
    },
    {
      "cell_type": "code",
      "source": [
        "plot_graphs(history2, \"accuracy\")\n",
        "plot_graphs(history2, \"loss\")"
      ],
      "metadata": {
        "execution": {
          "iopub.status.busy": "2023-05-15T17:09:40.321380Z",
          "iopub.execute_input": "2023-05-15T17:09:40.322045Z",
          "iopub.status.idle": "2023-05-15T17:09:40.767289Z",
          "shell.execute_reply.started": "2023-05-15T17:09:40.322010Z",
          "shell.execute_reply": "2023-05-15T17:09:40.766401Z"
        },
        "trusted": true,
        "id": "grNKidPAQLGT",
        "colab": {
          "base_uri": "https://localhost:8080/",
          "height": 881
        },
        "outputId": "9f965b60-ef46-4326-e19b-1a9c4211b8fc"
      },
      "execution_count": null,
      "outputs": [
        {
          "output_type": "display_data",
          "data": {
            "text/plain": [
              "<Figure size 640x480 with 1 Axes>"
            ],
            "image/png": "[encoded data removed]"
          },
          "metadata": {}
        },
        {
          "output_type": "display_data",
          "data": {
            "text/plain": [
              "<Figure size 640x480 with 1 Axes>"
            ],
            "image/png": "[encoded data removed]"
          },
          "metadata": {}
        }
      ]
    },
    {
      "cell_type": "code",
      "source": [
        "def userIn(model):\n",
        "    x=input(\"enter sentence or x for exit: \")\n",
        "    while x != \"x\":\n",
        "        print(predict_user_input([x] , model))\n",
        "        x=input(\"enter sentence or x for exit: \")\n",
        "        \n",
        "userIn(model2)\n",
        "        "
      ],
      "metadata": {
        "execution": {
          "iopub.status.busy": "2023-05-15T17:09:49.406390Z",
          "iopub.execute_input": "2023-05-15T17:09:49.407125Z",
          "iopub.status.idle": "2023-05-15T17:10:55.202482Z",
          "shell.execute_reply.started": "2023-05-15T17:09:49.407086Z",
          "shell.execute_reply": "2023-05-15T17:10:55.201463Z"
        },
        "trusted": true,
        "id": "R1Dsa_GgQLGU",
        "colab": {
          "base_uri": "https://localhost:8080/"
        },
        "outputId": "565261b6-d35e-405b-a1c1-c8e71fe1bdb2"
      },
      "execution_count": null,
      "outputs": [
        {
          "name": "stdout",
          "output_type": "stream",
          "text": [
            "enter sentence or x for exit: Well, I am quite impressed with the ChatGPT so far - it looks like safety and transparency was taken into account\n",
            "1/1 [==============================] - 0s 88ms/step\n",
            "(array([[0.97905844, 0.00167693, 0.01926465]], dtype=float32),                                               Tweets labels\n",
            "0  Well, I am quite impressed with the ChatGPT so...    bad)\n",
            "enter sentence or x for exit: OpenAI ChatGPT: Optimizing Language Models for Dialogue\n",
            "1/1 [==============================] - 0s 81ms/step\n",
            "(array([[0.04936916, 0.01509256, 0.9355383 ]], dtype=float32),                                               Tweets   labels\n",
            "0  OpenAI ChatGPT: Optimizing Language Models for...  neutral)\n",
            "enter sentence or x for exit: x\n"
          ]
        }
      ]
    }
  ]
}