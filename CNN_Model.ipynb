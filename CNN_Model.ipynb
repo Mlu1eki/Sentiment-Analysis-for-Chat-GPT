{
 "cells": [
  {
   "cell_type": "code",
   "execution_count": 22,
   "metadata": {
    "execution": {
     "iopub.execute_input": "2023-05-15T14:03:43.100622Z",
     "iopub.status.busy": "2023-05-15T14:03:43.100212Z",
     "iopub.status.idle": "2023-05-15T14:03:43.107050Z",
     "shell.execute_reply": "2023-05-15T14:03:43.105919Z",
     "shell.execute_reply.started": "2023-05-15T14:03:43.100586Z"
    },
    "id": "FirrLHy1YEqI"
   },
   "outputs": [],
   "source": [
    "#@title ***Importing required librarys***\n",
    "\n",
    "import pandas as pd\n",
    "import numpy as np\n",
    "import re\n",
    "import nltk\n",
    "from nltk.corpus import stopwords\n",
    "from nltk.tokenize import word_tokenize\n",
    "from keras.preprocessing.text import Tokenizer\n",
    "from tensorflow.keras.preprocessing.sequence import pad_sequences\n",
    "from keras.models import Sequential\n",
    "from keras.layers import Embedding, Conv1D, MaxPooling1D, Flatten, Dense,Bidirectional\n",
    "from sklearn.model_selection import train_test_split\n",
    "from sklearn.preprocessing import LabelEncoder\n",
    "from sklearn.metrics import accuracy_score, recall_score, precision_score, f1_score, mean_squared_error, mean_absolute_error"
   ]
  },
  {
   "cell_type": "code",
   "execution_count": 3,
   "metadata": {
    "colab": {
     "base_uri": "https://localhost:8080/"
    },
    "id": "MzTxWay3QnLf",
    "outputId": "0f4f046d-a303-4125-e58a-530ed3e6cb8c"
   },
   "outputs": [
    {
     "name": "stdout",
     "output_type": "stream",
     "text": [
      "Mounted at /content/drive\n"
     ]
    }
   ],
   "source": [
    "from google.colab import drive\n",
    "drive.mount('/content/drive')"
   ]
  },
  {
   "cell_type": "code",
   "execution_count": 4,
   "metadata": {
    "colab": {
     "base_uri": "https://localhost:8080/"
    },
    "execution": {
     "iopub.execute_input": "2023-05-15T14:03:43.115167Z",
     "iopub.status.busy": "2023-05-15T14:03:43.113936Z",
     "iopub.status.idle": "2023-05-15T14:03:43.819673Z",
     "shell.execute_reply": "2023-05-15T14:03:43.818587Z",
     "shell.execute_reply.started": "2023-05-15T14:03:43.115114Z"
    },
    "id": "l5SNv5SKZCEO",
    "outputId": "15eb4c14-02be-40e4-a9b5-a29c4ba19c96"
   },
   "outputs": [
    {
     "data": {
      "text/plain": [
       "[['ChatGPT: Optimizing Language Models for Dialogue https://t.co/K9rKRygYyn @OpenAI',\n",
       "  'neutral'],\n",
       " ['Try talking with ChatGPT, our new AI system which is optimized for dialogue. Your feedback will help us improve it. https://t.co/sHDm57g3Kr',\n",
       "  'good'],\n",
       " ['ChatGPT: Optimizing Language Models for Dialogue https://t.co/GLEbMoKN6w #AI #MachineLearning #DataScience #ArtificialIntelligence\\\\n\\\\nTrending AI/ML Article Identified &amp; Digested via Granola; a Machine-Driven RSS Bot by Ramsey Elbasheer https://t.co/RprmAXUp34',\n",
       "  'neutral'],\n",
       " ['THRILLED to share that ChatGPT, our new model optimized for dialog, is now public, free, and accessible to everyone. https://t.co/dyvtHecYbd https://t.co/DdhzhqhCBX https://t.co/l8qTLure71',\n",
       "  'good'],\n",
       " ['As of 2 minutes ago, @OpenAI released their new ChatGPT. \\\\n\\\\nAnd you can use it right now 👇 https://t.co/VyPGPNw988 https://t.co/cSn5h6h1M1',\n",
       "  'bad']]"
      ]
     },
     "execution_count": 4,
     "metadata": {},
     "output_type": "execute_result"
    }
   ],
   "source": [
    "#@title ***Loading the dataset***\n",
    "\n",
    "data = pd.read_csv(\"/content/drive/MyDrive/ProjectCOMP703/file.csv\")\n",
    "data = data.drop([data.columns[0]], axis=1)\n",
    "data.values[:5].tolist()"
   ]
  },
  {
   "cell_type": "markdown",
   "metadata": {
    "id": "PVJET9C5QLFX"
   },
   "source": [
    "# Drop duplicated values"
   ]
  },
  {
   "cell_type": "code",
   "execution_count": 5,
   "metadata": {
    "colab": {
     "base_uri": "https://localhost:8080/"
    },
    "execution": {
     "iopub.execute_input": "2023-05-15T14:03:43.822721Z",
     "iopub.status.busy": "2023-05-15T14:03:43.821762Z",
     "iopub.status.idle": "2023-05-15T14:03:44.476471Z",
     "shell.execute_reply": "2023-05-15T14:03:44.475337Z",
     "shell.execute_reply.started": "2023-05-15T14:03:43.822682Z"
    },
    "id": "ZsvvLLArQLFd",
    "outputId": "70c998af-1491-4a65-ab44-0d0968c9e67f"
   },
   "outputs": [
    {
     "name": "stdout",
     "output_type": "stream",
     "text": [
      "Duplicated values:  1671\n",
      "<class 'pandas.core.frame.DataFrame'>\n",
      "Int64Index: 217623 entries, 0 to 219293\n",
      "Data columns (total 2 columns):\n",
      " #   Column  Non-Null Count   Dtype \n",
      "---  ------  --------------   ----- \n",
      " 0   tweets  217623 non-null  object\n",
      " 1   labels  217623 non-null  object\n",
      "dtypes: object(2)\n",
      "memory usage: 5.0+ MB\n",
      "None\n"
     ]
    }
   ],
   "source": [
    "print(\"Duplicated values: \" , data.duplicated().sum())\n",
    "\n",
    "data.drop_duplicates(inplace=True)\n",
    "data = data.dropna(axis=0)\n",
    "print(data.info())"
   ]
  },
  {
   "cell_type": "markdown",
   "metadata": {
    "id": "dzDQxWUeQLFf"
   },
   "source": [
    "# balance data"
   ]
  },
  {
   "cell_type": "code",
   "execution_count": 6,
   "metadata": {
    "colab": {
     "base_uri": "https://localhost:8080/"
    },
    "execution": {
     "iopub.execute_input": "2023-05-15T14:03:44.479261Z",
     "iopub.status.busy": "2023-05-15T14:03:44.478434Z",
     "iopub.status.idle": "2023-05-15T14:03:44.514305Z",
     "shell.execute_reply": "2023-05-15T14:03:44.513166Z",
     "shell.execute_reply.started": "2023-05-15T14:03:44.479217Z"
    },
    "id": "fKgIPLr4QLFh",
    "outputId": "2fa147b6-ee79-4793-ac0f-fbf3718b4588"
   },
   "outputs": [
    {
     "data": {
      "text/plain": [
       "bad        106695\n",
       "good        55754\n",
       "neutral     55174\n",
       "Name: labels, dtype: int64"
      ]
     },
     "execution_count": 6,
     "metadata": {},
     "output_type": "execute_result"
    }
   ],
   "source": [
    "data[\"labels\"].value_counts()"
   ]
  },
  {
   "cell_type": "code",
   "execution_count": 7,
   "metadata": {
    "colab": {
     "base_uri": "https://localhost:8080/",
     "height": 206
    },
    "execution": {
     "iopub.execute_input": "2023-05-15T14:03:44.518104Z",
     "iopub.status.busy": "2023-05-15T14:03:44.517716Z",
     "iopub.status.idle": "2023-05-15T14:03:44.658617Z",
     "shell.execute_reply": "2023-05-15T14:03:44.656390Z",
     "shell.execute_reply.started": "2023-05-15T14:03:44.518068Z"
    },
    "id": "xRmBX_fHQLFj",
    "outputId": "8636dab4-d42d-4a6d-9a24-b6834a1be881"
   },
   "outputs": [
    {
     "data": {
      "text/html": [
       "\n",
       "  <div id=\"df-a4230859-0ba7-4fc4-b543-9e1e83076146\">\n",
       "    <div class=\"colab-df-container\">\n",
       "      <div>\n",
       "<style scoped>\n",
       "    .dataframe tbody tr th:only-of-type {\n",
       "        vertical-align: middle;\n",
       "    }\n",
       "\n",
       "    .dataframe tbody tr th {\n",
       "        vertical-align: top;\n",
       "    }\n",
       "\n",
       "    .dataframe thead th {\n",
       "        text-align: right;\n",
       "    }\n",
       "</style>\n",
       "<table border=\"1\" class=\"dataframe\">\n",
       "  <thead>\n",
       "    <tr style=\"text-align: right;\">\n",
       "      <th></th>\n",
       "      <th>tweets</th>\n",
       "      <th>labels</th>\n",
       "    </tr>\n",
       "  </thead>\n",
       "  <tbody>\n",
       "    <tr>\n",
       "      <th>4</th>\n",
       "      <td>As of 2 minutes ago, @OpenAI released their ne...</td>\n",
       "      <td>bad</td>\n",
       "    </tr>\n",
       "    <tr>\n",
       "      <th>6</th>\n",
       "      <td>As of 2 minutes ago, @OpenAI released their ne...</td>\n",
       "      <td>bad</td>\n",
       "    </tr>\n",
       "    <tr>\n",
       "      <th>10</th>\n",
       "      <td>GOD DAMN IT @OpenAI STOP ANNOUNCING THINGS I A...</td>\n",
       "      <td>bad</td>\n",
       "    </tr>\n",
       "    <tr>\n",
       "      <th>17</th>\n",
       "      <td>#ai Models are set to become the search engine...</td>\n",
       "      <td>bad</td>\n",
       "    </tr>\n",
       "    <tr>\n",
       "      <th>39</th>\n",
       "      <td>Google is done.\\n\\nCompare the quality of thes...</td>\n",
       "      <td>bad</td>\n",
       "    </tr>\n",
       "  </tbody>\n",
       "</table>\n",
       "</div>\n",
       "      <button class=\"colab-df-convert\" onclick=\"convertToInteractive('df-a4230859-0ba7-4fc4-b543-9e1e83076146')\"\n",
       "              title=\"Convert this dataframe to an interactive table.\"\n",
       "              style=\"display:none;\">\n",
       "        \n",
       "  <svg xmlns=\"http://www.w3.org/2000/svg\" height=\"24px\"viewBox=\"0 0 24 24\"\n",
       "       width=\"24px\">\n",
       "    <path d=\"M0 0h24v24H0V0z\" fill=\"none\"/>\n",
       "    <path d=\"M18.56 5.44l.94 2.06.94-2.06 2.06-.94-2.06-.94-.94-2.06-.94 2.06-2.06.94zm-11 1L8.5 8.5l.94-2.06 2.06-.94-2.06-.94L8.5 2.5l-.94 2.06-2.06.94zm10 10l.94 2.06.94-2.06 2.06-.94-2.06-.94-.94-2.06-.94 2.06-2.06.94z\"/><path d=\"M17.41 7.96l-1.37-1.37c-.4-.4-.92-.59-1.43-.59-.52 0-1.04.2-1.43.59L10.3 9.45l-7.72 7.72c-.78.78-.78 2.05 0 2.83L4 21.41c.39.39.9.59 1.41.59.51 0 1.02-.2 1.41-.59l7.78-7.78 2.81-2.81c.8-.78.8-2.07 0-2.86zM5.41 20L4 18.59l7.72-7.72 1.47 1.35L5.41 20z\"/>\n",
       "  </svg>\n",
       "      </button>\n",
       "      \n",
       "  <style>\n",
       "    .colab-df-container {\n",
       "      display:flex;\n",
       "      flex-wrap:wrap;\n",
       "      gap: 12px;\n",
       "    }\n",
       "\n",
       "    .colab-df-convert {\n",
       "      background-color: #E8F0FE;\n",
       "      border: none;\n",
       "      border-radius: 50%;\n",
       "      cursor: pointer;\n",
       "      display: none;\n",
       "      fill: #1967D2;\n",
       "      height: 32px;\n",
       "      padding: 0 0 0 0;\n",
       "      width: 32px;\n",
       "    }\n",
       "\n",
       "    .colab-df-convert:hover {\n",
       "      background-color: #E2EBFA;\n",
       "      box-shadow: 0px 1px 2px rgba(60, 64, 67, 0.3), 0px 1px 3px 1px rgba(60, 64, 67, 0.15);\n",
       "      fill: #174EA6;\n",
       "    }\n",
       "\n",
       "    [theme=dark] .colab-df-convert {\n",
       "      background-color: #3B4455;\n",
       "      fill: #D2E3FC;\n",
       "    }\n",
       "\n",
       "    [theme=dark] .colab-df-convert:hover {\n",
       "      background-color: #434B5C;\n",
       "      box-shadow: 0px 1px 3px 1px rgba(0, 0, 0, 0.15);\n",
       "      filter: drop-shadow(0px 1px 2px rgba(0, 0, 0, 0.3));\n",
       "      fill: #FFFFFF;\n",
       "    }\n",
       "  </style>\n",
       "\n",
       "      <script>\n",
       "        const buttonEl =\n",
       "          document.querySelector('#df-a4230859-0ba7-4fc4-b543-9e1e83076146 button.colab-df-convert');\n",
       "        buttonEl.style.display =\n",
       "          google.colab.kernel.accessAllowed ? 'block' : 'none';\n",
       "\n",
       "        async function convertToInteractive(key) {\n",
       "          const element = document.querySelector('#df-a4230859-0ba7-4fc4-b543-9e1e83076146');\n",
       "          const dataTable =\n",
       "            await google.colab.kernel.invokeFunction('convertToInteractive',\n",
       "                                                     [key], {});\n",
       "          if (!dataTable) return;\n",
       "\n",
       "          const docLinkHtml = 'Like what you see? Visit the ' +\n",
       "            '<a target=\"_blank\" href=https://colab.research.google.com/notebooks/data_table.ipynb>data table notebook</a>'\n",
       "            + ' to learn more about interactive tables.';\n",
       "          element.innerHTML = '';\n",
       "          dataTable['output_type'] = 'display_data';\n",
       "          await google.colab.output.renderOutput(dataTable, element);\n",
       "          const docLink = document.createElement('div');\n",
       "          docLink.innerHTML = docLinkHtml;\n",
       "          element.appendChild(docLink);\n",
       "        }\n",
       "      </script>\n",
       "    </div>\n",
       "  </div>\n",
       "  "
      ],
      "text/plain": [
       "                                               tweets labels\n",
       "4   As of 2 minutes ago, @OpenAI released their ne...    bad\n",
       "6   As of 2 minutes ago, @OpenAI released their ne...    bad\n",
       "10  GOD DAMN IT @OpenAI STOP ANNOUNCING THINGS I A...    bad\n",
       "17  #ai Models are set to become the search engine...    bad\n",
       "39  Google is done.\\n\\nCompare the quality of thes...    bad"
      ]
     },
     "execution_count": 7,
     "metadata": {},
     "output_type": "execute_result"
    }
   ],
   "source": [
    "class_0 = data[data[\"labels\"] == \"neutral\"]\n",
    "class_1 = data[data[\"labels\"] == \"good\"]\n",
    "class_neg = data[data[\"labels\"] == \"bad\"]\n",
    "class_neg  = class_neg.iloc[:70000]\n",
    "data = pd.concat([class_neg , class_0 , class_1])\n",
    "\n",
    "data.head()"
   ]
  },
  {
   "cell_type": "code",
   "execution_count": 8,
   "metadata": {
    "colab": {
     "base_uri": "https://localhost:8080/"
    },
    "execution": {
     "iopub.execute_input": "2023-05-15T14:03:44.661270Z",
     "iopub.status.busy": "2023-05-15T14:03:44.660214Z",
     "iopub.status.idle": "2023-05-15T14:03:44.691806Z",
     "shell.execute_reply": "2023-05-15T14:03:44.690683Z",
     "shell.execute_reply.started": "2023-05-15T14:03:44.661229Z"
    },
    "id": "I8noentQQLFl",
    "outputId": "60255a21-bb1b-429b-c805-cd9584ee559f"
   },
   "outputs": [
    {
     "data": {
      "text/plain": [
       "bad        70000\n",
       "good       55754\n",
       "neutral    55174\n",
       "Name: labels, dtype: int64"
      ]
     },
     "execution_count": 8,
     "metadata": {},
     "output_type": "execute_result"
    }
   ],
   "source": [
    "data[\"labels\"].value_counts()"
   ]
  },
  {
   "cell_type": "code",
   "execution_count": 29,
   "metadata": {
    "id": "5AxWt-lKt6ol"
   },
   "outputs": [],
   "source": [
    "labels = data['labels'].value_counts()\n",
    "numbers = labels.index\n",
    "quantity = labels.values"
   ]
  },
  {
   "cell_type": "code",
   "execution_count": 30,
   "metadata": {
    "colab": {
     "base_uri": "https://localhost:8080/",
     "height": 542
    },
    "id": "q50eZcYyyCWZ",
    "outputId": "54432774-5b33-47fb-8e51-cf22d0b19ebc"
   },
   "outputs": [
    {
     "data": {
      "text/html": [
       "<html>\n",
       "<head><meta charset=\"utf-8\" /></head>\n",
       "<body>\n",
       "    <div>            <script src=\"https://cdnjs.cloudflare.com/ajax/libs/mathjax/2.7.5/MathJax.js?config=TeX-AMS-MML_SVG\"></script><script type=\"text/javascript\">if (window.MathJax && window.MathJax.Hub && window.MathJax.Hub.Config) {window.MathJax.Hub.Config({SVG: {font: \"STIX-Web\"}});}</script>                <script type=\"text/javascript\">window.PlotlyConfig = {MathJaxConfig: 'local'};</script>\n",
       "        <script src=\"https://cdn.plot.ly/plotly-2.18.2.min.js\"></script>                <div id=\"f3939756-5576-4d24-bf4e-aa19d85f3625\" class=\"plotly-graph-div\" style=\"height:525px; width:100%;\"></div>            <script type=\"text/javascript\">                                    window.PLOTLYENV=window.PLOTLYENV || {};                                    if (document.getElementById(\"f3939756-5576-4d24-bf4e-aa19d85f3625\")) {                    Plotly.newPlot(                        \"f3939756-5576-4d24-bf4e-aa19d85f3625\",                        [{\"domain\":{\"x\":[0.0,1.0],\"y\":[0.0,1.0]},\"hole\":0.5,\"hovertemplate\":\"label=%{label}<br>value=%{value}<extra></extra>\",\"labels\":[\"bad\",\"good\",\"neutral\"],\"legendgroup\":\"\",\"name\":\"\",\"showlegend\":true,\"values\":[70000,55754,55174],\"type\":\"pie\"}],                        {\"template\":{\"data\":{\"histogram2dcontour\":[{\"type\":\"histogram2dcontour\",\"colorbar\":{\"outlinewidth\":0,\"ticks\":\"\"},\"colorscale\":[[0.0,\"#0d0887\"],[0.1111111111111111,\"#46039f\"],[0.2222222222222222,\"#7201a8\"],[0.3333333333333333,\"#9c179e\"],[0.4444444444444444,\"#bd3786\"],[0.5555555555555556,\"#d8576b\"],[0.6666666666666666,\"#ed7953\"],[0.7777777777777778,\"#fb9f3a\"],[0.8888888888888888,\"#fdca26\"],[1.0,\"#f0f921\"]]}],\"choropleth\":[{\"type\":\"choropleth\",\"colorbar\":{\"outlinewidth\":0,\"ticks\":\"\"}}],\"histogram2d\":[{\"type\":\"histogram2d\",\"colorbar\":{\"outlinewidth\":0,\"ticks\":\"\"},\"colorscale\":[[0.0,\"#0d0887\"],[0.1111111111111111,\"#46039f\"],[0.2222222222222222,\"#7201a8\"],[0.3333333333333333,\"#9c179e\"],[0.4444444444444444,\"#bd3786\"],[0.5555555555555556,\"#d8576b\"],[0.6666666666666666,\"#ed7953\"],[0.7777777777777778,\"#fb9f3a\"],[0.8888888888888888,\"#fdca26\"],[1.0,\"#f0f921\"]]}],\"heatmap\":[{\"type\":\"heatmap\",\"colorbar\":{\"outlinewidth\":0,\"ticks\":\"\"},\"colorscale\":[[0.0,\"#0d0887\"],[0.1111111111111111,\"#46039f\"],[0.2222222222222222,\"#7201a8\"],[0.3333333333333333,\"#9c179e\"],[0.4444444444444444,\"#bd3786\"],[0.5555555555555556,\"#d8576b\"],[0.6666666666666666,\"#ed7953\"],[0.7777777777777778,\"#fb9f3a\"],[0.8888888888888888,\"#fdca26\"],[1.0,\"#f0f921\"]]}],\"heatmapgl\":[{\"type\":\"heatmapgl\",\"colorbar\":{\"outlinewidth\":0,\"ticks\":\"\"},\"colorscale\":[[0.0,\"#0d0887\"],[0.1111111111111111,\"#46039f\"],[0.2222222222222222,\"#7201a8\"],[0.3333333333333333,\"#9c179e\"],[0.4444444444444444,\"#bd3786\"],[0.5555555555555556,\"#d8576b\"],[0.6666666666666666,\"#ed7953\"],[0.7777777777777778,\"#fb9f3a\"],[0.8888888888888888,\"#fdca26\"],[1.0,\"#f0f921\"]]}],\"contourcarpet\":[{\"type\":\"contourcarpet\",\"colorbar\":{\"outlinewidth\":0,\"ticks\":\"\"}}],\"contour\":[{\"type\":\"contour\",\"colorbar\":{\"outlinewidth\":0,\"ticks\":\"\"},\"colorscale\":[[0.0,\"#0d0887\"],[0.1111111111111111,\"#46039f\"],[0.2222222222222222,\"#7201a8\"],[0.3333333333333333,\"#9c179e\"],[0.4444444444444444,\"#bd3786\"],[0.5555555555555556,\"#d8576b\"],[0.6666666666666666,\"#ed7953\"],[0.7777777777777778,\"#fb9f3a\"],[0.8888888888888888,\"#fdca26\"],[1.0,\"#f0f921\"]]}],\"surface\":[{\"type\":\"surface\",\"colorbar\":{\"outlinewidth\":0,\"ticks\":\"\"},\"colorscale\":[[0.0,\"#0d0887\"],[0.1111111111111111,\"#46039f\"],[0.2222222222222222,\"#7201a8\"],[0.3333333333333333,\"#9c179e\"],[0.4444444444444444,\"#bd3786\"],[0.5555555555555556,\"#d8576b\"],[0.6666666666666666,\"#ed7953\"],[0.7777777777777778,\"#fb9f3a\"],[0.8888888888888888,\"#fdca26\"],[1.0,\"#f0f921\"]]}],\"mesh3d\":[{\"type\":\"mesh3d\",\"colorbar\":{\"outlinewidth\":0,\"ticks\":\"\"}}],\"scatter\":[{\"fillpattern\":{\"fillmode\":\"overlay\",\"size\":10,\"solidity\":0.2},\"type\":\"scatter\"}],\"parcoords\":[{\"type\":\"parcoords\",\"line\":{\"colorbar\":{\"outlinewidth\":0,\"ticks\":\"\"}}}],\"scatterpolargl\":[{\"type\":\"scatterpolargl\",\"marker\":{\"colorbar\":{\"outlinewidth\":0,\"ticks\":\"\"}}}],\"bar\":[{\"error_x\":{\"color\":\"#2a3f5f\"},\"error_y\":{\"color\":\"#2a3f5f\"},\"marker\":{\"line\":{\"color\":\"#E5ECF6\",\"width\":0.5},\"pattern\":{\"fillmode\":\"overlay\",\"size\":10,\"solidity\":0.2}},\"type\":\"bar\"}],\"scattergeo\":[{\"type\":\"scattergeo\",\"marker\":{\"colorbar\":{\"outlinewidth\":0,\"ticks\":\"\"}}}],\"scatterpolar\":[{\"type\":\"scatterpolar\",\"marker\":{\"colorbar\":{\"outlinewidth\":0,\"ticks\":\"\"}}}],\"histogram\":[{\"marker\":{\"pattern\":{\"fillmode\":\"overlay\",\"size\":10,\"solidity\":0.2}},\"type\":\"histogram\"}],\"scattergl\":[{\"type\":\"scattergl\",\"marker\":{\"colorbar\":{\"outlinewidth\":0,\"ticks\":\"\"}}}],\"scatter3d\":[{\"type\":\"scatter3d\",\"line\":{\"colorbar\":{\"outlinewidth\":0,\"ticks\":\"\"}},\"marker\":{\"colorbar\":{\"outlinewidth\":0,\"ticks\":\"\"}}}],\"scattermapbox\":[{\"type\":\"scattermapbox\",\"marker\":{\"colorbar\":{\"outlinewidth\":0,\"ticks\":\"\"}}}],\"scatterternary\":[{\"type\":\"scatterternary\",\"marker\":{\"colorbar\":{\"outlinewidth\":0,\"ticks\":\"\"}}}],\"scattercarpet\":[{\"type\":\"scattercarpet\",\"marker\":{\"colorbar\":{\"outlinewidth\":0,\"ticks\":\"\"}}}],\"carpet\":[{\"aaxis\":{\"endlinecolor\":\"#2a3f5f\",\"gridcolor\":\"white\",\"linecolor\":\"white\",\"minorgridcolor\":\"white\",\"startlinecolor\":\"#2a3f5f\"},\"baxis\":{\"endlinecolor\":\"#2a3f5f\",\"gridcolor\":\"white\",\"linecolor\":\"white\",\"minorgridcolor\":\"white\",\"startlinecolor\":\"#2a3f5f\"},\"type\":\"carpet\"}],\"table\":[{\"cells\":{\"fill\":{\"color\":\"#EBF0F8\"},\"line\":{\"color\":\"white\"}},\"header\":{\"fill\":{\"color\":\"#C8D4E3\"},\"line\":{\"color\":\"white\"}},\"type\":\"table\"}],\"barpolar\":[{\"marker\":{\"line\":{\"color\":\"#E5ECF6\",\"width\":0.5},\"pattern\":{\"fillmode\":\"overlay\",\"size\":10,\"solidity\":0.2}},\"type\":\"barpolar\"}],\"pie\":[{\"automargin\":true,\"type\":\"pie\"}]},\"layout\":{\"autotypenumbers\":\"strict\",\"colorway\":[\"#636efa\",\"#EF553B\",\"#00cc96\",\"#ab63fa\",\"#FFA15A\",\"#19d3f3\",\"#FF6692\",\"#B6E880\",\"#FF97FF\",\"#FECB52\"],\"font\":{\"color\":\"#2a3f5f\"},\"hovermode\":\"closest\",\"hoverlabel\":{\"align\":\"left\"},\"paper_bgcolor\":\"white\",\"plot_bgcolor\":\"#E5ECF6\",\"polar\":{\"bgcolor\":\"#E5ECF6\",\"angularaxis\":{\"gridcolor\":\"white\",\"linecolor\":\"white\",\"ticks\":\"\"},\"radialaxis\":{\"gridcolor\":\"white\",\"linecolor\":\"white\",\"ticks\":\"\"}},\"ternary\":{\"bgcolor\":\"#E5ECF6\",\"aaxis\":{\"gridcolor\":\"white\",\"linecolor\":\"white\",\"ticks\":\"\"},\"baxis\":{\"gridcolor\":\"white\",\"linecolor\":\"white\",\"ticks\":\"\"},\"caxis\":{\"gridcolor\":\"white\",\"linecolor\":\"white\",\"ticks\":\"\"}},\"coloraxis\":{\"colorbar\":{\"outlinewidth\":0,\"ticks\":\"\"}},\"colorscale\":{\"sequential\":[[0.0,\"#0d0887\"],[0.1111111111111111,\"#46039f\"],[0.2222222222222222,\"#7201a8\"],[0.3333333333333333,\"#9c179e\"],[0.4444444444444444,\"#bd3786\"],[0.5555555555555556,\"#d8576b\"],[0.6666666666666666,\"#ed7953\"],[0.7777777777777778,\"#fb9f3a\"],[0.8888888888888888,\"#fdca26\"],[1.0,\"#f0f921\"]],\"sequentialminus\":[[0.0,\"#0d0887\"],[0.1111111111111111,\"#46039f\"],[0.2222222222222222,\"#7201a8\"],[0.3333333333333333,\"#9c179e\"],[0.4444444444444444,\"#bd3786\"],[0.5555555555555556,\"#d8576b\"],[0.6666666666666666,\"#ed7953\"],[0.7777777777777778,\"#fb9f3a\"],[0.8888888888888888,\"#fdca26\"],[1.0,\"#f0f921\"]],\"diverging\":[[0,\"#8e0152\"],[0.1,\"#c51b7d\"],[0.2,\"#de77ae\"],[0.3,\"#f1b6da\"],[0.4,\"#fde0ef\"],[0.5,\"#f7f7f7\"],[0.6,\"#e6f5d0\"],[0.7,\"#b8e186\"],[0.8,\"#7fbc41\"],[0.9,\"#4d9221\"],[1,\"#276419\"]]},\"xaxis\":{\"gridcolor\":\"white\",\"linecolor\":\"white\",\"ticks\":\"\",\"title\":{\"standoff\":15},\"zerolinecolor\":\"white\",\"automargin\":true,\"zerolinewidth\":2},\"yaxis\":{\"gridcolor\":\"white\",\"linecolor\":\"white\",\"ticks\":\"\",\"title\":{\"standoff\":15},\"zerolinecolor\":\"white\",\"automargin\":true,\"zerolinewidth\":2},\"scene\":{\"xaxis\":{\"backgroundcolor\":\"#E5ECF6\",\"gridcolor\":\"white\",\"linecolor\":\"white\",\"showbackground\":true,\"ticks\":\"\",\"zerolinecolor\":\"white\",\"gridwidth\":2},\"yaxis\":{\"backgroundcolor\":\"#E5ECF6\",\"gridcolor\":\"white\",\"linecolor\":\"white\",\"showbackground\":true,\"ticks\":\"\",\"zerolinecolor\":\"white\",\"gridwidth\":2},\"zaxis\":{\"backgroundcolor\":\"#E5ECF6\",\"gridcolor\":\"white\",\"linecolor\":\"white\",\"showbackground\":true,\"ticks\":\"\",\"zerolinecolor\":\"white\",\"gridwidth\":2}},\"shapedefaults\":{\"line\":{\"color\":\"#2a3f5f\"}},\"annotationdefaults\":{\"arrowcolor\":\"#2a3f5f\",\"arrowhead\":0,\"arrowwidth\":1},\"geo\":{\"bgcolor\":\"white\",\"landcolor\":\"#E5ECF6\",\"subunitcolor\":\"white\",\"showland\":true,\"showlakes\":true,\"lakecolor\":\"white\"},\"title\":{\"x\":0.05},\"mapbox\":{\"style\":\"light\"}}},\"legend\":{\"tracegroupgap\":0},\"margin\":{\"t\":60}},                        {\"responsive\": true}                    ).then(function(){\n",
       "                            \n",
       "var gd = document.getElementById('f3939756-5576-4d24-bf4e-aa19d85f3625');\n",
       "var x = new MutationObserver(function (mutations, observer) {{\n",
       "        var display = window.getComputedStyle(gd).display;\n",
       "        if (!display || display === 'none') {{\n",
       "            console.log([gd, 'removed!']);\n",
       "            Plotly.purge(gd);\n",
       "            observer.disconnect();\n",
       "        }}\n",
       "}});\n",
       "\n",
       "// Listen for the removal of the full notebook cells\n",
       "var notebookContainer = gd.closest('#notebook-container');\n",
       "if (notebookContainer) {{\n",
       "    x.observe(notebookContainer, {childList: true});\n",
       "}}\n",
       "\n",
       "// Listen for the clearing of the current output cell\n",
       "var outputEl = gd.closest('.output');\n",
       "if (outputEl) {{\n",
       "    x.observe(outputEl, {childList: true});\n",
       "}}\n",
       "\n",
       "                        })                };                            </script>        </div>\n",
       "</body>\n",
       "</html>"
      ]
     },
     "metadata": {},
     "output_type": "display_data"
    }
   ],
   "source": [
    "import plotly.express as px \n",
    "figure = px.pie(data, values = quantity,  names =  numbers, hole = 0.5)\n",
    "figure.show()"
   ]
  },
  {
   "cell_type": "markdown",
   "metadata": {
    "id": "JEmR8BwqQLFo"
   },
   "source": [
    "# cleaning dataset"
   ]
  },
  {
   "cell_type": "code",
   "execution_count": 11,
   "metadata": {
    "colab": {
     "base_uri": "https://localhost:8080/",
     "height": 293
    },
    "execution": {
     "iopub.execute_input": "2023-05-15T14:03:44.694295Z",
     "iopub.status.busy": "2023-05-15T14:03:44.693847Z",
     "iopub.status.idle": "2023-05-15T14:05:12.399644Z",
     "shell.execute_reply": "2023-05-15T14:05:12.398504Z",
     "shell.execute_reply.started": "2023-05-15T14:03:44.694252Z"
    },
    "id": "KqHAmwJFZPuo",
    "outputId": "0ad2da9e-72c9-4052-8b18-ad7d54407717"
   },
   "outputs": [
    {
     "name": "stderr",
     "output_type": "stream",
     "text": [
      "[nltk_data] Downloading package wordnet to /root/nltk_data...\n",
      "[nltk_data] Downloading package punkt to /root/nltk_data...\n",
      "[nltk_data]   Unzipping tokenizers/punkt.zip.\n",
      "[nltk_data] Downloading package stopwords to /root/nltk_data...\n",
      "[nltk_data]   Unzipping corpora/stopwords.zip.\n"
     ]
    },
    {
     "data": {
      "text/html": [
       "\n",
       "  <div id=\"df-be351131-d2b3-4f8e-8128-e0cfacd64674\">\n",
       "    <div class=\"colab-df-container\">\n",
       "      <div>\n",
       "<style scoped>\n",
       "    .dataframe tbody tr th:only-of-type {\n",
       "        vertical-align: middle;\n",
       "    }\n",
       "\n",
       "    .dataframe tbody tr th {\n",
       "        vertical-align: top;\n",
       "    }\n",
       "\n",
       "    .dataframe thead th {\n",
       "        text-align: right;\n",
       "    }\n",
       "</style>\n",
       "<table border=\"1\" class=\"dataframe\">\n",
       "  <thead>\n",
       "    <tr style=\"text-align: right;\">\n",
       "      <th></th>\n",
       "      <th>tweets</th>\n",
       "      <th>cleaned_tweets</th>\n",
       "      <th>labels</th>\n",
       "    </tr>\n",
       "  </thead>\n",
       "  <tbody>\n",
       "    <tr>\n",
       "      <th>4</th>\n",
       "      <td>As of 2 minutes ago, @OpenAI released their ne...</td>\n",
       "      <td>minute ago released new chatgpt use right</td>\n",
       "      <td>bad</td>\n",
       "    </tr>\n",
       "    <tr>\n",
       "      <th>6</th>\n",
       "      <td>As of 2 minutes ago, @OpenAI released their ne...</td>\n",
       "      <td>minute ago released new chatgpt use right</td>\n",
       "      <td>bad</td>\n",
       "    </tr>\n",
       "    <tr>\n",
       "      <th>10</th>\n",
       "      <td>GOD DAMN IT @OpenAI STOP ANNOUNCING THINGS I A...</td>\n",
       "      <td>god damn stop announcing thing busy</td>\n",
       "      <td>bad</td>\n",
       "    </tr>\n",
       "    <tr>\n",
       "      <th>17</th>\n",
       "      <td>#ai Models are set to become the search engine...</td>\n",
       "      <td>model set become search engine future atm stil...</td>\n",
       "      <td>bad</td>\n",
       "    </tr>\n",
       "    <tr>\n",
       "      <th>39</th>\n",
       "      <td>Google is done.\\n\\nCompare the quality of thes...</td>\n",
       "      <td>google done compare quality response chatgpt</td>\n",
       "      <td>bad</td>\n",
       "    </tr>\n",
       "  </tbody>\n",
       "</table>\n",
       "</div>\n",
       "      <button class=\"colab-df-convert\" onclick=\"convertToInteractive('df-be351131-d2b3-4f8e-8128-e0cfacd64674')\"\n",
       "              title=\"Convert this dataframe to an interactive table.\"\n",
       "              style=\"display:none;\">\n",
       "        \n",
       "  <svg xmlns=\"http://www.w3.org/2000/svg\" height=\"24px\"viewBox=\"0 0 24 24\"\n",
       "       width=\"24px\">\n",
       "    <path d=\"M0 0h24v24H0V0z\" fill=\"none\"/>\n",
       "    <path d=\"M18.56 5.44l.94 2.06.94-2.06 2.06-.94-2.06-.94-.94-2.06-.94 2.06-2.06.94zm-11 1L8.5 8.5l.94-2.06 2.06-.94-2.06-.94L8.5 2.5l-.94 2.06-2.06.94zm10 10l.94 2.06.94-2.06 2.06-.94-2.06-.94-.94-2.06-.94 2.06-2.06.94z\"/><path d=\"M17.41 7.96l-1.37-1.37c-.4-.4-.92-.59-1.43-.59-.52 0-1.04.2-1.43.59L10.3 9.45l-7.72 7.72c-.78.78-.78 2.05 0 2.83L4 21.41c.39.39.9.59 1.41.59.51 0 1.02-.2 1.41-.59l7.78-7.78 2.81-2.81c.8-.78.8-2.07 0-2.86zM5.41 20L4 18.59l7.72-7.72 1.47 1.35L5.41 20z\"/>\n",
       "  </svg>\n",
       "      </button>\n",
       "      \n",
       "  <style>\n",
       "    .colab-df-container {\n",
       "      display:flex;\n",
       "      flex-wrap:wrap;\n",
       "      gap: 12px;\n",
       "    }\n",
       "\n",
       "    .colab-df-convert {\n",
       "      background-color: #E8F0FE;\n",
       "      border: none;\n",
       "      border-radius: 50%;\n",
       "      cursor: pointer;\n",
       "      display: none;\n",
       "      fill: #1967D2;\n",
       "      height: 32px;\n",
       "      padding: 0 0 0 0;\n",
       "      width: 32px;\n",
       "    }\n",
       "\n",
       "    .colab-df-convert:hover {\n",
       "      background-color: #E2EBFA;\n",
       "      box-shadow: 0px 1px 2px rgba(60, 64, 67, 0.3), 0px 1px 3px 1px rgba(60, 64, 67, 0.15);\n",
       "      fill: #174EA6;\n",
       "    }\n",
       "\n",
       "    [theme=dark] .colab-df-convert {\n",
       "      background-color: #3B4455;\n",
       "      fill: #D2E3FC;\n",
       "    }\n",
       "\n",
       "    [theme=dark] .colab-df-convert:hover {\n",
       "      background-color: #434B5C;\n",
       "      box-shadow: 0px 1px 3px 1px rgba(0, 0, 0, 0.15);\n",
       "      filter: drop-shadow(0px 1px 2px rgba(0, 0, 0, 0.3));\n",
       "      fill: #FFFFFF;\n",
       "    }\n",
       "  </style>\n",
       "\n",
       "      <script>\n",
       "        const buttonEl =\n",
       "          document.querySelector('#df-be351131-d2b3-4f8e-8128-e0cfacd64674 button.colab-df-convert');\n",
       "        buttonEl.style.display =\n",
       "          google.colab.kernel.accessAllowed ? 'block' : 'none';\n",
       "\n",
       "        async function convertToInteractive(key) {\n",
       "          const element = document.querySelector('#df-be351131-d2b3-4f8e-8128-e0cfacd64674');\n",
       "          const dataTable =\n",
       "            await google.colab.kernel.invokeFunction('convertToInteractive',\n",
       "                                                     [key], {});\n",
       "          if (!dataTable) return;\n",
       "\n",
       "          const docLinkHtml = 'Like what you see? Visit the ' +\n",
       "            '<a target=\"_blank\" href=https://colab.research.google.com/notebooks/data_table.ipynb>data table notebook</a>'\n",
       "            + ' to learn more about interactive tables.';\n",
       "          element.innerHTML = '';\n",
       "          dataTable['output_type'] = 'display_data';\n",
       "          await google.colab.output.renderOutput(dataTable, element);\n",
       "          const docLink = document.createElement('div');\n",
       "          docLink.innerHTML = docLinkHtml;\n",
       "          element.appendChild(docLink);\n",
       "        }\n",
       "      </script>\n",
       "    </div>\n",
       "  </div>\n",
       "  "
      ],
      "text/plain": [
       "                                               tweets  \\\n",
       "4   As of 2 minutes ago, @OpenAI released their ne...   \n",
       "6   As of 2 minutes ago, @OpenAI released their ne...   \n",
       "10  GOD DAMN IT @OpenAI STOP ANNOUNCING THINGS I A...   \n",
       "17  #ai Models are set to become the search engine...   \n",
       "39  Google is done.\\n\\nCompare the quality of thes...   \n",
       "\n",
       "                                       cleaned_tweets labels  \n",
       "4           minute ago released new chatgpt use right    bad  \n",
       "6           minute ago released new chatgpt use right    bad  \n",
       "10                god damn stop announcing thing busy    bad  \n",
       "17  model set become search engine future atm stil...    bad  \n",
       "39       google done compare quality response chatgpt    bad  "
      ]
     },
     "execution_count": 11,
     "metadata": {},
     "output_type": "execute_result"
    }
   ],
   "source": [
    "#@title ***Cleaning the dataset***\n",
    "#!unzip /usr/share/nltk_data/corpora/wordnet.zip -d /usr/share/nltk_data/corpora/\n",
    "import nltk\n",
    "from nltk.corpus import wordnet as wn\n",
    "from nltk.stem import WordNetLemmatizer,PorterStemmer\n",
    "\n",
    "nltk.download('wordnet')\n",
    "nltk.download('punkt')\n",
    "nltk.download('stopwords')\n",
    "\n",
    "stop_words = set(stopwords.words('english'))\n",
    "st = PorterStemmer()\n",
    "lem = WordNetLemmatizer()\n",
    "\n",
    "def is_alpha(word):\n",
    "    for part in word.split('-'):\n",
    "        if not part.isalpha():\n",
    "            return False\n",
    "    \n",
    "    return True\n",
    "\n",
    "def clean_dataset(text):\n",
    "    text = re.sub(r'http\\S+', '', text) # removing links\n",
    "    text = re.sub(r'\\\\n', ' ', text) # removing \\\\n\n",
    "    text = re.sub(r\"\\s*#\\S+\", \"\", text) # removing hash tags\n",
    "    text = re.sub(r\"\\s*@\\S+\", \"\", text) # removing @\n",
    "    text = text.lower()\n",
    "    words = [word for word in word_tokenize(text) if is_alpha(word)]\n",
    "    #words = [st.stem(word) for word in words]\n",
    "    words = [lem.lemmatize(word) for word in words]\n",
    "    \n",
    "    # text = \" \".join([word for word in text.split(\" \") if is_alpha(word)])\n",
    "    # text = re.sub(r'[^a-zA-Z\\s]', '', text, re.I|re.A) \n",
    "    words = [w for w in words if not w in stop_words]\n",
    "    text = \" \".join(words)\n",
    "    \n",
    "    return text.strip()\n",
    "\n",
    "data.insert(len(data.columns)-1, \"cleaned_tweets\", data['tweets'].apply(clean_dataset))\n",
    "data.head()"
   ]
  },
  {
   "cell_type": "markdown",
   "metadata": {
    "id": "NNV2SsngQLFs"
   },
   "source": [
    "# converting dataset in numerical form"
   ]
  },
  {
   "cell_type": "code",
   "execution_count": 12,
   "metadata": {
    "colab": {
     "base_uri": "https://localhost:8080/",
     "height": 206
    },
    "execution": {
     "iopub.execute_input": "2023-05-15T14:05:12.402249Z",
     "iopub.status.busy": "2023-05-15T14:05:12.401180Z",
     "iopub.status.idle": "2023-05-15T14:05:34.693423Z",
     "shell.execute_reply": "2023-05-15T14:05:34.692434Z",
     "shell.execute_reply.started": "2023-05-15T14:05:12.402212Z"
    },
    "id": "aVW7nMg-xauN",
    "outputId": "dc1613af-31f9-4d31-c0ae-85cc8cc61304"
   },
   "outputs": [
    {
     "data": {
      "text/html": [
       "\n",
       "  <div id=\"df-48df9ea1-6023-4e9e-8e94-614f257b8de2\">\n",
       "    <div class=\"colab-df-container\">\n",
       "      <div>\n",
       "<style scoped>\n",
       "    .dataframe tbody tr th:only-of-type {\n",
       "        vertical-align: middle;\n",
       "    }\n",
       "\n",
       "    .dataframe tbody tr th {\n",
       "        vertical-align: top;\n",
       "    }\n",
       "\n",
       "    .dataframe thead th {\n",
       "        text-align: right;\n",
       "    }\n",
       "</style>\n",
       "<table border=\"1\" class=\"dataframe\">\n",
       "  <thead>\n",
       "    <tr style=\"text-align: right;\">\n",
       "      <th></th>\n",
       "      <th>index</th>\n",
       "      <th>tweets</th>\n",
       "      <th>cleaned_tweets</th>\n",
       "      <th>numeric_tweets</th>\n",
       "      <th>labels</th>\n",
       "    </tr>\n",
       "  </thead>\n",
       "  <tbody>\n",
       "    <tr>\n",
       "      <th>0</th>\n",
       "      <td>4</td>\n",
       "      <td>As of 2 minutes ago, @OpenAI released their ne...</td>\n",
       "      <td>minute ago released new chatgpt use right</td>\n",
       "      <td>[0, 0, 0, 0, 0, 0, 0, 0, 0, 0, 0, 0, 0, 0, 0, ...</td>\n",
       "      <td>bad</td>\n",
       "    </tr>\n",
       "    <tr>\n",
       "      <th>1</th>\n",
       "      <td>6</td>\n",
       "      <td>As of 2 minutes ago, @OpenAI released their ne...</td>\n",
       "      <td>minute ago released new chatgpt use right</td>\n",
       "      <td>[0, 0, 0, 0, 0, 0, 0, 0, 0, 0, 0, 0, 0, 0, 0, ...</td>\n",
       "      <td>bad</td>\n",
       "    </tr>\n",
       "    <tr>\n",
       "      <th>2</th>\n",
       "      <td>10</td>\n",
       "      <td>GOD DAMN IT @OpenAI STOP ANNOUNCING THINGS I A...</td>\n",
       "      <td>god damn stop announcing thing busy</td>\n",
       "      <td>[0, 0, 0, 0, 0, 0, 0, 0, 0, 0, 0, 0, 0, 0, 0, ...</td>\n",
       "      <td>bad</td>\n",
       "    </tr>\n",
       "    <tr>\n",
       "      <th>3</th>\n",
       "      <td>17</td>\n",
       "      <td>#ai Models are set to become the search engine...</td>\n",
       "      <td>model set become search engine future atm stil...</td>\n",
       "      <td>[0, 0, 0, 0, 0, 0, 0, 0, 0, 0, 0, 0, 0, 0, 0, ...</td>\n",
       "      <td>bad</td>\n",
       "    </tr>\n",
       "    <tr>\n",
       "      <th>4</th>\n",
       "      <td>39</td>\n",
       "      <td>Google is done.\\n\\nCompare the quality of thes...</td>\n",
       "      <td>google done compare quality response chatgpt</td>\n",
       "      <td>[0, 0, 0, 0, 0, 0, 0, 0, 0, 0, 0, 0, 0, 0, 0, ...</td>\n",
       "      <td>bad</td>\n",
       "    </tr>\n",
       "  </tbody>\n",
       "</table>\n",
       "</div>\n",
       "      <button class=\"colab-df-convert\" onclick=\"convertToInteractive('df-48df9ea1-6023-4e9e-8e94-614f257b8de2')\"\n",
       "              title=\"Convert this dataframe to an interactive table.\"\n",
       "              style=\"display:none;\">\n",
       "        \n",
       "  <svg xmlns=\"http://www.w3.org/2000/svg\" height=\"24px\"viewBox=\"0 0 24 24\"\n",
       "       width=\"24px\">\n",
       "    <path d=\"M0 0h24v24H0V0z\" fill=\"none\"/>\n",
       "    <path d=\"M18.56 5.44l.94 2.06.94-2.06 2.06-.94-2.06-.94-.94-2.06-.94 2.06-2.06.94zm-11 1L8.5 8.5l.94-2.06 2.06-.94-2.06-.94L8.5 2.5l-.94 2.06-2.06.94zm10 10l.94 2.06.94-2.06 2.06-.94-2.06-.94-.94-2.06-.94 2.06-2.06.94z\"/><path d=\"M17.41 7.96l-1.37-1.37c-.4-.4-.92-.59-1.43-.59-.52 0-1.04.2-1.43.59L10.3 9.45l-7.72 7.72c-.78.78-.78 2.05 0 2.83L4 21.41c.39.39.9.59 1.41.59.51 0 1.02-.2 1.41-.59l7.78-7.78 2.81-2.81c.8-.78.8-2.07 0-2.86zM5.41 20L4 18.59l7.72-7.72 1.47 1.35L5.41 20z\"/>\n",
       "  </svg>\n",
       "      </button>\n",
       "      \n",
       "  <style>\n",
       "    .colab-df-container {\n",
       "      display:flex;\n",
       "      flex-wrap:wrap;\n",
       "      gap: 12px;\n",
       "    }\n",
       "\n",
       "    .colab-df-convert {\n",
       "      background-color: #E8F0FE;\n",
       "      border: none;\n",
       "      border-radius: 50%;\n",
       "      cursor: pointer;\n",
       "      display: none;\n",
       "      fill: #1967D2;\n",
       "      height: 32px;\n",
       "      padding: 0 0 0 0;\n",
       "      width: 32px;\n",
       "    }\n",
       "\n",
       "    .colab-df-convert:hover {\n",
       "      background-color: #E2EBFA;\n",
       "      box-shadow: 0px 1px 2px rgba(60, 64, 67, 0.3), 0px 1px 3px 1px rgba(60, 64, 67, 0.15);\n",
       "      fill: #174EA6;\n",
       "    }\n",
       "\n",
       "    [theme=dark] .colab-df-convert {\n",
       "      background-color: #3B4455;\n",
       "      fill: #D2E3FC;\n",
       "    }\n",
       "\n",
       "    [theme=dark] .colab-df-convert:hover {\n",
       "      background-color: #434B5C;\n",
       "      box-shadow: 0px 1px 3px 1px rgba(0, 0, 0, 0.15);\n",
       "      filter: drop-shadow(0px 1px 2px rgba(0, 0, 0, 0.3));\n",
       "      fill: #FFFFFF;\n",
       "    }\n",
       "  </style>\n",
       "\n",
       "      <script>\n",
       "        const buttonEl =\n",
       "          document.querySelector('#df-48df9ea1-6023-4e9e-8e94-614f257b8de2 button.colab-df-convert');\n",
       "        buttonEl.style.display =\n",
       "          google.colab.kernel.accessAllowed ? 'block' : 'none';\n",
       "\n",
       "        async function convertToInteractive(key) {\n",
       "          const element = document.querySelector('#df-48df9ea1-6023-4e9e-8e94-614f257b8de2');\n",
       "          const dataTable =\n",
       "            await google.colab.kernel.invokeFunction('convertToInteractive',\n",
       "                                                     [key], {});\n",
       "          if (!dataTable) return;\n",
       "\n",
       "          const docLinkHtml = 'Like what you see? Visit the ' +\n",
       "            '<a target=\"_blank\" href=https://colab.research.google.com/notebooks/data_table.ipynb>data table notebook</a>'\n",
       "            + ' to learn more about interactive tables.';\n",
       "          element.innerHTML = '';\n",
       "          dataTable['output_type'] = 'display_data';\n",
       "          await google.colab.output.renderOutput(dataTable, element);\n",
       "          const docLink = document.createElement('div');\n",
       "          docLink.innerHTML = docLinkHtml;\n",
       "          element.appendChild(docLink);\n",
       "        }\n",
       "      </script>\n",
       "    </div>\n",
       "  </div>\n",
       "  "
      ],
      "text/plain": [
       "   index                                             tweets  \\\n",
       "0      4  As of 2 minutes ago, @OpenAI released their ne...   \n",
       "1      6  As of 2 minutes ago, @OpenAI released their ne...   \n",
       "2     10  GOD DAMN IT @OpenAI STOP ANNOUNCING THINGS I A...   \n",
       "3     17  #ai Models are set to become the search engine...   \n",
       "4     39  Google is done.\\n\\nCompare the quality of thes...   \n",
       "\n",
       "                                      cleaned_tweets  \\\n",
       "0          minute ago released new chatgpt use right   \n",
       "1          minute ago released new chatgpt use right   \n",
       "2                god damn stop announcing thing busy   \n",
       "3  model set become search engine future atm stil...   \n",
       "4       google done compare quality response chatgpt   \n",
       "\n",
       "                                      numeric_tweets labels  \n",
       "0  [0, 0, 0, 0, 0, 0, 0, 0, 0, 0, 0, 0, 0, 0, 0, ...    bad  \n",
       "1  [0, 0, 0, 0, 0, 0, 0, 0, 0, 0, 0, 0, 0, 0, 0, ...    bad  \n",
       "2  [0, 0, 0, 0, 0, 0, 0, 0, 0, 0, 0, 0, 0, 0, 0, ...    bad  \n",
       "3  [0, 0, 0, 0, 0, 0, 0, 0, 0, 0, 0, 0, 0, 0, 0, ...    bad  \n",
       "4  [0, 0, 0, 0, 0, 0, 0, 0, 0, 0, 0, 0, 0, 0, 0, ...    bad  "
      ]
     },
     "execution_count": 12,
     "metadata": {},
     "output_type": "execute_result"
    }
   ],
   "source": [
    "from numpy.core import numeric\n",
    "#@title ***Converting text to numerical form***\n",
    "\n",
    "import math\n",
    "import collections\n",
    "\n",
    "def convert_text_to_numerical(text):\n",
    "    num_words = 7000\n",
    "    tokenizer = Tokenizer(num_words=num_words)\n",
    "    tokenizer.fit_on_texts(text)\n",
    "    sequences = tokenizer.texts_to_sequences(text)\n",
    " \n",
    "    #maxlen = max(45, math.ceil(np.average([len(seq) for seq in sequences])))\n",
    "    maxlen = 140\n",
    "    \n",
    " \n",
    "    pad_seqs = pad_sequences(sequences, maxlen=maxlen)\n",
    "    pad_seqs_todrop = []\n",
    "    for i, p in enumerate(pad_seqs):\n",
    "        if sum(p) == sum(sorted(p, reverse=True)[0:2]):\n",
    "            pad_seqs_todrop.append(i)\n",
    "\n",
    "    return pad_seqs, pad_seqs_todrop, tokenizer, num_words, maxlen\n",
    "\n",
    "data = data.reset_index()\n",
    "numeric_tweets, rows_todrop, tokenizer, num_words, maxlen = convert_text_to_numerical(data['cleaned_tweets'])\n",
    "data.insert(len(data.columns)-1, \"numeric_tweets\", numeric_tweets.tolist())\n",
    "data.head()"
   ]
  },
  {
   "cell_type": "code",
   "execution_count": 13,
   "metadata": {
    "colab": {
     "base_uri": "https://localhost:8080/",
     "height": 223
    },
    "execution": {
     "iopub.execute_input": "2023-05-15T14:05:34.695602Z",
     "iopub.status.busy": "2023-05-15T14:05:34.695170Z",
     "iopub.status.idle": "2023-05-15T14:05:34.762751Z",
     "shell.execute_reply": "2023-05-15T14:05:34.761799Z",
     "shell.execute_reply.started": "2023-05-15T14:05:34.695564Z"
    },
    "id": "WAmrcbhSxgH6",
    "outputId": "c03a38d1-e9bc-4883-a324-d96c9fbe7a1f"
   },
   "outputs": [
    {
     "name": "stdout",
     "output_type": "stream",
     "text": [
      "['bad' 'good' 'neutral']\n"
     ]
    },
    {
     "data": {
      "text/html": [
       "\n",
       "  <div id=\"df-713e265f-0cd2-4230-8019-9da3364ab2d0\">\n",
       "    <div class=\"colab-df-container\">\n",
       "      <div>\n",
       "<style scoped>\n",
       "    .dataframe tbody tr th:only-of-type {\n",
       "        vertical-align: middle;\n",
       "    }\n",
       "\n",
       "    .dataframe tbody tr th {\n",
       "        vertical-align: top;\n",
       "    }\n",
       "\n",
       "    .dataframe thead th {\n",
       "        text-align: right;\n",
       "    }\n",
       "</style>\n",
       "<table border=\"1\" class=\"dataframe\">\n",
       "  <thead>\n",
       "    <tr style=\"text-align: right;\">\n",
       "      <th></th>\n",
       "      <th>index</th>\n",
       "      <th>tweets</th>\n",
       "      <th>cleaned_tweets</th>\n",
       "      <th>numeric_tweets</th>\n",
       "      <th>labels</th>\n",
       "      <th>encoded_labels</th>\n",
       "    </tr>\n",
       "  </thead>\n",
       "  <tbody>\n",
       "    <tr>\n",
       "      <th>0</th>\n",
       "      <td>4</td>\n",
       "      <td>As of 2 minutes ago, @OpenAI released their ne...</td>\n",
       "      <td>minute ago released new chatgpt use right</td>\n",
       "      <td>[0, 0, 0, 0, 0, 0, 0, 0, 0, 0, 0, 0, 0, 0, 0, ...</td>\n",
       "      <td>bad</td>\n",
       "      <td>0</td>\n",
       "    </tr>\n",
       "    <tr>\n",
       "      <th>1</th>\n",
       "      <td>6</td>\n",
       "      <td>As of 2 minutes ago, @OpenAI released their ne...</td>\n",
       "      <td>minute ago released new chatgpt use right</td>\n",
       "      <td>[0, 0, 0, 0, 0, 0, 0, 0, 0, 0, 0, 0, 0, 0, 0, ...</td>\n",
       "      <td>bad</td>\n",
       "      <td>0</td>\n",
       "    </tr>\n",
       "    <tr>\n",
       "      <th>2</th>\n",
       "      <td>10</td>\n",
       "      <td>GOD DAMN IT @OpenAI STOP ANNOUNCING THINGS I A...</td>\n",
       "      <td>god damn stop announcing thing busy</td>\n",
       "      <td>[0, 0, 0, 0, 0, 0, 0, 0, 0, 0, 0, 0, 0, 0, 0, ...</td>\n",
       "      <td>bad</td>\n",
       "      <td>0</td>\n",
       "    </tr>\n",
       "    <tr>\n",
       "      <th>3</th>\n",
       "      <td>17</td>\n",
       "      <td>#ai Models are set to become the search engine...</td>\n",
       "      <td>model set become search engine future atm stil...</td>\n",
       "      <td>[0, 0, 0, 0, 0, 0, 0, 0, 0, 0, 0, 0, 0, 0, 0, ...</td>\n",
       "      <td>bad</td>\n",
       "      <td>0</td>\n",
       "    </tr>\n",
       "    <tr>\n",
       "      <th>4</th>\n",
       "      <td>39</td>\n",
       "      <td>Google is done.\\n\\nCompare the quality of thes...</td>\n",
       "      <td>google done compare quality response chatgpt</td>\n",
       "      <td>[0, 0, 0, 0, 0, 0, 0, 0, 0, 0, 0, 0, 0, 0, 0, ...</td>\n",
       "      <td>bad</td>\n",
       "      <td>0</td>\n",
       "    </tr>\n",
       "  </tbody>\n",
       "</table>\n",
       "</div>\n",
       "      <button class=\"colab-df-convert\" onclick=\"convertToInteractive('df-713e265f-0cd2-4230-8019-9da3364ab2d0')\"\n",
       "              title=\"Convert this dataframe to an interactive table.\"\n",
       "              style=\"display:none;\">\n",
       "        \n",
       "  <svg xmlns=\"http://www.w3.org/2000/svg\" height=\"24px\"viewBox=\"0 0 24 24\"\n",
       "       width=\"24px\">\n",
       "    <path d=\"M0 0h24v24H0V0z\" fill=\"none\"/>\n",
       "    <path d=\"M18.56 5.44l.94 2.06.94-2.06 2.06-.94-2.06-.94-.94-2.06-.94 2.06-2.06.94zm-11 1L8.5 8.5l.94-2.06 2.06-.94-2.06-.94L8.5 2.5l-.94 2.06-2.06.94zm10 10l.94 2.06.94-2.06 2.06-.94-2.06-.94-.94-2.06-.94 2.06-2.06.94z\"/><path d=\"M17.41 7.96l-1.37-1.37c-.4-.4-.92-.59-1.43-.59-.52 0-1.04.2-1.43.59L10.3 9.45l-7.72 7.72c-.78.78-.78 2.05 0 2.83L4 21.41c.39.39.9.59 1.41.59.51 0 1.02-.2 1.41-.59l7.78-7.78 2.81-2.81c.8-.78.8-2.07 0-2.86zM5.41 20L4 18.59l7.72-7.72 1.47 1.35L5.41 20z\"/>\n",
       "  </svg>\n",
       "      </button>\n",
       "      \n",
       "  <style>\n",
       "    .colab-df-container {\n",
       "      display:flex;\n",
       "      flex-wrap:wrap;\n",
       "      gap: 12px;\n",
       "    }\n",
       "\n",
       "    .colab-df-convert {\n",
       "      background-color: #E8F0FE;\n",
       "      border: none;\n",
       "      border-radius: 50%;\n",
       "      cursor: pointer;\n",
       "      display: none;\n",
       "      fill: #1967D2;\n",
       "      height: 32px;\n",
       "      padding: 0 0 0 0;\n",
       "      width: 32px;\n",
       "    }\n",
       "\n",
       "    .colab-df-convert:hover {\n",
       "      background-color: #E2EBFA;\n",
       "      box-shadow: 0px 1px 2px rgba(60, 64, 67, 0.3), 0px 1px 3px 1px rgba(60, 64, 67, 0.15);\n",
       "      fill: #174EA6;\n",
       "    }\n",
       "\n",
       "    [theme=dark] .colab-df-convert {\n",
       "      background-color: #3B4455;\n",
       "      fill: #D2E3FC;\n",
       "    }\n",
       "\n",
       "    [theme=dark] .colab-df-convert:hover {\n",
       "      background-color: #434B5C;\n",
       "      box-shadow: 0px 1px 3px 1px rgba(0, 0, 0, 0.15);\n",
       "      filter: drop-shadow(0px 1px 2px rgba(0, 0, 0, 0.3));\n",
       "      fill: #FFFFFF;\n",
       "    }\n",
       "  </style>\n",
       "\n",
       "      <script>\n",
       "        const buttonEl =\n",
       "          document.querySelector('#df-713e265f-0cd2-4230-8019-9da3364ab2d0 button.colab-df-convert');\n",
       "        buttonEl.style.display =\n",
       "          google.colab.kernel.accessAllowed ? 'block' : 'none';\n",
       "\n",
       "        async function convertToInteractive(key) {\n",
       "          const element = document.querySelector('#df-713e265f-0cd2-4230-8019-9da3364ab2d0');\n",
       "          const dataTable =\n",
       "            await google.colab.kernel.invokeFunction('convertToInteractive',\n",
       "                                                     [key], {});\n",
       "          if (!dataTable) return;\n",
       "\n",
       "          const docLinkHtml = 'Like what you see? Visit the ' +\n",
       "            '<a target=\"_blank\" href=https://colab.research.google.com/notebooks/data_table.ipynb>data table notebook</a>'\n",
       "            + ' to learn more about interactive tables.';\n",
       "          element.innerHTML = '';\n",
       "          dataTable['output_type'] = 'display_data';\n",
       "          await google.colab.output.renderOutput(dataTable, element);\n",
       "          const docLink = document.createElement('div');\n",
       "          docLink.innerHTML = docLinkHtml;\n",
       "          element.appendChild(docLink);\n",
       "        }\n",
       "      </script>\n",
       "    </div>\n",
       "  </div>\n",
       "  "
      ],
      "text/plain": [
       "   index                                             tweets  \\\n",
       "0      4  As of 2 minutes ago, @OpenAI released their ne...   \n",
       "1      6  As of 2 minutes ago, @OpenAI released their ne...   \n",
       "2     10  GOD DAMN IT @OpenAI STOP ANNOUNCING THINGS I A...   \n",
       "3     17  #ai Models are set to become the search engine...   \n",
       "4     39  Google is done.\\n\\nCompare the quality of thes...   \n",
       "\n",
       "                                      cleaned_tweets  \\\n",
       "0          minute ago released new chatgpt use right   \n",
       "1          minute ago released new chatgpt use right   \n",
       "2                god damn stop announcing thing busy   \n",
       "3  model set become search engine future atm stil...   \n",
       "4       google done compare quality response chatgpt   \n",
       "\n",
       "                                      numeric_tweets labels  encoded_labels  \n",
       "0  [0, 0, 0, 0, 0, 0, 0, 0, 0, 0, 0, 0, 0, 0, 0, ...    bad               0  \n",
       "1  [0, 0, 0, 0, 0, 0, 0, 0, 0, 0, 0, 0, 0, 0, 0, ...    bad               0  \n",
       "2  [0, 0, 0, 0, 0, 0, 0, 0, 0, 0, 0, 0, 0, 0, 0, ...    bad               0  \n",
       "3  [0, 0, 0, 0, 0, 0, 0, 0, 0, 0, 0, 0, 0, 0, 0, ...    bad               0  \n",
       "4  [0, 0, 0, 0, 0, 0, 0, 0, 0, 0, 0, 0, 0, 0, 0, ...    bad               0  "
      ]
     },
     "execution_count": 13,
     "metadata": {},
     "output_type": "execute_result"
    }
   ],
   "source": [
    "#@title ***Encoding output labels***\n",
    "\n",
    "label_encoder = LabelEncoder()\n",
    "data.insert(len(data.columns), \"encoded_labels\", label_encoder.fit_transform(data['labels']))\n",
    "print(label_encoder.classes_)\n",
    "data.head()"
   ]
  },
  {
   "cell_type": "code",
   "execution_count": 14,
   "metadata": {
    "colab": {
     "base_uri": "https://localhost:8080/",
     "height": 223
    },
    "execution": {
     "iopub.execute_input": "2023-05-15T14:05:34.765197Z",
     "iopub.status.busy": "2023-05-15T14:05:34.764463Z",
     "iopub.status.idle": "2023-05-15T14:05:34.813426Z",
     "shell.execute_reply": "2023-05-15T14:05:34.812503Z",
     "shell.execute_reply.started": "2023-05-15T14:05:34.765158Z"
    },
    "id": "ZiR8Tb0aQLFw",
    "outputId": "519eb63c-af48-48e0-c5a7-9d25363530c5"
   },
   "outputs": [
    {
     "name": "stdout",
     "output_type": "stream",
     "text": [
      "180928 167734\n"
     ]
    },
    {
     "data": {
      "text/html": [
       "\n",
       "  <div id=\"df-a0f7fd52-b0d6-4ec7-b836-ac1616080872\">\n",
       "    <div class=\"colab-df-container\">\n",
       "      <div>\n",
       "<style scoped>\n",
       "    .dataframe tbody tr th:only-of-type {\n",
       "        vertical-align: middle;\n",
       "    }\n",
       "\n",
       "    .dataframe tbody tr th {\n",
       "        vertical-align: top;\n",
       "    }\n",
       "\n",
       "    .dataframe thead th {\n",
       "        text-align: right;\n",
       "    }\n",
       "</style>\n",
       "<table border=\"1\" class=\"dataframe\">\n",
       "  <thead>\n",
       "    <tr style=\"text-align: right;\">\n",
       "      <th></th>\n",
       "      <th>index</th>\n",
       "      <th>tweets</th>\n",
       "      <th>cleaned_tweets</th>\n",
       "      <th>numeric_tweets</th>\n",
       "      <th>labels</th>\n",
       "      <th>encoded_labels</th>\n",
       "    </tr>\n",
       "  </thead>\n",
       "  <tbody>\n",
       "    <tr>\n",
       "      <th>0</th>\n",
       "      <td>4</td>\n",
       "      <td>As of 2 minutes ago, @OpenAI released their ne...</td>\n",
       "      <td>minute ago released new chatgpt use right</td>\n",
       "      <td>[0, 0, 0, 0, 0, 0, 0, 0, 0, 0, 0, 0, 0, 0, 0, ...</td>\n",
       "      <td>bad</td>\n",
       "      <td>0</td>\n",
       "    </tr>\n",
       "    <tr>\n",
       "      <th>1</th>\n",
       "      <td>6</td>\n",
       "      <td>As of 2 minutes ago, @OpenAI released their ne...</td>\n",
       "      <td>minute ago released new chatgpt use right</td>\n",
       "      <td>[0, 0, 0, 0, 0, 0, 0, 0, 0, 0, 0, 0, 0, 0, 0, ...</td>\n",
       "      <td>bad</td>\n",
       "      <td>0</td>\n",
       "    </tr>\n",
       "    <tr>\n",
       "      <th>2</th>\n",
       "      <td>10</td>\n",
       "      <td>GOD DAMN IT @OpenAI STOP ANNOUNCING THINGS I A...</td>\n",
       "      <td>god damn stop announcing thing busy</td>\n",
       "      <td>[0, 0, 0, 0, 0, 0, 0, 0, 0, 0, 0, 0, 0, 0, 0, ...</td>\n",
       "      <td>bad</td>\n",
       "      <td>0</td>\n",
       "    </tr>\n",
       "    <tr>\n",
       "      <th>3</th>\n",
       "      <td>17</td>\n",
       "      <td>#ai Models are set to become the search engine...</td>\n",
       "      <td>model set become search engine future atm stil...</td>\n",
       "      <td>[0, 0, 0, 0, 0, 0, 0, 0, 0, 0, 0, 0, 0, 0, 0, ...</td>\n",
       "      <td>bad</td>\n",
       "      <td>0</td>\n",
       "    </tr>\n",
       "    <tr>\n",
       "      <th>4</th>\n",
       "      <td>39</td>\n",
       "      <td>Google is done.\\n\\nCompare the quality of thes...</td>\n",
       "      <td>google done compare quality response chatgpt</td>\n",
       "      <td>[0, 0, 0, 0, 0, 0, 0, 0, 0, 0, 0, 0, 0, 0, 0, ...</td>\n",
       "      <td>bad</td>\n",
       "      <td>0</td>\n",
       "    </tr>\n",
       "  </tbody>\n",
       "</table>\n",
       "</div>\n",
       "      <button class=\"colab-df-convert\" onclick=\"convertToInteractive('df-a0f7fd52-b0d6-4ec7-b836-ac1616080872')\"\n",
       "              title=\"Convert this dataframe to an interactive table.\"\n",
       "              style=\"display:none;\">\n",
       "        \n",
       "  <svg xmlns=\"http://www.w3.org/2000/svg\" height=\"24px\"viewBox=\"0 0 24 24\"\n",
       "       width=\"24px\">\n",
       "    <path d=\"M0 0h24v24H0V0z\" fill=\"none\"/>\n",
       "    <path d=\"M18.56 5.44l.94 2.06.94-2.06 2.06-.94-2.06-.94-.94-2.06-.94 2.06-2.06.94zm-11 1L8.5 8.5l.94-2.06 2.06-.94-2.06-.94L8.5 2.5l-.94 2.06-2.06.94zm10 10l.94 2.06.94-2.06 2.06-.94-2.06-.94-.94-2.06-.94 2.06-2.06.94z\"/><path d=\"M17.41 7.96l-1.37-1.37c-.4-.4-.92-.59-1.43-.59-.52 0-1.04.2-1.43.59L10.3 9.45l-7.72 7.72c-.78.78-.78 2.05 0 2.83L4 21.41c.39.39.9.59 1.41.59.51 0 1.02-.2 1.41-.59l7.78-7.78 2.81-2.81c.8-.78.8-2.07 0-2.86zM5.41 20L4 18.59l7.72-7.72 1.47 1.35L5.41 20z\"/>\n",
       "  </svg>\n",
       "      </button>\n",
       "      \n",
       "  <style>\n",
       "    .colab-df-container {\n",
       "      display:flex;\n",
       "      flex-wrap:wrap;\n",
       "      gap: 12px;\n",
       "    }\n",
       "\n",
       "    .colab-df-convert {\n",
       "      background-color: #E8F0FE;\n",
       "      border: none;\n",
       "      border-radius: 50%;\n",
       "      cursor: pointer;\n",
       "      display: none;\n",
       "      fill: #1967D2;\n",
       "      height: 32px;\n",
       "      padding: 0 0 0 0;\n",
       "      width: 32px;\n",
       "    }\n",
       "\n",
       "    .colab-df-convert:hover {\n",
       "      background-color: #E2EBFA;\n",
       "      box-shadow: 0px 1px 2px rgba(60, 64, 67, 0.3), 0px 1px 3px 1px rgba(60, 64, 67, 0.15);\n",
       "      fill: #174EA6;\n",
       "    }\n",
       "\n",
       "    [theme=dark] .colab-df-convert {\n",
       "      background-color: #3B4455;\n",
       "      fill: #D2E3FC;\n",
       "    }\n",
       "\n",
       "    [theme=dark] .colab-df-convert:hover {\n",
       "      background-color: #434B5C;\n",
       "      box-shadow: 0px 1px 3px 1px rgba(0, 0, 0, 0.15);\n",
       "      filter: drop-shadow(0px 1px 2px rgba(0, 0, 0, 0.3));\n",
       "      fill: #FFFFFF;\n",
       "    }\n",
       "  </style>\n",
       "\n",
       "      <script>\n",
       "        const buttonEl =\n",
       "          document.querySelector('#df-a0f7fd52-b0d6-4ec7-b836-ac1616080872 button.colab-df-convert');\n",
       "        buttonEl.style.display =\n",
       "          google.colab.kernel.accessAllowed ? 'block' : 'none';\n",
       "\n",
       "        async function convertToInteractive(key) {\n",
       "          const element = document.querySelector('#df-a0f7fd52-b0d6-4ec7-b836-ac1616080872');\n",
       "          const dataTable =\n",
       "            await google.colab.kernel.invokeFunction('convertToInteractive',\n",
       "                                                     [key], {});\n",
       "          if (!dataTable) return;\n",
       "\n",
       "          const docLinkHtml = 'Like what you see? Visit the ' +\n",
       "            '<a target=\"_blank\" href=https://colab.research.google.com/notebooks/data_table.ipynb>data table notebook</a>'\n",
       "            + ' to learn more about interactive tables.';\n",
       "          element.innerHTML = '';\n",
       "          dataTable['output_type'] = 'display_data';\n",
       "          await google.colab.output.renderOutput(dataTable, element);\n",
       "          const docLink = document.createElement('div');\n",
       "          docLink.innerHTML = docLinkHtml;\n",
       "          element.appendChild(docLink);\n",
       "        }\n",
       "      </script>\n",
       "    </div>\n",
       "  </div>\n",
       "  "
      ],
      "text/plain": [
       "   index                                             tweets  \\\n",
       "0      4  As of 2 minutes ago, @OpenAI released their ne...   \n",
       "1      6  As of 2 minutes ago, @OpenAI released their ne...   \n",
       "2     10  GOD DAMN IT @OpenAI STOP ANNOUNCING THINGS I A...   \n",
       "3     17  #ai Models are set to become the search engine...   \n",
       "4     39  Google is done.\\n\\nCompare the quality of thes...   \n",
       "\n",
       "                                      cleaned_tweets  \\\n",
       "0          minute ago released new chatgpt use right   \n",
       "1          minute ago released new chatgpt use right   \n",
       "2                god damn stop announcing thing busy   \n",
       "3  model set become search engine future atm stil...   \n",
       "4       google done compare quality response chatgpt   \n",
       "\n",
       "                                      numeric_tweets labels  encoded_labels  \n",
       "0  [0, 0, 0, 0, 0, 0, 0, 0, 0, 0, 0, 0, 0, 0, 0, ...    bad               0  \n",
       "1  [0, 0, 0, 0, 0, 0, 0, 0, 0, 0, 0, 0, 0, 0, 0, ...    bad               0  \n",
       "2  [0, 0, 0, 0, 0, 0, 0, 0, 0, 0, 0, 0, 0, 0, 0, ...    bad               0  \n",
       "3  [0, 0, 0, 0, 0, 0, 0, 0, 0, 0, 0, 0, 0, 0, 0, ...    bad               0  \n",
       "4  [0, 0, 0, 0, 0, 0, 0, 0, 0, 0, 0, 0, 0, 0, 0, ...    bad               0  "
      ]
     },
     "execution_count": 14,
     "metadata": {},
     "output_type": "execute_result"
    }
   ],
   "source": [
    "final_data = data.drop(rows_todrop, inplace=False)\n",
    "print(len(data), len(final_data))\n",
    "final_data.head()"
   ]
  },
  {
   "cell_type": "markdown",
   "metadata": {
    "id": "4CfH4RrXQLFx"
   },
   "source": [
    "# Splitting Data: taining 80% and 20% for testing"
   ]
  },
  {
   "cell_type": "code",
   "execution_count": 15,
   "metadata": {
    "execution": {
     "iopub.execute_input": "2023-05-15T14:05:34.819585Z",
     "iopub.status.busy": "2023-05-15T14:05:34.818718Z",
     "iopub.status.idle": "2023-05-15T14:05:34.914333Z",
     "shell.execute_reply": "2023-05-15T14:05:34.913364Z",
     "shell.execute_reply.started": "2023-05-15T14:05:34.819546Z"
    },
    "id": "23NFqkc4xlRr"
   },
   "outputs": [],
   "source": [
    "#@title ***Splitting the dataset into training and testing sets***\n",
    "inputs = final_data[['tweets', 'cleaned_tweets', 'numeric_tweets']]\n",
    "outputs = final_data[['labels', 'encoded_labels']]\n",
    "\n",
    "in_train, in_test, out_train, out_test = train_test_split(inputs, outputs, test_size=0.2, shuffle=True, random_state=42)\n",
    "\n",
    "X_train = in_train['numeric_tweets']\n",
    "X_test = in_test['numeric_tweets'] \n",
    "y_train = out_train['encoded_labels']\n",
    "y_test = out_test['encoded_labels']"
   ]
  },
  {
   "cell_type": "markdown",
   "metadata": {
    "id": "lXZI42Y5QLFz"
   },
   "source": [
    "# Saving training and testing data into csv files"
   ]
  },
  {
   "cell_type": "code",
   "execution_count": null,
   "metadata": {
    "execution": {
     "iopub.execute_input": "2023-05-15T14:05:34.916524Z",
     "iopub.status.busy": "2023-05-15T14:05:34.915691Z",
     "iopub.status.idle": "2023-05-15T14:05:34.921245Z",
     "shell.execute_reply": "2023-05-15T14:05:34.920100Z",
     "shell.execute_reply.started": "2023-05-15T14:05:34.916472Z"
    },
    "id": "c5kefQQTQLFz"
   },
   "outputs": [],
   "source": [
    "#training_df = pd.concat([in_train, out_train], axis=1)\n",
    "#training_df.to_csv('training_data.csv', encoding='utf-8', index=False)\n",
    "#testing_df = pd.concat([in_test, out_test], axis=1)\n",
    "#testing_df.to_csv('testing_data.csv', encoding='utf-8', index=False)"
   ]
  },
  {
   "cell_type": "code",
   "execution_count": 16,
   "metadata": {
    "colab": {
     "base_uri": "https://localhost:8080/"
    },
    "execution": {
     "iopub.execute_input": "2023-05-15T14:05:34.923362Z",
     "iopub.status.busy": "2023-05-15T14:05:34.922986Z",
     "iopub.status.idle": "2023-05-15T14:05:38.141335Z",
     "shell.execute_reply": "2023-05-15T14:05:38.140424Z",
     "shell.execute_reply.started": "2023-05-15T14:05:34.923328Z"
    },
    "id": "3S4dK7uNQLF0",
    "outputId": "b331aa49-260a-4f03-f4b9-2412842bc2f4"
   },
   "outputs": [
    {
     "data": {
      "text/plain": [
       "numpy.ndarray"
      ]
     },
     "execution_count": 16,
     "metadata": {},
     "output_type": "execute_result"
    }
   ],
   "source": [
    "X_train = np.asarray(X_train.tolist())\n",
    "X_train = X_train.astype(np.int32)\n",
    "X_test = np.asarray(X_test.tolist()).astype(np.int32)\n",
    "y_train = np.asarray(y_train.tolist()).astype(np.int32)\n",
    "y_test = np.asarray(y_test.tolist()).astype(np.int32)\n",
    "type(X_train)"
   ]
  },
  {
   "cell_type": "code",
   "execution_count": 17,
   "metadata": {
    "colab": {
     "base_uri": "https://localhost:8080/"
    },
    "execution": {
     "iopub.execute_input": "2023-05-15T14:05:38.143533Z",
     "iopub.status.busy": "2023-05-15T14:05:38.142589Z",
     "iopub.status.idle": "2023-05-15T14:05:38.150540Z",
     "shell.execute_reply": "2023-05-15T14:05:38.149296Z",
     "shell.execute_reply.started": "2023-05-15T14:05:38.143478Z"
    },
    "id": "EzceUmZyQLF2",
    "outputId": "6b169a06-af99-44db-f265-c87c7e92da47"
   },
   "outputs": [
    {
     "data": {
      "text/plain": [
       "array([[   0,    0,    0, ...,  618,  106,  407],\n",
       "       [   0,    0,    0, ...,   46,    2, 2489],\n",
       "       [   0,    0,    0, ...,  949, 5749,   31],\n",
       "       ...,\n",
       "       [   0,    0,    0, ...,  104,  314,  178],\n",
       "       [   0,    0,    0, ..., 1108, 1815,   20],\n",
       "       [   0,    0,    0, ...,  195,  479,   46]], dtype=int32)"
      ]
     },
     "execution_count": 17,
     "metadata": {},
     "output_type": "execute_result"
    }
   ],
   "source": [
    "X_train"
   ]
  },
  {
   "cell_type": "markdown",
   "metadata": {
    "id": "nG8oS184QLF3"
   },
   "source": [
    "# Cnn training"
   ]
  },
  {
   "cell_type": "code",
   "execution_count": 18,
   "metadata": {
    "colab": {
     "base_uri": "https://localhost:8080/"
    },
    "execution": {
     "iopub.execute_input": "2023-05-15T14:05:38.153594Z",
     "iopub.status.busy": "2023-05-15T14:05:38.152299Z",
     "iopub.status.idle": "2023-05-15T14:06:21.441896Z",
     "shell.execute_reply": "2023-05-15T14:06:21.440770Z",
     "shell.execute_reply.started": "2023-05-15T14:05:38.153534Z"
    },
    "id": "a0qrxysbxvGE",
    "outputId": "349e7782-f1ab-47ca-a2c0-2ca0926aa2f5"
   },
   "outputs": [
    {
     "name": "stdout",
     "output_type": "stream",
     "text": [
      "Epoch 1/10\n",
      "118/118 [==============================] - 46s 287ms/step - loss: 0.7284 - accuracy: 0.6733 - val_loss: 0.4596 - val_accuracy: 0.8248\n",
      "Epoch 2/10\n",
      "118/118 [==============================] - 14s 121ms/step - loss: 0.3824 - accuracy: 0.8719 - val_loss: 0.3648 - val_accuracy: 0.8817\n",
      "Epoch 3/10\n",
      "118/118 [==============================] - 11s 92ms/step - loss: 0.3155 - accuracy: 0.9007 - val_loss: 0.3417 - val_accuracy: 0.8875\n",
      "Epoch 4/10\n",
      "118/118 [==============================] - 8s 66ms/step - loss: 0.2778 - accuracy: 0.9150 - val_loss: 0.3436 - val_accuracy: 0.8887\n",
      "Epoch 5/10\n",
      "118/118 [==============================] - 6s 55ms/step - loss: 0.2438 - accuracy: 0.9271 - val_loss: 0.3563 - val_accuracy: 0.8815\n",
      "Epoch 6/10\n",
      "118/118 [==============================] - 3s 24ms/step - loss: 0.2092 - accuracy: 0.9388 - val_loss: 0.3758 - val_accuracy: 0.8789\n"
     ]
    }
   ],
   "source": [
    "#@title ***Building the CNN model***\n",
    "from keras.callbacks import EarlyStopping\n",
    "model1 = Sequential()\n",
    "model1.add(Embedding(input_dim=num_words,output_dim=128, input_length=maxlen , trainable = True))\n",
    "\n",
    "model1.add(Conv1D(filters=32, kernel_size=3, activation='relu'))\n",
    "model1.add(MaxPooling1D(pool_size=2))\n",
    "model1.add(Flatten())\n",
    "model1.add(Dense(64, activation='relu'))\n",
    "model1.add(Dense(3, activation='softmax'))\n",
    "\n",
    "model1.compile(optimizer='adam', loss='sparse_categorical_crossentropy', metrics=['accuracy'])\n",
    "\n",
    "#model.fit(X_train, y_train, epochs=10, validation_data=(X_test, y_test))\n",
    "history1 = model1.fit(X_train, y_train, epochs=10, batch_size=1024, validation_split=0.1, callbacks=[EarlyStopping(monitor='val_loss', patience=3, min_delta=0.1)])\n"
   ]
  },
  {
   "cell_type": "markdown",
   "metadata": {
    "id": "gy1VEkTWQLF5"
   },
   "source": [
    "# Cnn testing : 87"
   ]
  },
  {
   "cell_type": "code",
   "execution_count": 20,
   "metadata": {
    "colab": {
     "base_uri": "https://localhost:8080/"
    },
    "execution": {
     "iopub.execute_input": "2023-05-15T14:06:21.444179Z",
     "iopub.status.busy": "2023-05-15T14:06:21.443833Z",
     "iopub.status.idle": "2023-05-15T14:07:06.238533Z",
     "shell.execute_reply": "2023-05-15T14:07:06.237469Z",
     "shell.execute_reply.started": "2023-05-15T14:06:21.444149Z"
    },
    "id": "GW8OQaOD2PD9",
    "outputId": "a5896bd1-a380-4aae-b2cd-2c10d8021330"
   },
   "outputs": [
    {
     "name": "stdout",
     "output_type": "stream",
     "text": [
      "1049/1049 [==============================] - 2s 2ms/step\n"
     ]
    }
   ],
   "source": [
    "predicted_labels = model1.predict(X_test, verbose=1)"
   ]
  },
  {
   "cell_type": "code",
   "execution_count": 23,
   "metadata": {
    "colab": {
     "base_uri": "https://localhost:8080/"
    },
    "id": "i3EaljT4w25B",
    "outputId": "af17677c-c336-4e6e-9483-706b0e4d3a52"
   },
   "outputs": [
    {
     "name": "stdout",
     "output_type": "stream",
     "text": [
      "{'accuracy': 0.8791844278176886, 'recall': 0.8783714262157626, 'precision': 0.8791594780966187, 'fscore': 0.878399590125014, 'mse': 0.2782066950845083, 'mae': 0.17327927981637703}\n"
     ]
    }
   ],
   "source": [
    "def get_measurements(true_y, pred_y, average='macro'):\n",
    "    accuracy = accuracy_score(true_y, pred_y)\n",
    "    recall = recall_score(true_y, pred_y, average=average)\n",
    "    precision = precision_score(true_y, pred_y, average=average)\n",
    "    fscore = f1_score(true_y, pred_y, average=average)\n",
    "    mse = mean_squared_error(true_y, pred_y)  # Calculate MSE\n",
    "    #auc_roc = roc_auc_score(true_y, pred_y, multi_class='ovr' )  # Calculate AUC-ROC\n",
    "    mae = mean_absolute_error(true_y, pred_y)  # Calculate MAE\n",
    "\n",
    "    measurements = {\n",
    "        \"accuracy\": accuracy,\n",
    "        \"recall\": recall,\n",
    "        \"precision\": precision,\n",
    "        \"fscore\": fscore,\n",
    "        \"mse\": mse,\n",
    "        \n",
    "        \"mae\": mae\n",
    "    }\n",
    "\n",
    "    return measurements\n",
    "\n",
    "    \n",
    "\n",
    "values= get_measurements(y_test, np.argmax(predicted_labels, axis=1))\n",
    "print(values)\n"
   ]
  },
  {
   "cell_type": "code",
   "execution_count": 25,
   "metadata": {
    "colab": {
     "base_uri": "https://localhost:8080/",
     "height": 472
    },
    "id": "3xF23On6xJVF",
    "outputId": "ecbba768-7faa-4eec-d566-0fe9e6500636"
   },
   "outputs": [
    {
     "data": {
      "image/png": "[encoded data removed]",
      "text/plain": [
       "<Figure size 640x480 with 1 Axes>"
      ]
     },
     "metadata": {},
     "output_type": "display_data"
    }
   ],
   "source": [
    "import matplotlib.pyplot as plt\n",
    "metrics = ['Accuracy', 'Recall', 'Precision', 'F1-Score','MSE','MAE']\n",
    "scores = [values[\"accuracy\"],values[\"recall\"], values[\"precision\"], values[\"fscore\"],values[\"mse\"],values[\"mae\"]]\n",
    "colors = ['b', 'g', 'r', 'c']\n",
    "plt.bar(metrics, scores, color=colors)\n",
    "\n",
    "# Add labels and title\n",
    "plt.xlabel('Evaluation Metrics')\n",
    "plt.ylabel('Score')\n",
    "plt.title('Model Performance - Bidirectional LSTM')\n",
    "\n",
    "# Set the y-axis limit to be between 0 and 1\n",
    "plt.ylim([0, 1])\n",
    "\n",
    "# Add text labels to each bar\n",
    "for i in range(len(metrics)):\n",
    "    plt.text(x=i, y=scores[i]+0.05, s=np.round(scores[i], 2), ha='center')\n",
    "\n",
    "# Display the chart\n",
    "plt.show()"
   ]
  },
  {
   "cell_type": "markdown",
   "metadata": {
    "id": "Y8lB6FRMQLF8"
   },
   "source": [
    "# Cnn prediction"
   ]
  },
  {
   "cell_type": "code",
   "execution_count": 26,
   "metadata": {
    "colab": {
     "base_uri": "https://localhost:8080/"
    },
    "execution": {
     "iopub.execute_input": "2023-05-15T14:07:06.241091Z",
     "iopub.status.busy": "2023-05-15T14:07:06.240589Z",
     "iopub.status.idle": "2023-05-15T14:07:06.522292Z",
     "shell.execute_reply": "2023-05-15T14:07:06.521215Z",
     "shell.execute_reply.started": "2023-05-15T14:07:06.241050Z"
    },
    "id": "fQ74zMy9lEwV",
    "outputId": "1e025e26-e244-4b1c-b6d8-132316306b76"
   },
   "outputs": [
    {
     "name": "stdout",
     "output_type": "stream",
     "text": [
      "1/1 [==============================] - 0s 184ms/step\n",
      "1/1 [==============================] - 0s 22ms/step\n"
     ]
    },
    {
     "data": {
      "text/plain": [
       "(array([[9.99715626e-01, 2.10110866e-05, 2.63337715e-04],\n",
       "        [1.07928410e-01, 5.95144136e-03, 8.86120141e-01],\n",
       "        [4.55436937e-04, 9.99456227e-01, 8.82735549e-05],\n",
       "        [9.23149381e-03, 8.84826660e-01, 1.05941854e-01],\n",
       "        [1.79169321e-04, 9.99145746e-01, 6.75135059e-04]], dtype=float32),\n",
       "                                               Tweets   labels\n",
       " 0  The worst result, I did not expect that unwant...      bad\n",
       " 1  my name is ahmed i want to became a data scien...  neutral\n",
       " 2  woooow, chatgt is really impressive i can not ...     good\n",
       " 3  chatgpt is an AI helpful tool to help solve co...     good\n",
       " 4  good results when i use this tool i like it an...     good)"
      ]
     },
     "execution_count": 26,
     "metadata": {},
     "output_type": "execute_result"
    }
   ],
   "source": [
    "def predict_user_input(tweets , model):\n",
    "    data = pd.DataFrame({ 'Tweets': tweets })\n",
    "    cleaned_data = data['Tweets'].apply(clean_dataset)\n",
    "    sequences = tokenizer.texts_to_sequences(cleaned_data)\n",
    "    pad_seqs = pad_sequences(sequences, maxlen=maxlen)\n",
    "    predicted_labels = model.predict(pad_seqs)\n",
    "    data['labels'] = [ label_encoder.classes_[label_num] for label_num in np.argmax(predicted_labels, axis=1)]\n",
    "    #print(data)\n",
    "    return predicted_labels, data \n",
    "\n",
    "\n",
    "predict_user_input([\n",
    "    'chatgpt is very crazy !', \n",
    "    'chatgpt is kind a dangerous', \n",
    "    'woooow, chatgt is really impressive !!!',\n",
    "    \"chatgpt is an AI tool\",\n",
    "    \"good results\"] , model1)\n",
    "\n",
    "predict_user_input([\n",
    "    \"The worst result, I did not expect that unwanted results. it is a useless tool\",\n",
    "    \"my name is ahmed i want to became a data scientist\",\n",
    "    'woooow, chatgt is really impressive i can not imagine how chatgpt generate solution like humans  ',\n",
    "    \"chatgpt is an AI helpful tool to help solve complex problems and take less time than traditional way i like it\",\n",
    "    \"good results when i use this tool i like it and it helped me and better than google\"\n",
    "] , model1)\n",
    "\n"
   ]
  },
  {
   "cell_type": "code",
   "execution_count": 27,
   "metadata": {
    "execution": {
     "iopub.execute_input": "2023-05-15T14:07:06.524875Z",
     "iopub.status.busy": "2023-05-15T14:07:06.523839Z",
     "iopub.status.idle": "2023-05-15T14:07:06.531950Z",
     "shell.execute_reply": "2023-05-15T14:07:06.530779Z",
     "shell.execute_reply.started": "2023-05-15T14:07:06.524836Z"
    },
    "id": "Ab3aq6SBQLF_"
   },
   "outputs": [],
   "source": [
    "import matplotlib.pyplot as plt\n",
    "def plot_graphs(history, string):\n",
    "    plt.plot(history.history[string])\n",
    "    plt.plot(history.history['val_'+string])\n",
    "    plt.xlabel(\"Epochs\")\n",
    "    plt.ylabel(string)\n",
    "    plt.legend([string, 'val_'+string])\n",
    "    plt.show()\n"
   ]
  },
  {
   "cell_type": "code",
   "execution_count": null,
   "metadata": {
    "colab": {
     "base_uri": "https://localhost:8080/",
     "height": 881
    },
    "execution": {
     "iopub.execute_input": "2023-05-15T14:07:06.534540Z",
     "iopub.status.busy": "2023-05-15T14:07:06.533672Z",
     "iopub.status.idle": "2023-05-15T14:07:07.106484Z",
     "shell.execute_reply": "2023-05-15T14:07:07.105459Z",
     "shell.execute_reply.started": "2023-05-15T14:07:06.534475Z"
    },
    "id": "h15bsUa1QLGA",
    "outputId": "1408d907-1a66-4350-f7f3-5366e1bbe72d"
   },
   "outputs": [
    {
     "data": {
      "image/png": "[encoded data removed]",
      "text/plain": [
       "<Figure size 640x480 with 1 Axes>"
      ]
     },
     "metadata": {},
     "output_type": "display_data"
    },
    {
     "data": {
      "image/png": "[encoded data removed]",
      "text/plain": [
       "<Figure size 640x480 with 1 Axes>"
      ]
     },
     "metadata": {},
     "output_type": "display_data"
    }
   ],
   "source": [
    "plot_graphs(history1, \"accuracy\")\n",
    "plot_graphs(history1, \"loss\")"
   ]
  },
  {
   "cell_type": "code",
   "execution_count": 28,
   "metadata": {
    "colab": {
     "base_uri": "https://localhost:8080/"
    },
    "execution": {
     "iopub.execute_input": "2023-05-15T14:07:07.109068Z",
     "iopub.status.busy": "2023-05-15T14:07:07.108010Z",
     "iopub.status.idle": "2023-05-15T14:09:49.519900Z",
     "shell.execute_reply": "2023-05-15T14:09:49.518898Z",
     "shell.execute_reply.started": "2023-05-15T14:07:07.109027Z"
    },
    "id": "6-6dYCrBQLGB",
    "outputId": "3cf9ede7-b606-40d5-8b8f-08af54c272eb"
   },
   "outputs": [
    {
     "name": "stdout",
     "output_type": "stream",
     "text": [
      "enter sentence or x for exit: Try talking with ChatGPT, our new AI system which is optimized for dialogue. Your feedback will help us improve it.\n",
      "1/1 [==============================] - 0s 100ms/step\n",
      "(array([[0.0016311 , 0.99637896, 0.00198998]], dtype=float32),                                               Tweets labels\n",
      "0  Try talking with ChatGPT, our new AI system wh...   good)\n",
      "enter sentence or x for exit: x\n"
     ]
    }
   ],
   "source": [
    "def userIn(mo):\n",
    "    x=input(\"enter sentence or x for exit: \")\n",
    "    while x != \"x\":\n",
    "        print(predict_user_input([x] , mo))\n",
    "        x=input(\"enter sentence or x for exit: \")\n",
    "        \n",
    "userIn(model1)"
   ]
  }
 ],
 "metadata": {
  "accelerator": "GPU",
  "colab": {
   "gpuType": "T4",
   "provenance": []
  },
  "kernelspec": {
   "display_name": "Python 3 (ipykernel)",
   "language": "python",
   "name": "python3"
  },
  "language_info": {
   "codemirror_mode": {
    "name": "ipython",
    "version": 3
   },
   "file_extension": ".py",
   "mimetype": "text/x-python",
   "name": "python",
   "nbconvert_exporter": "python",
   "pygments_lexer": "ipython3",
   "version": "3.10.9"
  }
 },
 "nbformat": 4,
 "nbformat_minor": 1
}
